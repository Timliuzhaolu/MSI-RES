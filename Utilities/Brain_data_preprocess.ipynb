{
 "cells": [
  {
   "cell_type": "markdown",
   "metadata": {
    "id": "2Kgh9mYmK3q_"
   },
   "source": [
    "# Brain visualisation"
   ]
  },
  {
   "cell_type": "markdown",
   "metadata": {
    "id": "JEBdV8YBOK01"
   },
   "source": [
    "dim of the image is 395*223, there are 1717 images in total"
   ]
  },
  {
   "cell_type": "code",
   "execution_count": null,
   "metadata": {
    "id": "1xM5LAFxRIEY"
   },
   "outputs": [],
   "source": [
    "import h5py\n",
    "import numpy as np\n",
    "from PIL import Image\n",
    "import matplotlib.pyplot as plt\n",
    "%matplotlib inline \n",
    "import matplotlib.image as mpimg"
   ]
  },
  {
   "cell_type": "code",
   "execution_count": null,
   "metadata": {
    "id": "c52PBMEJJTfe"
   },
   "outputs": [],
   "source": [
    "f = h5py.File('/content/drive/MyDrive/Brain_data/count_matrix_multisample.h5', 'r')"
   ]
  },
  {
   "cell_type": "code",
   "execution_count": null,
   "metadata": {
    "colab": {
     "base_uri": "https://localhost:8080/"
    },
    "id": "VOLr5hw5K3Ds",
    "outputId": "4342cb65-3ae1-4bed-cebe-f1bec55ad58c"
   },
   "outputs": [],
   "source": [
    "list(f.keys())"
   ]
  },
  {
   "cell_type": "code",
   "execution_count": null,
   "metadata": {
    "id": "cPspUTL1K3GM"
   },
   "outputs": [],
   "source": [
    "dset = f['counts_mat']"
   ]
  },
  {
   "cell_type": "code",
   "execution_count": null,
   "metadata": {
    "colab": {
     "base_uri": "https://localhost:8080/"
    },
    "id": "ImYUNaVfK3It",
    "outputId": "f6054d4c-7ec5-4832-8aba-cd74f195579b"
   },
   "outputs": [],
   "source": [
    "dset.shape"
   ]
  },
  {
   "cell_type": "code",
   "execution_count": null,
   "metadata": {
    "colab": {
     "base_uri": "https://localhost:8080/"
    },
    "id": "9rVl0nArMyFf",
    "outputId": "22232bbf-a50d-4ef6-952a-7443e84b84b1"
   },
   "outputs": [],
   "source": [
    "dset[:,0].shape"
   ]
  },
  {
   "cell_type": "code",
   "execution_count": null,
   "metadata": {
    "colab": {
     "base_uri": "https://localhost:8080/"
    },
    "id": "Y-dXqldzPUvO",
    "outputId": "e4e78217-c8d3-4543-fc40-8db09e2377a6"
   },
   "outputs": [],
   "source": [
    "reshaped_to_2d = np.reshape(dset[:,0], (223, -1))\n",
    "print(reshaped_to_2d.shape)"
   ]
  },
  {
   "cell_type": "code",
   "execution_count": null,
   "metadata": {
    "id": "ZCiJc9u4RPlH"
   },
   "outputs": [],
   "source": [
    "def normalize8(I):\n",
    "  mn = I.min()\n",
    "  mx = I.max()\n",
    "  mx -= mn\n",
    "  I = ((I - mn)/mx) * 255.0 \n",
    "  return np.round(I).astype(np.uint8)"
   ]
  },
  {
   "cell_type": "code",
   "execution_count": null,
   "metadata": {
    "id": "SKd5cIzIRQBR"
   },
   "outputs": [],
   "source": [
    "normlised = normalize8(reshaped_to_2d)"
   ]
  },
  {
   "cell_type": "code",
   "execution_count": null,
   "metadata": {
    "id": "CPfEIwKpS6Qk"
   },
   "outputs": [],
   "source": [
    "img = Image.fromarray(normlised)"
   ]
  },
  {
   "cell_type": "code",
   "execution_count": null,
   "metadata": {
    "colab": {
     "base_uri": "https://localhost:8080/",
     "height": 260
    },
    "id": "r8ZBEdpFS9CI",
    "outputId": "a3422871-3150-4dc1-b066-b176c3084d0f"
   },
   "outputs": [],
   "source": [
    "img"
   ]
  },
  {
   "cell_type": "code",
   "execution_count": null,
   "metadata": {
    "colab": {
     "base_uri": "https://localhost:8080/"
    },
    "id": "gZmZjYSyTjmT",
    "outputId": "e1ff2ac5-9f24-4ede-efc5-17ff865ccbfc"
   },
   "outputs": [],
   "source": [
    "223/4, 395/4"
   ]
  },
  {
   "cell_type": "code",
   "execution_count": null,
   "metadata": {
    "id": "ian0GGiMFLjT"
   },
   "outputs": [],
   "source": [
    "shrink = normlised[0:220, 0:392]\n",
    "img_shrink = Image.fromarray(shrink)\n",
    "img_shrink"
   ]
  },
  {
   "cell_type": "code",
   "execution_count": null,
   "metadata": {
    "id": "6UkVlwdXCPna"
   },
   "outputs": [],
   "source": [
    "enlarged = np.zeros((223, 395), dtype='uint8')\n",
    "enlarged[0:220, 0:392] = shrink\n",
    "img_enlarged = Image.fromarray(enlarged)\n",
    "img_enlarged"
   ]
  },
  {
   "cell_type": "code",
   "execution_count": null,
   "metadata": {
    "colab": {
     "base_uri": "https://localhost:8080/"
    },
    "id": "N78m1jv7H69t",
    "outputId": "4c9b56f1-1c8f-4c7f-874e-5fbd82ddafe8"
   },
   "outputs": [],
   "source": [
    "np.array_equal(enlarged, normlised)"
   ]
  },
  {
   "cell_type": "markdown",
   "metadata": {
    "id": "rvL_omvCI495"
   },
   "source": [
    "# Create hr png for ESRGAN"
   ]
  },
  {
   "cell_type": "code",
   "execution_count": null,
   "metadata": {
    "id": "b0jwtiDHLfJN"
   },
   "outputs": [],
   "source": [
    "import h5py\n",
    "import numpy as np\n",
    "from PIL import Image\n",
    "import matplotlib.pyplot as plt\n",
    "%matplotlib inline \n",
    "import matplotlib.image as mpimg\n",
    "from tqdm import tqdm"
   ]
  },
  {
   "cell_type": "code",
   "execution_count": null,
   "metadata": {
    "id": "HUqzBpU2LfJO"
   },
   "outputs": [],
   "source": [
    "f = h5py.File('/content/drive/MyDrive/Brain_data/count_matrix_multisample.h5', 'r')"
   ]
  },
  {
   "cell_type": "code",
   "execution_count": null,
   "metadata": {
    "id": "_uxRHfo5J-_Z"
   },
   "outputs": [],
   "source": [
    "def normalize8(I):\n",
    "  mn = I.min()\n",
    "  mx = I.max()\n",
    "  mx -= mn\n",
    "  I = ((I - mn)/mx) * 255.0 \n",
    "  return np.round(I).astype(np.uint8)"
   ]
  },
  {
   "cell_type": "code",
   "execution_count": null,
   "metadata": {
    "colab": {
     "base_uri": "https://localhost:8080/"
    },
    "id": "wVo9Lx1WIeRT",
    "outputId": "b160fabc-7d16-46c7-f49a-4ce67d0fca47"
   },
   "outputs": [],
   "source": [
    "dset = f['counts_mat']\n",
    "num = dset.shape[1]\n",
    "\n",
    "shrinks = []\n",
    "for i in tqdm(range(num)):\n",
    "  flat_arr = dset[:,i]\n",
    "  reshaped_to_2d = np.reshape(flat_arr, (223, -1)) \n",
    "  shrink = reshaped_to_2d[0:220, 0:392]\n",
    "  shrinks.append(shrink)"
   ]
  },
  {
   "cell_type": "code",
   "execution_count": null,
   "metadata": {
    "colab": {
     "base_uri": "https://localhost:8080/"
    },
    "id": "Z4lTvEXANm4m",
    "outputId": "8d58ab9f-0960-4492-dec3-20753f553fcd"
   },
   "outputs": [],
   "source": [
    "np.array(shrinks).shape"
   ]
  },
  {
   "cell_type": "code",
   "execution_count": null,
   "metadata": {
    "colab": {
     "base_uri": "https://localhost:8080/"
    },
    "id": "KCWdoRzhNupo",
    "outputId": "53faee84-b5d6-46bf-917e-f6584909b627"
   },
   "outputs": [],
   "source": [
    "shrinks[0].shape"
   ]
  },
  {
   "cell_type": "markdown",
   "metadata": {
    "id": "_PqgCnzyOx2f"
   },
   "source": [
    "min value in all images are 0, just need to record the maximum value"
   ]
  },
  {
   "cell_type": "code",
   "execution_count": null,
   "metadata": {
    "colab": {
     "base_uri": "https://localhost:8080/"
    },
    "id": "OsGvdJa0JVCm",
    "outputId": "c4e1236d-9d31-4366-b7c0-7754c3f5a3cd"
   },
   "outputs": [],
   "source": [
    "max_val = []\n",
    "savedir = '/content/drive/MyDrive/Brain_data/HR/'\n",
    "for i in tqdm(range(num)):\n",
    "  shrink = shrinks[i]\n",
    "  max = shrink.max()\n",
    "  max_val.append(max)\n",
    "  normalised = shrink/max * 255.0 \n",
    "  arr_8bit = np.round(normalised).astype(np.uint8)\n",
    "  stacked_img = np.stack((arr_8bit,)*3, axis=-1)\n",
    "  img = Image.fromarray(stacked_img)\n",
    "  img.save(savedir + 'brain_peak' + str(i) + '.png')"
   ]
  },
  {
   "cell_type": "code",
   "execution_count": null,
   "metadata": {
    "id": "KB6E3NP_UfAb"
   },
   "outputs": [],
   "source": [
    "import pickle \n",
    "with open('/content/drive/MyDrive/Brain_data/max_val.pkl', 'wb') as f:\n",
    "   pickle.dump(max_val, f)"
   ]
  },
  {
   "cell_type": "markdown",
   "metadata": {
    "id": "G1VagJ6_U3ov"
   },
   "source": [
    "# Get LR counterpart"
   ]
  },
  {
   "cell_type": "code",
   "execution_count": null,
   "metadata": {
    "id": "QtviasmUVRcg"
   },
   "outputs": [],
   "source": [
    "import cv2\n",
    "from google.colab.patches import cv2_imshow\n",
    "import os"
   ]
  },
  {
   "cell_type": "code",
   "execution_count": null,
   "metadata": {
    "colab": {
     "base_uri": "https://localhost:8080/"
    },
    "id": "IxY8E4tiU6TA",
    "outputId": "a4b84335-8be2-4c48-a315-b7e5df3a4171"
   },
   "outputs": [],
   "source": [
    "img = cv2.imread('/content/drive/MyDrive/Brain_data/HR/brain_peak0.png')\n",
    "img.shape"
   ]
  },
  {
   "cell_type": "code",
   "execution_count": null,
   "metadata": {
    "id": "6itgzUk9Vhag"
   },
   "outputs": [],
   "source": [
    "img_resized = cv2.resize(img, None, fx=0.25, fy=0.25, interpolation=cv2.INTER_CUBIC)"
   ]
  },
  {
   "cell_type": "code",
   "execution_count": null,
   "metadata": {
    "colab": {
     "base_uri": "https://localhost:8080/"
    },
    "id": "szVw8DqMXg1P",
    "outputId": "09657845-f28e-4b60-d063-5c2acd18dd41"
   },
   "outputs": [],
   "source": [
    "img_resized.shape"
   ]
  },
  {
   "cell_type": "code",
   "execution_count": null,
   "metadata": {
    "colab": {
     "base_uri": "https://localhost:8080/",
     "height": 93
    },
    "id": "2XvT-hQRXwPP",
    "outputId": "ce3c1534-5e2b-4789-d748-a1b425e1f6d9"
   },
   "outputs": [],
   "source": [
    "cv2_imshow(img_resized)"
   ]
  },
  {
   "cell_type": "code",
   "execution_count": null,
   "metadata": {
    "colab": {
     "base_uri": "https://localhost:8080/"
    },
    "id": "LcAiaQEPWjsp",
    "outputId": "3189b1d2-3a74-4f27-e58c-acdea71a5acf"
   },
   "outputs": [],
   "source": [
    "cv2.imwrite('test.png', img_resized)"
   ]
  },
  {
   "cell_type": "code",
   "execution_count": null,
   "metadata": {
    "colab": {
     "base_uri": "https://localhost:8080/"
    },
    "id": "jd1cuIdKXac6",
    "outputId": "56bcd2c1-9a01-4aa0-9f0f-98f263016e2c"
   },
   "outputs": [],
   "source": [
    "filelist = os.listdir('/content/drive/MyDrive/Brain_data/HR/')\n",
    "directory = '/content/drive/MyDrive/Brain_data/HR/'\n",
    "savedir = '/content/drive/MyDrive/Brain_data/LR/'\n",
    "for i in tqdm(filelist):\n",
    "  img = cv2.imread(directory + i)\n",
    "  img_resized = cv2.resize(img, None, fx=0.25, fy=0.25, interpolation=cv2.INTER_CUBIC)\n",
    "  cv2.imwrite(savedir + i, img_resized)"
   ]
  },
  {
   "cell_type": "code",
   "execution_count": null,
   "metadata": {
    "colab": {
     "base_uri": "https://localhost:8080/"
    },
    "id": "j5enEVRBZMFm",
    "outputId": "f8397662-0d38-4529-a988-e20d70f1c99a"
   },
   "outputs": [],
   "source": [
    "len(os.listdir(savedir))"
   ]
  },
  {
   "cell_type": "markdown",
   "metadata": {
    "id": "J6DI8Uhcolvm"
   },
   "source": [
    "# Scale back to original size"
   ]
  },
  {
   "cell_type": "code",
   "execution_count": null,
   "metadata": {
    "id": "UnL91rnxo6Yo"
   },
   "outputs": [],
   "source": [
    "import pickle\n",
    "import os\n",
    "from PIL import Image\n",
    "import numpy as np\n",
    "from tqdm import tqdm\n",
    "import matplotlib.pyplot as plt"
   ]
  },
  {
   "cell_type": "code",
   "execution_count": null,
   "metadata": {
    "id": "E-V__EjksX3u"
   },
   "outputs": [],
   "source": [
    "from natsort import natsorted"
   ]
  },
  {
   "cell_type": "code",
   "execution_count": null,
   "metadata": {
    "id": "0q45rDM9o8Uj"
   },
   "outputs": [],
   "source": [
    "with open('/content/drive/MyDrive/Brain_data/scale_factor/max_val.pkl', 'rb') as f:\n",
    "  max_val = pickle.load(f)"
   ]
  },
  {
   "cell_type": "code",
   "execution_count": null,
   "metadata": {
    "colab": {
     "base_uri": "https://localhost:8080/"
    },
    "id": "waNKH-qKWvtA",
    "outputId": "31162d08-d9c7-4b6f-f217-1b143c7690c2"
   },
   "outputs": [],
   "source": [
    "max_val[0]"
   ]
  },
  {
   "cell_type": "code",
   "execution_count": null,
   "metadata": {
    "id": "tKtlVNIxpq_I"
   },
   "outputs": [],
   "source": [
    "directory = '/content/drive/MyDrive/Brain_data/RES/'\n",
    "filelist = os.listdir(directory)\n",
    "filelist.sort()"
   ]
  },
  {
   "cell_type": "code",
   "execution_count": null,
   "metadata": {
    "id": "qAynZXIts4Zb"
   },
   "outputs": [],
   "source": [
    "sorted = natsorted(filelist)"
   ]
  },
  {
   "cell_type": "code",
   "execution_count": null,
   "metadata": {
    "colab": {
     "base_uri": "https://localhost:8080/"
    },
    "id": "yiqGCFmgXDBd",
    "outputId": "de237969-7130-4945-8c5b-357da7444d9d"
   },
   "outputs": [],
   "source": [
    "enlarged = np.zeros((223, 395), dtype='uint8')\n",
    "mat = []\n",
    "for ind, i in tqdm(enumerate(sorted[0:3])):\n",
    "  img = Image.open(directory + i)\n",
    "  arr = np.array(img)\n",
    "  arr_1d = arr[:,:,0]\n",
    "  base = os.path.splitext(i)[0]\n",
    "  enlarged[0:220, 0:392] = arr_1d\n",
    "\n",
    "  max = max_val[ind]\n",
    "  scaled = enlarged * max / 255.0\n",
    "  scaled_int = scaled.astype(int)\n",
    "  mat.append(scaled)"
   ]
  },
  {
   "cell_type": "code",
   "execution_count": null,
   "metadata": {
    "colab": {
     "base_uri": "https://localhost:8080/"
    },
    "id": "mJk9ivVWXULn",
    "outputId": "14169b31-a28e-4006-b2fc-1217faa30001"
   },
   "outputs": [],
   "source": [
    "arr_1d[15:20, 20:30]"
   ]
  },
  {
   "cell_type": "code",
   "execution_count": null,
   "metadata": {
    "colab": {
     "base_uri": "https://localhost:8080/"
    },
    "id": "FoW7dqFyX7hF",
    "outputId": "351c207b-5c06-4792-a337-050120999e30"
   },
   "outputs": [],
   "source": [
    "scaled_int = np.matrix.round(scaled)\n",
    "scaled_int[15:20, 20:30].dtype"
   ]
  },
  {
   "cell_type": "code",
   "execution_count": null,
   "metadata": {
    "id": "mlQmlkxAjfXG"
   },
   "outputs": [],
   "source": [
    "res_scale = np.load('/content/drive/MyDrive/Brain_data/Scaled_RES/brain_peak3.npy')"
   ]
  },
  {
   "cell_type": "code",
   "execution_count": null,
   "metadata": {
    "colab": {
     "base_uri": "https://localhost:8080/",
     "height": 277
    },
    "id": "J6Vjtk_qY-zM",
    "outputId": "62caa46d-5835-4085-ce18-6464b45f8bb7"
   },
   "outputs": [],
   "source": [
    "plt.imshow(res_scale)"
   ]
  },
  {
   "cell_type": "code",
   "execution_count": null,
   "metadata": {
    "colab": {
     "base_uri": "https://localhost:8080/"
    },
    "id": "dk77YAH2pllx",
    "outputId": "a5db6078-8cbf-46ff-ca3a-f730bad836f6"
   },
   "outputs": [],
   "source": [
    "enlarged = np.zeros((223, 395), dtype='uint8')\n",
    "savedir = '/content/drive/MyDrive/Brain_data/Scaled_RES/'\n",
    "for ind, i in tqdm(enumerate(sorted)):\n",
    "  img = Image.open(directory + i)\n",
    "  arr = np.array(img)\n",
    "  arr_1d = arr[:,:,0]\n",
    "  base = os.path.splitext(i)[0]\n",
    "  enlarged[0:220, 0:392] = arr_1d\n",
    "\n",
    "  max = max_val[ind]\n",
    "  scaled = enlarged * max / 255.0\n",
    "  np.save(savedir + base + '.npy', scaled)"
   ]
  },
  {
   "cell_type": "code",
   "execution_count": null,
   "metadata": {
    "colab": {
     "base_uri": "https://localhost:8080/"
    },
    "id": "jS346S7ruhqZ",
    "outputId": "253b9e81-4709-49f4-bcfa-10a73331543d"
   },
   "outputs": [],
   "source": [
    "len(os.listdir(savedir))"
   ]
  },
  {
   "cell_type": "code",
   "execution_count": null,
   "metadata": {
    "id": "Lc4QFgy0xpwj"
   },
   "outputs": [],
   "source": []
  },
  {
   "cell_type": "markdown",
   "metadata": {
    "id": "O0s1KXy1m4-M"
   },
   "source": [
    "# other 3 Brains visualisation"
   ]
  },
  {
   "cell_type": "code",
   "execution_count": null,
   "metadata": {
    "id": "qsurIhHjm4-N"
   },
   "outputs": [],
   "source": [
    "import h5py\n",
    "import numpy as np\n",
    "from PIL import Image\n",
    "import matplotlib.pyplot as plt\n",
    "%matplotlib inline \n",
    "import matplotlib.image as mpimg"
   ]
  },
  {
   "cell_type": "code",
   "execution_count": null,
   "metadata": {
    "id": "GuC84w2Jm4-N"
   },
   "outputs": [],
   "source": [
    "f2 = h5py.File('/content/drive/MyDrive/Brain_data/count_matrix_multisample2.h5', 'r')\n",
    "f3 = h5py.File('/content/drive/MyDrive/Brain_data/count_matrix_multisample3.h5', 'r')\n",
    "f4 = h5py.File('/content/drive/MyDrive/Brain_data/count_matrix_multisample4.h5', 'r')"
   ]
  },
  {
   "cell_type": "code",
   "execution_count": null,
   "metadata": {
    "id": "mkG6xwC5m4-O"
   },
   "outputs": [],
   "source": [
    "dset2 = f2['counts_mat']\n",
    "dset3 = f3['counts_mat']\n",
    "dset4 = f4['counts_mat']"
   ]
  },
  {
   "cell_type": "code",
   "execution_count": null,
   "metadata": {
    "colab": {
     "base_uri": "https://localhost:8080/"
    },
    "id": "16CBkBa9m4-O",
    "outputId": "ef267729-22c6-4d92-b091-8abc074e123e"
   },
   "outputs": [],
   "source": [
    "print(f2['dim_xy'][1], f2['dim_xy'][0])"
   ]
  },
  {
   "cell_type": "code",
   "execution_count": null,
   "metadata": {
    "colab": {
     "base_uri": "https://localhost:8080/"
    },
    "id": "L-K0On_um4-O",
    "outputId": "d5e78e4f-d3ea-4240-eba5-c1700b93b6ac"
   },
   "outputs": [],
   "source": [
    "dset2.shape"
   ]
  },
  {
   "cell_type": "code",
   "execution_count": null,
   "metadata": {
    "colab": {
     "base_uri": "https://localhost:8080/"
    },
    "id": "HuhZbiAFn_Sl",
    "outputId": "4a9d58bd-d033-4776-85fa-b7ddfee41c60"
   },
   "outputs": [],
   "source": [
    "print(f3['dim_xy'][1], f3['dim_xy'][0])"
   ]
  },
  {
   "cell_type": "code",
   "execution_count": null,
   "metadata": {
    "colab": {
     "base_uri": "https://localhost:8080/"
    },
    "id": "siC6L09EoEJ2",
    "outputId": "6f1fb563-0b0e-4b92-c608-c81801c94e4a"
   },
   "outputs": [],
   "source": [
    "print(f4['dim_xy'][1], f4['dim_xy'][0])"
   ]
  },
  {
   "cell_type": "code",
   "execution_count": null,
   "metadata": {
    "id": "cZlKkldFm4-O"
   },
   "outputs": [],
   "source": [
    "reshaped_2 = np.reshape(dset2[:,0], (231, -1))\n",
    "reshaped_3 = np.reshape(dset3[:,0], (167, -1))\n",
    "reshaped_4 = np.reshape(dset4[:,0], (179, -1))"
   ]
  },
  {
   "cell_type": "code",
   "execution_count": null,
   "metadata": {
    "id": "KhYmXSkdm4-P"
   },
   "outputs": [],
   "source": [
    "def normalize8(I):\n",
    "  mn = I.min()\n",
    "  mx = I.max()\n",
    "  mx -= mn\n",
    "  I = ((I - mn)/mx) * 255.0 \n",
    "  return np.round(I).astype(np.uint8)"
   ]
  },
  {
   "cell_type": "code",
   "execution_count": null,
   "metadata": {
    "id": "9egP_Aaom4-P"
   },
   "outputs": [],
   "source": [
    "normlised_2 = normalize8(reshaped_2)\n",
    "normlised_3 = normalize8(reshaped_3)\n",
    "normlised_4 = normalize8(reshaped_4)"
   ]
  },
  {
   "cell_type": "code",
   "execution_count": null,
   "metadata": {
    "id": "Jv2wwrzYm4-P"
   },
   "outputs": [],
   "source": [
    "img_2 = Image.fromarray(normlised_2)"
   ]
  },
  {
   "cell_type": "code",
   "execution_count": null,
   "metadata": {
    "colab": {
     "base_uri": "https://localhost:8080/",
     "height": 268
    },
    "id": "5oTFECVRm4-P",
    "outputId": "7c04eaa7-a427-4221-ba03-fba7d1908df6"
   },
   "outputs": [],
   "source": [
    "img_2"
   ]
  },
  {
   "cell_type": "code",
   "execution_count": null,
   "metadata": {
    "colab": {
     "base_uri": "https://localhost:8080/",
     "height": 205
    },
    "id": "SrDTxGDio1uw",
    "outputId": "0bde105d-b6c0-427e-fe4d-d6f40406b86a"
   },
   "outputs": [],
   "source": [
    "img_3 = Image.fromarray(normlised_3)\n",
    "img_3"
   ]
  },
  {
   "cell_type": "code",
   "execution_count": null,
   "metadata": {
    "colab": {
     "base_uri": "https://localhost:8080/",
     "height": 216
    },
    "id": "9J400OVNo5A2",
    "outputId": "eb4f0712-0be9-412d-a5c1-67018149ac21"
   },
   "outputs": [],
   "source": [
    "img_4 = Image.fromarray(normlised_4)\n",
    "img_4"
   ]
  },
  {
   "cell_type": "code",
   "execution_count": null,
   "metadata": {
    "colab": {
     "base_uri": "https://localhost:8080/",
     "height": 266
    },
    "id": "23yEWSytm4-Q",
    "outputId": "f19884b5-d5bd-4a14-98bd-4b354256653e"
   },
   "outputs": [],
   "source": [
    "shrink_2 = normlised_2[0:228, 0:396]\n",
    "img_shrink_2 = Image.fromarray(shrink_2)\n",
    "img_shrink_2"
   ]
  },
  {
   "cell_type": "code",
   "execution_count": null,
   "metadata": {
    "colab": {
     "base_uri": "https://localhost:8080/",
     "height": 201
    },
    "id": "vF33bO4fpKVt",
    "outputId": "d4d6d1f6-14c4-4719-eb91-7b1eedaf433c"
   },
   "outputs": [],
   "source": [
    "shrink_3 = normlised_3[0:164, 0:424]\n",
    "img_shrink_3 = Image.fromarray(shrink_3)\n",
    "img_shrink_3"
   ]
  },
  {
   "cell_type": "code",
   "execution_count": null,
   "metadata": {
    "colab": {
     "base_uri": "https://localhost:8080/",
     "height": 213
    },
    "id": "P0FTW_OxpK8i",
    "outputId": "30ab7df7-d427-4246-a029-0e8de3c23091"
   },
   "outputs": [],
   "source": [
    "shrink_4 = normlised_4[0:176, 0:416]\n",
    "img_shrink_4 = Image.fromarray(shrink_4)\n",
    "img_shrink_4"
   ]
  },
  {
   "cell_type": "code",
   "execution_count": null,
   "metadata": {
    "id": "JPsqKEGbq-yX"
   },
   "outputs": [],
   "source": []
  },
  {
   "cell_type": "markdown",
   "metadata": {
    "id": "gulQVBCKrCo4"
   },
   "source": [
    "# get HR of the other 3 brains"
   ]
  },
  {
   "cell_type": "code",
   "execution_count": null,
   "metadata": {
    "id": "tZXQzJCRq_Aa"
   },
   "outputs": [],
   "source": [
    "import h5py\n",
    "import numpy as np\n",
    "from PIL import Image\n",
    "import matplotlib.pyplot as plt\n",
    "%matplotlib inline \n",
    "import matplotlib.image as mpimg\n",
    "from tqdm import tqdm"
   ]
  },
  {
   "cell_type": "code",
   "execution_count": null,
   "metadata": {
    "id": "rJY_bFGJscp2"
   },
   "outputs": [],
   "source": [
    "f2 = h5py.File('/content/drive/MyDrive/Brain_data/count_matrix_multisample2.h5', 'r')\n",
    "f3 = h5py.File('/content/drive/MyDrive/Brain_data/count_matrix_multisample3.h5', 'r')\n",
    "f4 = h5py.File('/content/drive/MyDrive/Brain_data/count_matrix_multisample4.h5', 'r')"
   ]
  },
  {
   "cell_type": "code",
   "execution_count": null,
   "metadata": {
    "id": "GKp_UTpZscp3"
   },
   "outputs": [],
   "source": [
    "dset2 = f2['counts_mat']\n",
    "dset3 = f3['counts_mat']\n",
    "dset4 = f4['counts_mat']"
   ]
  },
  {
   "cell_type": "code",
   "execution_count": null,
   "metadata": {
    "colab": {
     "base_uri": "https://localhost:8080/"
    },
    "id": "2-7yJMmjq_Ab",
    "outputId": "124b4c12-38bd-48ee-fc26-ec520fdc5518"
   },
   "outputs": [],
   "source": [
    "dset_02 = f2['counts_mat']\n",
    "num = dset_02.shape[1]\n",
    "\n",
    "shrinks_02 = []\n",
    "for i in tqdm(range(num)):\n",
    "  flat_arr = dset_02[:,i]\n",
    "  reshaped_to_2d = np.reshape(flat_arr, (231, 399)) \n",
    "  shrink_02 = reshaped_to_2d[0:228, 0:396]\n",
    "  shrinks_02.append(shrink_02)"
   ]
  },
  {
   "cell_type": "code",
   "execution_count": null,
   "metadata": {
    "colab": {
     "base_uri": "https://localhost:8080/"
    },
    "id": "4i5JyMlZu7rb",
    "outputId": "17aca54b-7854-47f8-bc0d-da7aafc162f9"
   },
   "outputs": [],
   "source": [
    "dset_03 = f3['counts_mat']\n",
    "num = dset_03.shape[1]\n",
    "\n",
    "shrinks_03 = []\n",
    "for i in tqdm(range(num)):\n",
    "  flat_arr = dset_03[:,i]\n",
    "  reshaped_to_2d = np.reshape(flat_arr, (167, -1)) \n",
    "  shrink_03 = reshaped_to_2d[0:164, 0:424]\n",
    "  shrinks_03.append(shrink_03)"
   ]
  },
  {
   "cell_type": "code",
   "execution_count": null,
   "metadata": {
    "colab": {
     "base_uri": "https://localhost:8080/"
    },
    "id": "pftvNGY5viEy",
    "outputId": "456c7b11-5c6c-4ede-8990-5eb7a5b3ca90"
   },
   "outputs": [],
   "source": [
    "dset_04 = f4['counts_mat']\n",
    "num = dset_04.shape[1]\n",
    "\n",
    "shrinks_04 = []\n",
    "for i in tqdm(range(num)):\n",
    "  flat_arr = dset_04[:,i]\n",
    "  reshaped_to_2d = np.reshape(flat_arr, (179, -1)) \n",
    "  shrink_04 = reshaped_to_2d[0:176, 0:416]\n",
    "  shrinks_04.append(shrink_04)"
   ]
  },
  {
   "cell_type": "code",
   "execution_count": null,
   "metadata": {
    "colab": {
     "base_uri": "https://localhost:8080/"
    },
    "id": "uoDJUzFkq_Ac",
    "outputId": "bbfce357-3fc8-4e6a-b82d-c1f7a644b489"
   },
   "outputs": [],
   "source": [
    "np.array(shrinks_02).shape"
   ]
  },
  {
   "cell_type": "markdown",
   "metadata": {
    "id": "mDGqu5iDq_Ac"
   },
   "source": [
    "min value in all images are 0, just need to record the maximum value"
   ]
  },
  {
   "cell_type": "code",
   "execution_count": null,
   "metadata": {
    "colab": {
     "base_uri": "https://localhost:8080/"
    },
    "id": "25cT4lbYq_Ad",
    "outputId": "82c7c6f3-1b6b-466a-c4e7-d6fa136cdb04"
   },
   "outputs": [],
   "source": [
    "max_val_2 = []\n",
    "savedir = '/content/drive/MyDrive/Brain_data/HR_2/'\n",
    "for i in tqdm(range(num)):\n",
    "  shrink = shrinks_02[i]\n",
    "  max = shrink.max()\n",
    "  max_val_2.append(max)\n",
    "  normalised = shrink/max * 255.0 \n",
    "  arr_8bit = np.round(normalised).astype(np.uint8)\n",
    "  stacked_img = np.stack((arr_8bit,)*3, axis=-1)\n",
    "  img = Image.fromarray(stacked_img)\n",
    "  img.save(savedir + 'brain2peak' + str(i) + '.png')"
   ]
  },
  {
   "cell_type": "code",
   "execution_count": null,
   "metadata": {
    "colab": {
     "base_uri": "https://localhost:8080/"
    },
    "id": "X09BnsMS40_P",
    "outputId": "11dce524-bbbb-40e9-f904-79dfcace6441"
   },
   "outputs": [],
   "source": [
    "max_val_3 = []\n",
    "savedir = '/content/drive/MyDrive/Brain_data/HR_3/'\n",
    "for i in tqdm(range(num)):\n",
    "  shrink = shrinks_03[i]\n",
    "  max = shrink.max()\n",
    "  max_val_3.append(max)\n",
    "  normalised = shrink/max * 255.0 \n",
    "  arr_8bit = np.round(normalised).astype(np.uint8)\n",
    "  stacked_img = np.stack((arr_8bit,)*3, axis=-1)\n",
    "  img = Image.fromarray(stacked_img)\n",
    "  img.save(savedir + 'brain3peak' + str(i) + '.png')"
   ]
  },
  {
   "cell_type": "code",
   "execution_count": null,
   "metadata": {
    "colab": {
     "base_uri": "https://localhost:8080/"
    },
    "id": "ypbbBGUK5HdD",
    "outputId": "27122ade-5248-4483-ce35-905b29700e1c"
   },
   "outputs": [],
   "source": [
    "max_val_4 = []\n",
    "savedir = '/content/drive/MyDrive/Brain_data/HR_4/'\n",
    "for i in tqdm(range(num)):\n",
    "  shrink = shrinks_04[i]\n",
    "  max = shrink.max()\n",
    "  max_val_4.append(max)\n",
    "  normalised = shrink/max * 255.0 \n",
    "  arr_8bit = np.round(normalised).astype(np.uint8)\n",
    "  stacked_img = np.stack((arr_8bit,) * 3, axis=-1)\n",
    "  img = Image.fromarray(stacked_img)\n",
    "  img.save(savedir + 'brain4peak' + str(i) + '.png')"
   ]
  },
  {
   "cell_type": "code",
   "execution_count": null,
   "metadata": {
    "id": "J2Uwc0G4q_Ad"
   },
   "outputs": [],
   "source": [
    "import pickle \n",
    "with open('/content/drive/MyDrive/Brain_data/max_val_2.pkl', 'wb') as k:\n",
    "   pickle.dump(max_val_2, k)"
   ]
  },
  {
   "cell_type": "code",
   "execution_count": null,
   "metadata": {
    "id": "0KdJuWF24jGf"
   },
   "outputs": [],
   "source": [
    "with open('/content/drive/MyDrive/Brain_data/max_val_3.pkl', 'wb') as j:\n",
    "   pickle.dump(max_val_3, j)\n",
    "with open('/content/drive/MyDrive/Brain_data/max_val_4.pkl', 'wb') as q:\n",
    "   pickle.dump(max_val_4, q)"
   ]
  },
  {
   "cell_type": "markdown",
   "metadata": {
    "id": "ub8Ff7BP7v5-"
   },
   "source": [
    "# Get LR counterpart"
   ]
  },
  {
   "cell_type": "code",
   "execution_count": null,
   "metadata": {
    "id": "uu6EJMbT7v6A"
   },
   "outputs": [],
   "source": [
    "import cv2\n",
    "from google.colab.patches import cv2_imshow\n",
    "import os"
   ]
  },
  {
   "cell_type": "code",
   "execution_count": null,
   "metadata": {
    "colab": {
     "base_uri": "https://localhost:8080/"
    },
    "id": "URtQMrmz7v6C",
    "outputId": "6f1f4e02-5ee5-45a8-fa44-e8f0a57eb00a"
   },
   "outputs": [],
   "source": [
    "filelist = os.listdir('/content/drive/MyDrive/Brain_data/HR_2/')\n",
    "directory = '/content/drive/MyDrive/Brain_data/HR_2/'\n",
    "savedir = '/content/drive/MyDrive/Brain_data/LR_2/'\n",
    "for i in tqdm(filelist):\n",
    "  img = cv2.imread(directory + i)\n",
    "  img_resized = cv2.resize(img, None, fx=0.25, fy=0.25, interpolation=cv2.INTER_CUBIC)\n",
    "  cv2.imwrite(savedir + i, img_resized)"
   ]
  },
  {
   "cell_type": "code",
   "execution_count": null,
   "metadata": {
    "colab": {
     "base_uri": "https://localhost:8080/"
    },
    "id": "6RtUzuIz8M2q",
    "outputId": "54ec44a7-5d13-44a4-ca70-f3a73d751cf8"
   },
   "outputs": [],
   "source": [
    "filelist = os.listdir('/content/drive/MyDrive/Brain_data/HR_3/')\n",
    "directory = '/content/drive/MyDrive/Brain_data/HR_3/'\n",
    "savedir = '/content/drive/MyDrive/Brain_data/LR_3/'\n",
    "for i in tqdm(filelist):\n",
    "  img = cv2.imread(directory + i)\n",
    "  img_resized = cv2.resize(img, None, fx=0.25, fy=0.25, interpolation=cv2.INTER_CUBIC)\n",
    "  cv2.imwrite(savedir + i, img_resized)"
   ]
  },
  {
   "cell_type": "code",
   "execution_count": null,
   "metadata": {
    "colab": {
     "base_uri": "https://localhost:8080/"
    },
    "id": "3DDVtP8F8NtX",
    "outputId": "343e48e7-84be-47ff-e820-990fafe1a6cf"
   },
   "outputs": [],
   "source": [
    "filelist = os.listdir('/content/drive/MyDrive/Brain_data/HR_4/')\n",
    "directory = '/content/drive/MyDrive/Brain_data/HR_4/'\n",
    "savedir = '/content/drive/MyDrive/Brain_data/LR_4/'\n",
    "for i in tqdm(filelist):\n",
    "  img = cv2.imread(directory + i)\n",
    "  img_resized = cv2.resize(img, None, fx=0.25, fy=0.25, interpolation=cv2.INTER_CUBIC)\n",
    "  cv2.imwrite(savedir + i, img_resized)"
   ]
  },
  {
   "cell_type": "code",
   "execution_count": null,
   "metadata": {
    "colab": {
     "base_uri": "https://localhost:8080/"
    },
    "id": "3Tp8UTSg7v6C",
    "outputId": "f8397662-0d38-4529-a988-e20d70f1c99a"
   },
   "outputs": [],
   "source": [
    "len(os.listdir(savedir))"
   ]
  },
  {
   "cell_type": "markdown",
   "metadata": {
    "id": "AkIVz2n-87Dw"
   },
   "source": [
    "# Scale back to original size"
   ]
  },
  {
   "cell_type": "code",
   "execution_count": null,
   "metadata": {
    "id": "Q3k5wWlt87Dx"
   },
   "outputs": [],
   "source": [
    "import pickle\n",
    "import os\n",
    "from PIL import Image\n",
    "import numpy as np\n",
    "from tqdm import tqdm"
   ]
  },
  {
   "cell_type": "code",
   "execution_count": null,
   "metadata": {
    "id": "R5gUfXi_87Dx"
   },
   "outputs": [],
   "source": [
    "from natsort import natsorted"
   ]
  },
  {
   "cell_type": "markdown",
   "metadata": {
    "id": "V-6CF1nIVQtn"
   },
   "source": [
    "## Brain 2"
   ]
  },
  {
   "cell_type": "code",
   "execution_count": null,
   "metadata": {
    "id": "OvC-vEzF87Dx"
   },
   "outputs": [],
   "source": [
    "with open('/content/drive/MyDrive/Brain_data/scale_factor/max_val_2.pkl', 'rb') as f:\n",
    "  max_val_2 = pickle.load(f)"
   ]
  },
  {
   "cell_type": "code",
   "execution_count": null,
   "metadata": {
    "id": "MJqFKXtg87Dy"
   },
   "outputs": [],
   "source": [
    "directory = '/content/drive/MyDrive/Brain_data/RES_2/'\n",
    "filelist = os.listdir(directory)\n",
    "filelist.sort()"
   ]
  },
  {
   "cell_type": "code",
   "execution_count": null,
   "metadata": {
    "id": "OK6tjzbw87Dy"
   },
   "outputs": [],
   "source": [
    "sorted = natsorted(filelist)"
   ]
  },
  {
   "cell_type": "code",
   "execution_count": null,
   "metadata": {
    "colab": {
     "base_uri": "https://localhost:8080/"
    },
    "id": "RUkPEn3287Dy",
    "outputId": "ee25dfde-ab5f-4306-e75a-73a564fe5709"
   },
   "outputs": [],
   "source": [
    "enlarged = np.zeros((231, 399), dtype='uint8')\n",
    "savedir = '/content/drive/MyDrive/Brain_data/Scaled_RES_2/'\n",
    "for ind, i in tqdm(enumerate(sorted)):\n",
    "  img = Image.open(directory + i)\n",
    "  arr = np.array(img)\n",
    "  arr_1d = arr[:,:,0]\n",
    "  base = os.path.splitext(i)[0]\n",
    "  enlarged[0:228, 0:396] = arr_1d\n",
    "\n",
    "  max = max_val_2[ind]\n",
    "  scaled = enlarged * max / 255.0\n",
    "  np.save(savedir + base + '.npy', scaled)"
   ]
  },
  {
   "cell_type": "code",
   "execution_count": null,
   "metadata": {
    "colab": {
     "base_uri": "https://localhost:8080/"
    },
    "id": "pSQPXsJW87Dy",
    "outputId": "761ee3ec-7e0b-4989-8674-951f1e8f2688"
   },
   "outputs": [],
   "source": [
    "len(os.listdir(savedir))"
   ]
  },
  {
   "cell_type": "markdown",
   "metadata": {
    "id": "hY7qtCbNVUA_"
   },
   "source": [
    "## Brain 3"
   ]
  },
  {
   "cell_type": "code",
   "execution_count": null,
   "metadata": {
    "id": "pAs7DZ3yVUBA"
   },
   "outputs": [],
   "source": [
    "with open('/content/drive/MyDrive/Brain_data/scale_factor/max_val_3.pkl', 'rb') as f:\n",
    "  max_val_3 = pickle.load(f)"
   ]
  },
  {
   "cell_type": "code",
   "execution_count": null,
   "metadata": {
    "id": "bVAaPiMgVUBA"
   },
   "outputs": [],
   "source": [
    "directory = '/content/drive/MyDrive/Brain_data/RES_3/'\n",
    "filelist = os.listdir(directory)\n",
    "filelist.sort()"
   ]
  },
  {
   "cell_type": "code",
   "execution_count": null,
   "metadata": {
    "id": "NletlTn5VUBA"
   },
   "outputs": [],
   "source": [
    "sorted = natsorted(filelist)"
   ]
  },
  {
   "cell_type": "code",
   "execution_count": null,
   "metadata": {
    "colab": {
     "base_uri": "https://localhost:8080/"
    },
    "id": "3cElRP5fVUBA",
    "outputId": "2205fdc8-a453-47c7-91c4-006c19f3f117"
   },
   "outputs": [],
   "source": [
    "enlarged = np.zeros((167, 424), dtype='uint8')\n",
    "savedir = '/content/drive/MyDrive/Brain_data/Scaled_RES_3/'\n",
    "for ind, i in tqdm(enumerate(sorted)):\n",
    "  img = Image.open(directory + i)\n",
    "  arr = np.array(img)\n",
    "  arr_1d = arr[:,:,0]\n",
    "  base = os.path.splitext(i)[0]\n",
    "  enlarged[0:164, 0:424] = arr_1d\n",
    "\n",
    "  max = max_val_3[ind]\n",
    "  scaled = enlarged * max / 255.0\n",
    "  np.save(savedir + base + '.npy', scaled)"
   ]
  },
  {
   "cell_type": "code",
   "execution_count": null,
   "metadata": {
    "colab": {
     "base_uri": "https://localhost:8080/"
    },
    "id": "CgnnHrFpVUBB",
    "outputId": "c69ff630-e556-4e28-9553-53d9d6bebc9b"
   },
   "outputs": [],
   "source": [
    "len(os.listdir(savedir))"
   ]
  },
  {
   "cell_type": "code",
   "execution_count": null,
   "metadata": {
    "id": "rj-Qi0UjWMmJ"
   },
   "outputs": [],
   "source": []
  },
  {
   "cell_type": "markdown",
   "metadata": {
    "id": "9PFNT2qrWNL9"
   },
   "source": [
    "## Brain 4"
   ]
  },
  {
   "cell_type": "code",
   "execution_count": null,
   "metadata": {
    "id": "AsqQuDwpWNL9"
   },
   "outputs": [],
   "source": [
    "with open('/content/drive/MyDrive/Brain_data/scale_factor/max_val_4.pkl', 'rb') as f:\n",
    "  max_val_4 = pickle.load(f)"
   ]
  },
  {
   "cell_type": "code",
   "execution_count": null,
   "metadata": {
    "id": "eqOc2HunWNL-"
   },
   "outputs": [],
   "source": [
    "directory = '/content/drive/MyDrive/Brain_data/RES_4/'\n",
    "filelist = os.listdir(directory)\n",
    "filelist.sort()"
   ]
  },
  {
   "cell_type": "code",
   "execution_count": null,
   "metadata": {
    "id": "LNXzj-N4WNL-"
   },
   "outputs": [],
   "source": [
    "sorted = natsorted(filelist)"
   ]
  },
  {
   "cell_type": "code",
   "execution_count": null,
   "metadata": {
    "colab": {
     "base_uri": "https://localhost:8080/",
     "height": 58
    },
    "id": "uN5RseogccO4",
    "outputId": "5046767e-924f-43a1-a229-42d325ee8b9c"
   },
   "outputs": [],
   "source": [
    "sorted[0]"
   ]
  },
  {
   "cell_type": "code",
   "execution_count": null,
   "metadata": {
    "colab": {
     "base_uri": "https://localhost:8080/"
    },
    "id": "Npukr5B6WNL-",
    "outputId": "11e56a04-7a2c-4071-bb5e-20575a298dc7"
   },
   "outputs": [],
   "source": [
    "enlarged = np.zeros((179, 419), dtype='uint8')\n",
    "savedir = '/content/drive/MyDrive/Brain_data/Scaled_RES_4/'\n",
    "for ind, i in tqdm(enumerate(sorted)):\n",
    "  img = Image.open(directory + i)\n",
    "  arr = np.array(img)\n",
    "  arr_1d = arr[:,:,0]\n",
    "  base = os.path.splitext(i)[0]\n",
    "  enlarged[0:176, 0:416] = arr_1d\n",
    "\n",
    "  max = max_val_4[ind]\n",
    "  scaled = enlarged * max / 255.0\n",
    "  np.save(savedir + base + '.npy', scaled)"
   ]
  },
  {
   "cell_type": "code",
   "execution_count": null,
   "metadata": {
    "colab": {
     "base_uri": "https://localhost:8080/"
    },
    "id": "9MYGaKS-WNL-",
    "outputId": "253b9e81-4709-49f4-bcfa-10a73331543d"
   },
   "outputs": [],
   "source": [
    "len(os.listdir(savedir))"
   ]
  }
 ],
 "metadata": {
  "colab": {
   "collapsed_sections": [],
   "name": "Brain_preprocess.ipynb",
   "provenance": []
  },
  "kernelspec": {
   "display_name": "Python 3",
   "language": "python",
   "name": "python3"
  },
  "language_info": {
   "codemirror_mode": {
    "name": "ipython",
    "version": 3
   },
   "file_extension": ".py",
   "mimetype": "text/x-python",
   "name": "python",
   "nbconvert_exporter": "python",
   "pygments_lexer": "ipython3",
   "version": "3.7.9"
  }
 },
 "nbformat": 4,
 "nbformat_minor": 1
}
