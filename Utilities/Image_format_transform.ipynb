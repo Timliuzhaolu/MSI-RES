{
 "cells": [
  {
   "cell_type": "code",
   "execution_count": null,
   "metadata": {
    "id": "nW8XbT91gn0b"
   },
   "outputs": [],
   "source": [
    "from PIL import Image\n",
    "import numpy as np\n",
    "import os"
   ]
  },
  {
   "cell_type": "markdown",
   "metadata": {
    "id": "yjap8KzNfGlX"
   },
   "source": [
    "# png2npy"
   ]
  },
  {
   "cell_type": "code",
   "execution_count": null,
   "metadata": {
    "id": "MAgOHUGvho4u"
   },
   "outputs": [],
   "source": [
    "HR_directory = '/content/drive/MyDrive/Train_esrgan/HR_newselect/'\n",
    "LR_directory = '/content/drive/MyDrive/Train_esrgan/LR_newselect/'"
   ]
  },
  {
   "cell_type": "code",
   "execution_count": null,
   "metadata": {
    "id": "cpfniUxqiIum"
   },
   "outputs": [],
   "source": [
    "sample = os.listdir(LR_directory)[0]"
   ]
  },
  {
   "cell_type": "code",
   "execution_count": null,
   "metadata": {
    "colab": {
     "base_uri": "https://localhost:8080/"
    },
    "id": "F8sZPbagiFxY",
    "outputId": "f8cd634b-f547-4bf7-c55e-c391c5c4580d"
   },
   "outputs": [
    {
     "data": {
      "text/plain": [
       "(23, 44, 3)"
      ]
     },
     "execution_count": 35,
     "metadata": {
      "tags": []
     },
     "output_type": "execute_result"
    }
   ],
   "source": [
    "img= Image.open(LR_directory + sample)\n",
    "np_img = np.array(img)\n",
    "np_img.shape"
   ]
  },
  {
   "cell_type": "code",
   "execution_count": null,
   "metadata": {
    "id": "Wg0ZXZfJiVCD"
   },
   "outputs": [],
   "source": [
    "train = os.listdir(LR_directory)[:1200]\n",
    "test = os.listdir(LR_directory)[1200:1300]\n",
    "val = os.listdir(LR_directory)[1300:]"
   ]
  },
  {
   "cell_type": "code",
   "execution_count": null,
   "metadata": {
    "id": "ikGKesuli-E_"
   },
   "outputs": [],
   "source": [
    "def png2npy(mode, directory, savedir):\n",
    "  for i in mode:\n",
    "    base = os.path.splitext(i)[0]\n",
    "    img = Image.open(directory + i)\n",
    "    np_img = np.array(img)\n",
    "    np.save(savedir + base + '.npy',np_img)"
   ]
  },
  {
   "cell_type": "code",
   "execution_count": null,
   "metadata": {
    "id": "bFFhUoHlfM_5"
   },
   "outputs": [],
   "source": []
  },
  {
   "cell_type": "markdown",
   "metadata": {
    "id": "qRDyMGnv9Ei3"
   },
   "source": [
    "# tif2npy"
   ]
  },
  {
   "cell_type": "code",
   "execution_count": null,
   "metadata": {
    "id": "G7xmqfn39Ijl"
   },
   "outputs": [],
   "source": [
    "def tif2npy(directory, savedir):\n",
    "  filelist = os.listdir(directory)\n",
    "  for i in filelist:\n",
    "    base = os.path.splitext(i)[0]\n",
    "    img = Image.open(directory + i)\n",
    "    np_img = np.array(img)\n",
    "    np.save(savedir + base + '.npy', np_img)"
   ]
  },
  {
   "cell_type": "markdown",
   "metadata": {
    "id": "6A0alUiy5jbc"
   },
   "source": [
    "# npy2png"
   ]
  },
  {
   "cell_type": "code",
   "execution_count": null,
   "metadata": {
    "id": "YIV6XZyY25cl"
   },
   "outputs": [],
   "source": [
    "from PIL import Image\n",
    "import numpy as np\n",
    "import os\n",
    "from tqdm import tqdm"
   ]
  },
  {
   "cell_type": "code",
   "execution_count": null,
   "metadata": {
    "id": "L_3k_w3Q5sbn"
   },
   "outputs": [],
   "source": [
    "def npy2png(directory, savedir):\n",
    "  filelist = os.listdir(directory)\n",
    "  for i in tqdm(filelist):\n",
    "    base = os.path.splitext(i)[0]\n",
    "    img_arr = np.load(directory + i)\n",
    "    img = Image.fromarray(img_arr)\n",
    "    img.save(savedir + base + '.png')"
   ]
  },
  {
   "cell_type": "markdown",
   "metadata": {
    "id": "JnCmBCBKwZdI"
   },
   "source": [
    "# npy2tif"
   ]
  },
  {
   "cell_type": "code",
   "execution_count": null,
   "metadata": {
    "id": "qW6MmHsWwc_X"
   },
   "outputs": [],
   "source": [
    "from PIL import Image\n",
    "import numpy as np\n",
    "import os\n",
    "from tqdm import tqdm\n",
    "import numpy as np\n",
    "from tifffile import imsave, imread"
   ]
  },
  {
   "cell_type": "markdown",
   "metadata": {},
   "source": [
    "# stacking tiffs"
   ]
  },
  {
   "cell_type": "code",
   "execution_count": null,
   "metadata": {
    "id": "uoQOoenVwc_X"
   },
   "outputs": [],
   "source": [
    "import numpy as np\n",
    "from PIL import Image\n",
    "from tifffile import imwrite, imread\n",
    "import os\n",
    "\n",
    "from google.colab import drive\n",
    "drive.mount('/content/drive')\n",
    "\n",
    "import glob\n",
    "import tifffile\n",
    "\n",
    "with tifffile.TiffWriter('/content/drive/MyDrive/Train_care/noise_newselect/liver2.tif') as stack:\n",
    "    filelist = glob.glob('/content/drive/MyDrive/train_lr_tif_newselect/liver2*.tif')\n",
    "    filelist.sort()\n",
    "    for filename in filelist:\n",
    "        stack.save(\n",
    "            tifffile.imread(filename), \n",
    "            photometric='minisblack', \n",
    "            contiguous=True\n",
    "        )def npy2tif(directory, savedir):\n",
    "  filelist = os.listdir(directory)\n",
    "  for i in tqdm(filelist):\n",
    "    base = os.path.splitext(i)[0]\n",
    "    img_arr = np.load(directory + i)\n",
    "    imsave(savedir + base + '.tif', img_arr)"
   ]
  }
 ],
 "metadata": {
  "colab": {
   "collapsed_sections": [],
   "name": "Image_format_transform",
   "provenance": []
  },
  "kernelspec": {
   "display_name": "Python 3",
   "language": "python",
   "name": "python3"
  },
  "language_info": {
   "codemirror_mode": {
    "name": "ipython",
    "version": 3
   },
   "file_extension": ".py",
   "mimetype": "text/x-python",
   "name": "python",
   "nbconvert_exporter": "python",
   "pygments_lexer": "ipython3",
   "version": "3.7.9"
  }
 },
 "nbformat": 4,
 "nbformat_minor": 1
}
