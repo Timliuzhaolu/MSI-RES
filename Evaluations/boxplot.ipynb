{
 "cells": [
  {
   "cell_type": "code",
   "execution_count": null,
   "metadata": {
    "id": "TC3-TbTzM-ov"
   },
   "outputs": [],
   "source": [
    "import numpy as np\n",
    "import scipy.io\n",
    "import pandas as pd\n",
    "import os\n",
    "from skimage.transform import rotate\n",
    "import matplotlib.pyplot as plt\n"
   ]
  },
  {
   "cell_type": "code",
   "execution_count": null,
   "metadata": {
    "colab": {
     "base_uri": "https://localhost:8080/"
    },
    "id": "wdQ8PT0LP-ze",
    "outputId": "b7570496-986e-4f28-eb8e-112769a73089"
   },
   "outputs": [],
   "source": [
    "from google.colab import drive\n",
    "drive.mount('/content/drive')"
   ]
  },
  {
   "cell_type": "markdown",
   "metadata": {
    "id": "V25itQ-5NLQn"
   },
   "source": [
    "# only restored"
   ]
  },
  {
   "cell_type": "code",
   "execution_count": null,
   "metadata": {
    "id": "I8SX8i4MM-oz"
   },
   "outputs": [],
   "source": [
    "newliver1_prob = scipy.io.loadmat('evaluation metrics/metrics_eval_care_400_30_newselect_newliver1_prob.mat')\n",
    "newliver1 = scipy.io.loadmat('evaluation metrics/metrics_eval_care_400_30_newselect_newliver1.mat')\n",
    "newliver2_prob = scipy.io.loadmat('evaluation metrics/metrics_eval_care_400_30_newselect_newliver2_prob.mat')\n",
    "newliver2 = scipy.io.loadmat('evaluation metrics/metrics_eval_care_400_30_newselect_newliver2.mat')"
   ]
  },
  {
   "cell_type": "code",
   "execution_count": null,
   "metadata": {
    "id": "WXD0YwZcM-o0",
    "outputId": "7c1a443c-08d0-480d-9c19-e67f332a1eee"
   },
   "outputs": [],
   "source": [
    "newliver1_prob['qscores100_SR'][0]"
   ]
  },
  {
   "cell_type": "code",
   "execution_count": null,
   "metadata": {
    "id": "OlRVmcnPM-o2",
    "outputId": "def62d64-f69b-4ea4-c98b-00f121803ad7"
   },
   "outputs": [],
   "source": [
    "len(newliver1_prob['qscores100_SR'])"
   ]
  },
  {
   "cell_type": "code",
   "execution_count": null,
   "metadata": {
    "id": "9oL2LammM-o3"
   },
   "outputs": [],
   "source": [
    "def pnsr(data):\n",
    "    mat = scipy.io.loadmat(data)\n",
    "    length = len(mat['qscores100_SR'])\n",
    "    \n",
    "    lr_pnsrs = []\n",
    "    res_pnsrs = []\n",
    "    \n",
    "    for i in range(length):\n",
    "        lr_pnsr = mat['qscores100_SR'][i][0,0]\n",
    "        res_pnsr = mat['qscores100_SR'][i][0,1]\n",
    "        lr_pnsrs.append(lr_pnsr)\n",
    "        res_pnsrs.append(res_pnsr)\n",
    "        \n",
    "    return lr_pnsrs, res_pnsrs\n",
    "\n",
    "def piqe(data):\n",
    "    mat = scipy.io.loadmat(data)\n",
    "    length = len(mat['qscores100_SR'])\n",
    "    \n",
    "    lr_piqes = []\n",
    "    res_piqes = []\n",
    "    hr_piqes = []\n",
    "    \n",
    "    for i in range(length):\n",
    "        lr_piqe = mat['qscores100_SR'][i][4,0]\n",
    "        res_piqe = mat['qscores100_SR'][i][4,1]\n",
    "        hr_piqe = mat['qscores100_SR'][i][4,2]\n",
    "        lr_piqes.append(lr_piqe)\n",
    "        res_piqes.append(res_piqe)\n",
    "        hr_piqes.append(hr_piqe)\n",
    "        \n",
    "    return lr_piqes, res_piqes, hr_piqes\n",
    "\n",
    "def brisque(data):\n",
    "    mat = scipy.io.loadmat(data)\n",
    "    length = len(mat['qscores100_SR'])\n",
    "    \n",
    "    lr_brisques = []\n",
    "    res_brisques = []\n",
    "    hr_brisques = []\n",
    "    \n",
    "    for i in range(length):\n",
    "        lr_brisque = mat['qscores100_SR'][i][3,0]\n",
    "        res_brisque = mat['qscores100_SR'][i][3,1]\n",
    "        hr_brisque = mat['qscores100_SR'][i][3,2]\n",
    "        lr_brisques.append(lr_brisque)\n",
    "        res_brisques.append(res_brisque)\n",
    "        hr_brisques.append(hr_brisque)\n",
    "        \n",
    "    return lr_brisques, res_brisques, hr_brisques"
   ]
  },
  {
   "cell_type": "code",
   "execution_count": null,
   "metadata": {
    "id": "TWHdnQ5dM-o4"
   },
   "outputs": [],
   "source": [
    "nl1_prob = 'evaluation metrics/metrics_eval_care_400_30_newselect_newliver1_prob.mat'\n",
    "nl1 = 'evaluation metrics/metrics_eval_care_400_30_newselect_newliver1.mat'\n",
    "nl2_prob = 'evaluation metrics/metrics_eval_care_400_30_newselect_newliver2_prob.mat'\n",
    "nl2 = 'evaluation metrics/metrics_eval_care_400_30_newselect_newliver2.mat'\n",
    "l1_prob = 'evaluation metrics/metrics_eval_care_400_30_newselect_prob.mat'\n",
    "l1 = 'evaluation metrics/metrics_eval_care_400_30_newselect.mat'"
   ]
  },
  {
   "cell_type": "code",
   "execution_count": null,
   "metadata": {
    "id": "v_0ASEoVM-o4"
   },
   "outputs": [],
   "source": [
    "nl1_prob_lr_pnsrs, nl1_prob_res_pnsrs = pnsr(nl1_prob)\n",
    "nl1_prob_lr_piqes, nl1_prob_res_piqes, nl1_prob_hr_piqes = piqe(nl1_prob)\n",
    "nl1_prob_lr_brisques, nl1_prob_res_brisques, nl1_prob_hr_brisques = brisque(nl1_prob)\n",
    "\n",
    "nl1_lr_pnsrs, nl1_res_pnsrs = pnsr(nl1)\n",
    "nl1_lr_piqes, nl1_res_piqes, nl1_hr_piqes = piqe(nl1)\n",
    "nl1_lr_brisques, nl1_res_brisques, nl1_hr_brisques = brisque(nl1)"
   ]
  },
  {
   "cell_type": "code",
   "execution_count": null,
   "metadata": {
    "id": "6IVKjhLFM-o5"
   },
   "outputs": [],
   "source": [
    "nl2_prob_lr_pnsrs, nl2_prob_res_pnsrs = pnsr(nl2_prob)\n",
    "nl2_prob_lr_piqes, nl2_prob_res_piqes, nl2_prob_hr_piqes = piqe(nl2_prob)\n",
    "nl2_prob_lr_brisques, nl2_prob_res_brisques, nl2_prob_hr_brisques = brisque(nl2_prob)\n",
    "\n",
    "nl2_lr_pnsrs, nl2_res_pnsrs = pnsr(nl2)\n",
    "nl2_lr_piqes, nl2_res_piqes, nl2_hr_piqes = piqe(nl2)\n",
    "nl2_lr_brisques, nl2_res_brisques, nl2_hr_brisques = brisque(nl2)"
   ]
  },
  {
   "cell_type": "code",
   "execution_count": null,
   "metadata": {
    "id": "E2shG02OM-o5"
   },
   "outputs": [],
   "source": [
    "l1_prob_lr_pnsrs, l1_prob_res_pnsrs = pnsr(l1_prob)\n",
    "l1_prob_lr_piqes, l1_prob_res_piqes, l1_prob_hr_piqes = piqe(l1_prob)\n",
    "l1_prob_lr_brisques, l1_prob_res_brisques, l1_prob_hr_brisques = brisque(l1_prob)\n",
    "\n",
    "l1_lr_pnsrs, l1_res_pnsrs = pnsr(l1)\n",
    "l1_lr_piqes, l1_res_piqes, l1_hr_piqes = piqe(l1)\n",
    "l1_lr_brisques, l1_res_brisques, l1_hr_brisques = brisque(l1)"
   ]
  },
  {
   "cell_type": "code",
   "execution_count": null,
   "metadata": {
    "id": "LcjbXH8gM-o6"
   },
   "outputs": [],
   "source": [
    "import matplotlib.pyplot as plt\n",
    "import numpy as np\n",
    "\n",
    "\n",
    "def set_box_color(bp, color):\n",
    "    plt.setp(bp['boxes'], color=color)\n",
    "    plt.setp(bp['whiskers'], color=color)\n",
    "    plt.setp(bp['caps'], color=color)\n",
    "    plt.setp(bp['medians'], color=color)\n",
    "\n",
    "def boxplots(lr, hr, res, lr_prob, hr_prob, res_prob, title):\n",
    "\n",
    "    data_a = [lr, hr, res]\n",
    "    data_b = [lr_prob, hr_prob, res_prob]\n",
    "\n",
    "    ticks = ['LR', 'HR', 'Restored']\n",
    "\n",
    "    plt.figure()\n",
    "\n",
    "    bpl = plt.boxplot(data_a, positions=np.array(range(len(data_a)))*2.0-0.4, sym='', widths=0.3)\n",
    "    bpr = plt.boxplot(data_b, positions=np.array(range(len(data_b)))*2.0+0.4, sym='', widths=0.3)\n",
    "    set_box_color(bpl, '#D7191C') # colors are from http://colorbrewer2.org/\n",
    "    set_box_color(bpr, '#2C7BB6')\n",
    "\n",
    "    # draw temporary red and blue lines and use them to create a legend\n",
    "    plt.plot([], c='#D7191C', label='CARE')\n",
    "    plt.plot([], c='#2C7BB6', label='CARE_prob')\n",
    "    plt.legend()\n",
    "    plt.title(title)\n",
    "    plt.xticks(range(0, len(ticks) * 2, 2), ticks)\n",
    "    # plt.xlim(-2, len(ticks)*2)\n",
    "    # plt.ylim(0, 8)\n",
    "    plt.tight_layout()\n"
   ]
  },
  {
   "cell_type": "code",
   "execution_count": null,
   "metadata": {
    "id": "CgE-LoAZM-o7",
    "outputId": "9b00e55f-26ee-4664-9d04-74abfeccf117"
   },
   "outputs": [],
   "source": [
    "data_a = [l1_lr_pnsrs, l1_res_pnsrs]\n",
    "data_b = [l1_prob_lr_pnsrs, l1_prob_res_pnsrs]\n",
    "\n",
    "ticks = ['LR', 'Restored']\n",
    "\n",
    "plt.figure()\n",
    "\n",
    "bpl = plt.boxplot(data_a, positions=np.array(range(len(data_a)))*2.0-0.4, sym='', widths=0.3)\n",
    "bpr = plt.boxplot(data_b, positions=np.array(range(len(data_b)))*2.0+0.4, sym='', widths=0.3)\n",
    "set_box_color(bpl, '#D7191C') # colors are from http://colorbrewer2.org/\n",
    "set_box_color(bpr, '#2C7BB6')\n",
    "\n",
    "# draw temporary red and blue lines and use them to create a legend\n",
    "plt.plot([], c='#D7191C', label='CARE')\n",
    "plt.plot([], c='#2C7BB6', label='CARE_prob')\n",
    "plt.legend()\n",
    "plt.title('liver1 psnr between prob and non_prob')\n",
    "plt.xticks(range(0, len(ticks) * 2, 2), ticks)\n",
    "# plt.xlim(-2, len(ticks)*2)\n",
    "# plt.ylim(0, 8)\n",
    "plt.tight_layout()"
   ]
  },
  {
   "cell_type": "code",
   "execution_count": null,
   "metadata": {
    "id": "Gg2I6gMUM-o8",
    "outputId": "7e100d3c-3f29-44b3-deb8-b404cedbef8f"
   },
   "outputs": [],
   "source": [
    "boxplots(l1_lr_brisques,  l1_hr_brisques, l1_res_brisques, \n",
    "         l1_prob_lr_brisques, l1_prob_hr_brisques,  l1_prob_res_brisques, \n",
    "         title = 'Liver1 brisque scores between prob and non-prob')"
   ]
  },
  {
   "cell_type": "code",
   "execution_count": null,
   "metadata": {
    "id": "DdmV_9LGM-o9",
    "outputId": "ca9fda8c-2fa9-438f-c99e-96f4a9afc539"
   },
   "outputs": [],
   "source": [
    "boxplots(l1_lr_piqes,  l1_hr_piqes, l1_res_piqes, \n",
    "         l1_prob_lr_piqes, l1_prob_hr_piqes,  l1_prob_res_piqes, \n",
    "         title = 'Liver1 piqe scores between prob and non-prob')"
   ]
  },
  {
   "cell_type": "code",
   "execution_count": null,
   "metadata": {
    "id": "EbV7cug4M-o9",
    "outputId": "33915c45-8f0c-470f-9978-89f04822a118"
   },
   "outputs": [],
   "source": [
    "data_a = [nl1_lr_pnsrs, nl1_res_pnsrs]\n",
    "data_b = [nl1_prob_lr_pnsrs, nl1_prob_res_pnsrs]\n",
    "\n",
    "ticks = ['LR', 'Restored']\n",
    "\n",
    "plt.figure()\n",
    "\n",
    "bpl = plt.boxplot(data_a, positions=np.array(range(len(data_a)))*2.0-0.4, sym='', widths=0.3)\n",
    "bpr = plt.boxplot(data_b, positions=np.array(range(len(data_b)))*2.0+0.4, sym='', widths=0.3)\n",
    "set_box_color(bpl, '#D7191C') # colors are from http://colorbrewer2.org/\n",
    "set_box_color(bpr, '#2C7BB6')\n",
    "\n",
    "# draw temporary red and blue lines and use them to create a legend\n",
    "plt.plot([], c='#D7191C', label='CARE')\n",
    "plt.plot([], c='#2C7BB6', label='CARE_prob')\n",
    "plt.legend()\n",
    "plt.title('Newliver1 psnr between prob and non_prob')\n",
    "plt.xticks(range(0, len(ticks) * 2, 2), ticks)\n",
    "# plt.xlim(-2, len(ticks)*2)\n",
    "# plt.ylim(0, 8)\n",
    "plt.tight_layout()\n",
    "\n",
    "boxplots(nl1_lr_brisques,  nl1_hr_brisques, nl1_res_brisques, \n",
    "         nl1_prob_lr_brisques, nl1_prob_hr_brisques,  nl1_prob_res_brisques, \n",
    "         title = 'Newliver1 brisque scores between prob and non-prob')\n",
    "\n",
    "boxplots(nl1_lr_piqes,  nl1_hr_piqes, nl1_res_piqes, \n",
    "         nl1_prob_lr_piqes, nl1_prob_hr_piqes,  nl1_prob_res_piqes, \n",
    "         title = 'Newliver1 piqe scores between prob and non-prob')"
   ]
  },
  {
   "cell_type": "code",
   "execution_count": null,
   "metadata": {
    "id": "g0Tm8-2SM-o-",
    "outputId": "a81a24f0-5359-47fa-c034-974a41e3c992"
   },
   "outputs": [],
   "source": [
    "data_a = [nl2_lr_pnsrs, nl2_res_pnsrs]\n",
    "data_b = [nl2_prob_lr_pnsrs, nl2_prob_res_pnsrs]\n",
    "\n",
    "ticks = ['LR', 'Restored']\n",
    "\n",
    "plt.figure()\n",
    "\n",
    "bpl = plt.boxplot(data_a, positions=np.array(range(len(data_a)))*2.0-0.4, sym='', widths=0.3)\n",
    "bpr = plt.boxplot(data_b, positions=np.array(range(len(data_b)))*2.0+0.4, sym='', widths=0.3)\n",
    "set_box_color(bpl, '#D7191C') # colors are from http://colorbrewer2.org/\n",
    "set_box_color(bpr, '#2C7BB6')\n",
    "\n",
    "# draw temporary red and blue lines and use them to create a legend\n",
    "plt.plot([], c='#D7191C', label='CARE')\n",
    "plt.plot([], c='#2C7BB6', label='CARE_prob')\n",
    "plt.legend()\n",
    "plt.title('Newliver2 psnr between prob and non_prob')\n",
    "plt.xticks(range(0, len(ticks) * 2, 2), ticks)\n",
    "# plt.xlim(-2, len(ticks)*2)\n",
    "# plt.ylim(0, 8)\n",
    "plt.tight_layout()\n",
    "\n",
    "boxplots(nl2_lr_brisques,  nl2_hr_brisques, nl2_res_brisques, \n",
    "         nl2_prob_lr_brisques, nl2_prob_hr_brisques,  nl2_prob_res_brisques, \n",
    "         title = 'Newliver2 brisque scores between prob and non-prob')\n",
    "\n",
    "boxplots(nl2_lr_piqes,  nl2_hr_piqes, nl2_res_piqes, \n",
    "         nl2_prob_lr_piqes, nl2_prob_hr_piqes,  nl2_prob_res_piqes, \n",
    "         title = 'Newliver2 piqe scores between prob and non-prob')"
   ]
  },
  {
   "cell_type": "code",
   "execution_count": null,
   "metadata": {
    "id": "6Y6JZLg2M-o_"
   },
   "outputs": [],
   "source": []
  },
  {
   "cell_type": "code",
   "execution_count": null,
   "metadata": {
    "id": "HROgVTq-O5Rx"
   },
   "outputs": [],
   "source": []
  },
  {
   "cell_type": "markdown",
   "metadata": {
    "id": "cNDFi86oO7FI"
   },
   "source": [
    "# Restored and Enhanced Metrics"
   ]
  },
  {
   "cell_type": "code",
   "execution_count": null,
   "metadata": {
    "id": "4yYA-deGQapm"
   },
   "outputs": [],
   "source": [
    "default_directory = '/content/drive/MyDrive/'"
   ]
  },
  {
   "cell_type": "code",
   "execution_count": null,
   "metadata": {
    "id": "EhqVH1IfO5wL"
   },
   "outputs": [],
   "source": [
    "drln_res = default_directory + 'metrics_eval/DRLN_x1_eval/DRLN_x1_res.mat'\n",
    "drln_eha = default_directory + 'metrics_eval/DRLN_x1_eval/DRLN_x1_eha.mat'\n",
    "care_res = default_directory + 'metrics_eval/CARE_x1_eval/CARE_x1_res.mat'\n",
    "care_eha = default_directory + 'metrics_eval/CARE_x1_eval/CARE_x1_eha.mat'"
   ]
  },
  {
   "cell_type": "code",
   "execution_count": null,
   "metadata": {
    "id": "-OYxCZFtO5wR"
   },
   "outputs": [],
   "source": [
    "def pnsr(data):\n",
    "    mat = scipy.io.loadmat(data)\n",
    "    length = len(mat['qscores100_SR'])\n",
    "    \n",
    "    lr_pnsrs = []\n",
    "    res_pnsrs = []\n",
    "    \n",
    "    for i in range(length):\n",
    "        lr_pnsr = mat['qscores100_SR'][i][0,0]\n",
    "        res_pnsr = mat['qscores100_SR'][i][0,1]\n",
    "        lr_pnsrs.append(lr_pnsr)\n",
    "        res_pnsrs.append(res_pnsr)\n",
    "        \n",
    "    return lr_pnsrs, res_pnsrs\n",
    "\n",
    "def piqe(data):\n",
    "    mat = scipy.io.loadmat(data)\n",
    "    length = len(mat['qscores100_SR'])\n",
    "    \n",
    "    lr_piqes = []\n",
    "    res_piqes = []\n",
    "    hr_piqes = []\n",
    "    \n",
    "    for i in range(length):\n",
    "        lr_piqe = mat['qscores100_SR'][i][2,0]\n",
    "        res_piqe = mat['qscores100_SR'][i][2,1]\n",
    "        hr_piqe = mat['qscores100_SR'][i][2,2]\n",
    "        lr_piqes.append(lr_piqe)\n",
    "        res_piqes.append(res_piqe)\n",
    "        hr_piqes.append(hr_piqe)\n",
    "        \n",
    "    return lr_piqes, res_piqes, hr_piqes\n",
    "\n",
    "def brisque(data):\n",
    "    mat = scipy.io.loadmat(data)\n",
    "    length = len(mat['qscores100_SR'])\n",
    "    \n",
    "    lr_brisques = []\n",
    "    res_brisques = []\n",
    "    hr_brisques = []\n",
    "    \n",
    "    for i in range(length):\n",
    "        lr_brisque = mat['qscores100_SR'][i][1,0]\n",
    "        res_brisque = mat['qscores100_SR'][i][1,1]\n",
    "        hr_brisque = mat['qscores100_SR'][i][1,2]\n",
    "        lr_brisques.append(lr_brisque)\n",
    "        res_brisques.append(res_brisque)\n",
    "        hr_brisques.append(hr_brisque)\n",
    "        \n",
    "    return lr_brisques, res_brisques, hr_brisques"
   ]
  },
  {
   "cell_type": "code",
   "execution_count": null,
   "metadata": {
    "id": "_pRrD978O5wS"
   },
   "outputs": [],
   "source": [
    "care_lr_pnsrs, care_res_pnsrs = pnsr(care_res)\n",
    "care_lr_piqes, care_res_piqes, care_hr_piqes = piqe(care_res)\n",
    "care_lr_brisques, care_res_brisques, care_hr_brisques = brisque(care_res)\n",
    "_, care_eha_piqes, _ = piqe(care_eha)\n",
    "_, care_eha_pnsrs = pnsr(care_eha)\n",
    "_, care_eha_brisques, _ = brisque(care_eha)\n",
    "\n",
    "\n",
    "drln_lr_pnsrs, drln_res_pnsrs = pnsr(drln_res)\n",
    "drln_lr_piqes, drln_res_piqes, drln_hr_piqes = piqe(drln_res)\n",
    "drln_lr_brisques, drln_res_brisques, drln_hr_brisques = brisque(drln_res)\n",
    "_, drln_eha_piqes, _ = piqe(drln_eha)\n",
    "_, drln_eha_pnsrs = pnsr(drln_eha)\n",
    "_, drln_eha_brisques, _ = brisque(drln_eha)"
   ]
  },
  {
   "cell_type": "code",
   "execution_count": null,
   "metadata": {
    "colab": {
     "base_uri": "https://localhost:8080/",
     "height": 346
    },
    "id": "0hvUnNiJURpr",
    "outputId": "363cbe22-b2bf-4c3a-dad7-e604f2c36fcf"
   },
   "outputs": [],
   "source": [
    "import matplotlib.pyplot as plt\n",
    "import numpy as np\n",
    "\n",
    "data_a = [care_lr_piqes, care_res_piqes, care_hr_piqes, care_eha_piqes]\n",
    "data_b = [drln_lr_piqes, drln_res_piqes, drln_hr_piqes, drln_eha_piqes]\n",
    "\n",
    "ticks = ['LR', 'Restored', 'HR', 'Enhanced']\n",
    "\n",
    "def set_box_color(bp, color):\n",
    "    plt.setp(bp['boxes'], color=color)\n",
    "    plt.setp(bp['whiskers'], color=color)\n",
    "    plt.setp(bp['caps'], color=color)\n",
    "    plt.setp(bp['medians'], color=color)\n",
    "\n",
    "plt.figure()\n",
    "\n",
    "bpl = plt.boxplot(data_a, positions=np.array(range(len(data_a)))*2.0-0.4, sym='', widths=0.6)\n",
    "bpr = plt.boxplot(data_b, positions=np.array(range(len(data_b)))*2.0+0.4, sym='', widths=0.6)\n",
    "set_box_color(bpl, '#D7191C') # colors are from http://colorbrewer2.org/\n",
    "set_box_color(bpr, '#2C7BB6')\n",
    "\n",
    "# draw temporary red and blue lines and use them to create a legend\n",
    "plt.plot([], c='#D7191C', label='CARE')\n",
    "plt.plot([], c='#2C7BB6', label='DRLN')\n",
    "plt.legend()\n",
    "\n",
    "plt.xticks(range(0, len(ticks) * 2, 2), ticks)\n",
    "plt.xlim(-2, len(ticks)*2)\n",
    "# plt.ylim(0, 8)\n",
    "plt.tight_layout()\n",
    "plt.title('CARE & DRLN PIQE comparison')"
   ]
  },
  {
   "cell_type": "code",
   "execution_count": null,
   "metadata": {
    "colab": {
     "base_uri": "https://localhost:8080/",
     "height": 350
    },
    "id": "BfqiaUHJO5wT",
    "outputId": "3fde1584-8c5c-446f-8f5a-8074d433f932"
   },
   "outputs": [],
   "source": [
    "data_a = [care_lr_brisques, care_res_brisques, care_hr_brisques, care_eha_brisques]\n",
    "data_b = [drln_lr_brisques, drln_res_brisques, drln_hr_brisques, drln_eha_brisques]\n",
    "\n",
    "ticks = ['LR', 'Restored', 'HR', 'Enhanced']\n",
    "\n",
    "def set_box_color(bp, color):\n",
    "    plt.setp(bp['boxes'], color=color)\n",
    "    plt.setp(bp['whiskers'], color=color)\n",
    "    plt.setp(bp['caps'], color=color)\n",
    "    plt.setp(bp['medians'], color=color)\n",
    "\n",
    "plt.figure()\n",
    "\n",
    "bpl = plt.boxplot(data_a, positions=np.array(range(len(data_a)))*2.0-0.4, sym='', widths=0.6)\n",
    "bpr = plt.boxplot(data_b, positions=np.array(range(len(data_b)))*2.0+0.4, sym='', widths=0.6)\n",
    "set_box_color(bpl, '#D7191C') # colors are from http://colorbrewer2.org/\n",
    "set_box_color(bpr, '#2C7BB6')\n",
    "\n",
    "# draw temporary red and blue lines and use them to create a legend\n",
    "plt.plot([], c='#D7191C', label='CARE')\n",
    "plt.plot([], c='#2C7BB6', label='DRLN')\n",
    "plt.legend()\n",
    "\n",
    "plt.xticks(range(0, len(ticks) * 2, 2), ticks)\n",
    "plt.xlim(-2, len(ticks)*2)\n",
    "# plt.ylim(0, 8)\n",
    "plt.tight_layout()\n",
    "plt.title('CARE & DRLN BRISQUE comparison')"
   ]
  },
  {
   "cell_type": "code",
   "execution_count": null,
   "metadata": {
    "colab": {
     "base_uri": "https://localhost:8080/",
     "height": 346
    },
    "id": "Xmmc48b0WugH",
    "outputId": "300474d6-fa58-475b-a0bb-e167d551a52d"
   },
   "outputs": [],
   "source": [
    "data_a = [care_lr_pnsrs, care_res_pnsrs, care_eha_pnsrs]\n",
    "data_b = [drln_lr_pnsrs, drln_res_pnsrs, drln_eha_pnsrs]\n",
    "\n",
    "ticks = ['LR', 'Restored', 'Enhanced']\n",
    "\n",
    "def set_box_color(bp, color):\n",
    "    plt.setp(bp['boxes'], color=color)\n",
    "    plt.setp(bp['whiskers'], color=color)\n",
    "    plt.setp(bp['caps'], color=color)\n",
    "    plt.setp(bp['medians'], color=color)\n",
    "\n",
    "plt.figure()\n",
    "\n",
    "bpl = plt.boxplot(data_a, positions=np.array(range(len(data_a)))*2.0-0.4, sym='', widths=0.6)\n",
    "bpr = plt.boxplot(data_b, positions=np.array(range(len(data_b)))*2.0+0.4, sym='', widths=0.6)\n",
    "set_box_color(bpl, '#D7191C') # colors are from http://colorbrewer2.org/\n",
    "set_box_color(bpr, '#2C7BB6')\n",
    "\n",
    "# draw temporary red and blue lines and use them to create a legend\n",
    "plt.plot([], c='#D7191C', label='CARE')\n",
    "plt.plot([], c='#2C7BB6', label='DRLN')\n",
    "plt.legend()\n",
    "\n",
    "plt.xticks(range(0, len(ticks) * 2, 2), ticks)\n",
    "plt.xlim(-2, len(ticks)*2)\n",
    "plt.ylim(0, 40)\n",
    "plt.tight_layout()\n",
    "plt.title('CARE & DRLN PSNR comparison')"
   ]
  },
  {
   "cell_type": "markdown",
   "metadata": {
    "id": "zWqVVtQqF69a"
   },
   "source": [
    "# Resolution x1"
   ]
  },
  {
   "cell_type": "code",
   "execution_count": null,
   "metadata": {
    "colab": {
     "base_uri": "https://localhost:8080/"
    },
    "id": "NEn7Wr17NXe4",
    "outputId": "917a9c3f-2f1c-4926-f0c5-2eb2bf3970c6"
   },
   "outputs": [],
   "source": [
    "%cd /content/drive/MyDrive/"
   ]
  },
  {
   "cell_type": "code",
   "execution_count": null,
   "metadata": {
    "id": "TMMDEc2ADasA"
   },
   "outputs": [],
   "source": [
    "from msi_res import calculate_mtf\n",
    "from tifffile import imread\n",
    "from PIL import Image\n",
    "from tqdm import tqdm\n",
    "import os\n",
    "import numpy as np\n"
   ]
  },
  {
   "cell_type": "code",
   "execution_count": null,
   "metadata": {
    "colab": {
     "base_uri": "https://localhost:8080/"
    },
    "id": "jNClEHoSTWHW",
    "outputId": "15e7f221-bdbd-469c-b2ee-3c89fa6e9100"
   },
   "outputs": [],
   "source": [
    "!pwd"
   ]
  },
  {
   "cell_type": "code",
   "execution_count": null,
   "metadata": {
    "id": "_ee0WbKuSA-2"
   },
   "outputs": [],
   "source": [
    "lr_path = '/content/drive/MyDrive/liver1_test/CARE_x1/test_lr_tif/'\n",
    "hr_path = '/content/drive/MyDrive/liver1_test/CARE_x1/test_hr_tif/'\n",
    "\n",
    "res_path_drln = '/content/drive/MyDrive/liver1_test/DRLN_data/denoising_x1_tif/RES/'\n",
    "res_path_care = '/content/drive/MyDrive/liver1_test/CARE_x1/restored/'\n",
    "\n",
    "enh_path_drln = '/content/drive/MyDrive/liver1_test/DRLN_data/denoising_x1_tif/ENH/'\n",
    "enh_path_care = '/content/drive/MyDrive/liver1_test/CARE_x1/enhanced/'"
   ]
  },
  {
   "cell_type": "code",
   "execution_count": null,
   "metadata": {
    "id": "dl12FD9TSLug"
   },
   "outputs": [],
   "source": [
    "def compute_res(path):\n",
    "  res_list = []\n",
    "  filelist = os.listdir(path)\n",
    "  for i in tqdm(filelist):\n",
    "    img = Image.open(path + i)\n",
    "    arr = np.array(img)\n",
    "    pad = np.zeros((40,44))\n",
    "    pad[0:40, 12:44] = rotate(arr, 95, resize=True, clip = False)[80:120, 0:32]\n",
    "    res = calculate_mtf(pad, 'abc', 0)\n",
    "    res_list.append(res)\n",
    "  return res_list"
   ]
  },
  {
   "cell_type": "code",
   "execution_count": null,
   "metadata": {
    "id": "41rU1tOJbA7f"
   },
   "outputs": [],
   "source": [
    "def compute_3d_res(path):\n",
    "  res_list = []\n",
    "  filelist = os.listdir(path)\n",
    "  for i in tqdm(filelist):\n",
    "    img = Image.open(path + i)\n",
    "    arr = np.array(img)[:,:,0]\n",
    "    pad = np.zeros((40,44))\n",
    "    pad[0:40, 12:44] = rotate(arr, 95, resize=True, clip = False)[80:120, 0:32]\n",
    "    res = calculate_mtf(pad, 'abc', 0)\n",
    "    res_list.append(res)\n",
    "  return res_list"
   ]
  },
  {
   "cell_type": "code",
   "execution_count": null,
   "metadata": {
    "colab": {
     "base_uri": "https://localhost:8080/"
    },
    "id": "K4wO2cOgNSxM",
    "outputId": "cd5467fd-b51c-4303-b3d4-fffaff6f8bae"
   },
   "outputs": [],
   "source": [
    "hr_list = compute_res(path = hr_path)\n",
    "# lr_list = compute_res(path = lr_path)"
   ]
  },
  {
   "cell_type": "code",
   "execution_count": null,
   "metadata": {
    "colab": {
     "base_uri": "https://localhost:8080/"
    },
    "id": "Gjr24o4kbQmx",
    "outputId": "fb7e3eb5-a779-4f11-b63b-ef3bc8108a63"
   },
   "outputs": [],
   "source": [
    "res_drln_list = compute_3d_res(path = res_path_drln)\n",
    "enh_drln_list = compute_3d_res(path = enh_path_drln)"
   ]
  },
  {
   "cell_type": "code",
   "execution_count": null,
   "metadata": {
    "colab": {
     "base_uri": "https://localhost:8080/"
    },
    "id": "uDTa_YCdbYa0",
    "outputId": "71244c5d-7efc-45ca-8008-f56963a252ea"
   },
   "outputs": [],
   "source": [
    "enh_care_list = compute_res(path = enh_path_care)\n",
    "res_care_list = compute_res(path = res_path_care)"
   ]
  },
  {
   "cell_type": "code",
   "execution_count": null,
   "metadata": {
    "id": "VxUiOF731HVG"
   },
   "outputs": [],
   "source": [
    "def filter_outliers(f):\n",
    "  for i in tqdm(range(f.shape[0])):\n",
    "      if f[i][0] == 1 or f[i][0] ==0 or f[i][1]>100 or f[i][1]<2 or (f[i][2])/(f[i][0]) > 0.90 or f[i][2] != f[i][2]:\n",
    "          f[i] = np.nan\n",
    "  return f"
   ]
  },
  {
   "cell_type": "code",
   "execution_count": null,
   "metadata": {
    "colab": {
     "base_uri": "https://localhost:8080/"
    },
    "id": "C-70MPp317ul",
    "outputId": "e5f50f88-9420-4051-8881-79bad094efd9"
   },
   "outputs": [],
   "source": [
    "hr_list_arr = np.array(hr_list)\n",
    "hr_list_f = filter_outliers(hr_list_arr)\n",
    "hr_list_f = hr_list_f[:,0]\n",
    "hr_list_f = hr_list_f[~np.isnan(hr_list_f)]"
   ]
  },
  {
   "cell_type": "code",
   "execution_count": null,
   "metadata": {
    "colab": {
     "base_uri": "https://localhost:8080/"
    },
    "id": "a6XjN1Vi2WvD",
    "outputId": "408ab021-2666-4f51-f3d3-1d3c1c8bfefc"
   },
   "outputs": [],
   "source": [
    "lr_list_arr = np.array(lr_list)\n",
    "lr_list_f = filter_outliers(lr_list_arr)\n",
    "lr_list_f = lr_list_f[:,0]\n",
    "lr_list_f = lr_list_f[~np.isnan(lr_list_f)]"
   ]
  },
  {
   "cell_type": "code",
   "execution_count": null,
   "metadata": {
    "colab": {
     "base_uri": "https://localhost:8080/"
    },
    "id": "_68k2scj3VLA",
    "outputId": "143144df-e660-47ea-a80f-cfda2a173c64"
   },
   "outputs": [],
   "source": [
    "res_drln_list_f = filter_outliers(np.array(res_drln_list))\n",
    "res_drln_list_f = res_drln_list_f[:,0]\n",
    "res_drln_list_f = res_drln_list_f[~np.isnan(res_drln_list_f)]\n",
    "\n",
    "enh_drln_list_f = filter_outliers(np.array(enh_drln_list))\n",
    "enh_drln_list_f = enh_drln_list_f[:,0]\n",
    "enh_drln_list_f = enh_drln_list_f[~np.isnan(enh_drln_list_f)]\n",
    "\n",
    "\n",
    "res_care_list_f = filter_outliers(np.array(res_care_list))\n",
    "res_care_list_f = res_care_list_f[:,0]\n",
    "res_care_list_f = res_care_list_f[~np.isnan(res_care_list_f)]\n",
    "\n",
    "\n",
    "enh_care_list_f = filter_outliers(np.array(enh_care_list))\n",
    "enh_care_list_f = enh_care_list_f[:,0]\n",
    "enh_care_list_f = enh_care_list_f[~np.isnan(enh_care_list_f)]\n"
   ]
  },
  {
   "cell_type": "code",
   "execution_count": null,
   "metadata": {
    "id": "uWH8HIG5Sd-k"
   },
   "outputs": [],
   "source": [
    "import pickle\n",
    "with open('/content/drive/MyDrive/resolution_eval/x1/hr_f.pkl', 'wb') as f:\n",
    "  pickle.dump(hr_list_f, f)\n",
    "\n",
    "# with open('/content/drive/MyDrive/resolution_eval/x1/lr_f.pkl', 'wb') as f:\n",
    "#   pickle.dump(lr_list_f, f)\n",
    "\n",
    "# with open('/content/drive/MyDrive/resolution_eval/x1/res_drln_f.pkl', 'wb') as f:\n",
    "#   pickle.dump(res_drln_list_f, f)\n",
    "\n",
    "# with open('/content/drive/MyDrive/resolution_eval/x1/enh_drln_f.pkl', 'wb') as f:\n",
    "#   pickle.dump(enh_drln_list_f, f)\n",
    "\n",
    "# with open('/content/drive/MyDrive/resolution_eval/x1/enh_care_f.pkl', 'wb') as f:\n",
    "#   pickle.dump(enh_care_list_f, f)\n",
    "\n",
    "# with open('/content/drive/MyDrive/resolution_eval/x1/res_care_f.pkl', 'wb') as f:\n",
    "#   pickle.dump(res_care_list_f, f)"
   ]
  },
  {
   "cell_type": "code",
   "execution_count": null,
   "metadata": {
    "id": "x-x3j2f_c3fO"
   },
   "outputs": [],
   "source": [
    "import pickle\n",
    "with open('/content/drive/MyDrive/resolution_eval/x1/hr_new.pkl', 'rb') as g:\n",
    "  hr_list_f = pickle.load(g)\n",
    "\n",
    "with open('/content/drive/MyDrive/resolution_eval/x1/lr_f.pkl', 'rb') as g:\n",
    "  lr_list_f = pickle.load(g)\n",
    "\n",
    "with open('/content/drive/MyDrive/resolution_eval/x1/res_drln_f.pkl', 'rb') as g:\n",
    "  res_drln_list_f = pickle.load(g)\n",
    "\n",
    "with open('/content/drive/MyDrive/resolution_eval/x1/enh_drln_f.pkl', 'rb') as g:\n",
    "  enh_drln_list_f = pickle.load(g)\n",
    "\n",
    "with open('/content/drive/MyDrive/resolution_eval/x1/enh_care_f.pkl', 'rb') as g:\n",
    "  enh_care_list_f = pickle.load(g)\n",
    "\n",
    "with open('/content/drive/MyDrive/resolution_eval/x1/res_care_f.pkl', 'rb') as g:\n",
    "  res_care_list_f = pickle.load(g)"
   ]
  },
  {
   "cell_type": "code",
   "execution_count": null,
   "metadata": {
    "colab": {
     "base_uri": "https://localhost:8080/",
     "height": 416
    },
    "id": "JhDc5NGFMhbQ",
    "outputId": "874c9ab3-df66-4c32-9f65-f6ee99ff2a5a"
   },
   "outputs": [],
   "source": [
    "import matplotlib.pyplot as plt\n",
    "import numpy as np\n",
    "\n",
    "data_a = [lr_list_f, res_care_list_f, hr_list_f, enh_care_list_f]\n",
    "data_b = [lr_list_f, res_drln_list_f, hr_list_f, enh_drln_list_f]\n",
    "\n",
    "\n",
    "ticks = ['LR', 'Restored', 'HR', 'Enhanced']\n",
    "\n",
    "def set_box_color(bp, color):\n",
    "    plt.setp(bp['boxes'], color=color)\n",
    "    plt.setp(bp['whiskers'], color=color)\n",
    "    plt.setp(bp['caps'], color=color)\n",
    "    plt.setp(bp['medians'], color=color)\n",
    "\n",
    "plt.figure()\n",
    "\n",
    "bpl = plt.boxplot(data_a, positions=np.array(range(len(data_a)))*2.0-0.4, sym='', widths=0.6)\n",
    "bpr = plt.boxplot(data_b, positions=np.array(range(len(data_b)))*2.0+0.4, sym='', widths=0.6)\n",
    "set_box_color(bpl, '#D7191C') # colors are from http://colorbrewer2.org/\n",
    "set_box_color(bpr, '#2C7BB6')\n",
    "\n",
    "# draw temporary red and blue lines and use them to create a legend\n",
    "plt.plot([], c='#D7191C', label='CARE')\n",
    "plt.plot([], c='#2C7BB6', label='DRLN')\n",
    "plt.legend()\n",
    "\n",
    "plt.xticks(range(0, len(ticks) * 2, 2), ticks)\n",
    "plt.xlim(-2, len(ticks)*2)\n",
    "# plt.ylim(0, 8)\n",
    "plt.tight_layout()\n",
    "plt.title('CARE & DRLN cut-off frequency comparison')"
   ]
  },
  {
   "cell_type": "code",
   "execution_count": null,
   "metadata": {
    "id": "jwXpYqGtr2_M"
   },
   "outputs": [],
   "source": [
    "def pixel(f):\n",
    "  f = np.array(f)\n",
    "  pix = 100*2*1. / f\n",
    "  return pix"
   ]
  },
  {
   "cell_type": "code",
   "execution_count": null,
   "metadata": {
    "colab": {
     "base_uri": "https://localhost:8080/"
    },
    "id": "mEv0yaXz6CWZ",
    "outputId": "c8a2868f-9770-49bc-92e6-c4cd6a92db27"
   },
   "outputs": [],
   "source": [
    "np.transpose(lr_list_f)[0]"
   ]
  },
  {
   "cell_type": "code",
   "execution_count": null,
   "metadata": {
    "colab": {
     "base_uri": "https://localhost:8080/",
     "height": 416
    },
    "id": "kq0s_r2t6EWO",
    "outputId": "62eaf309-85e9-4477-9ba8-f2a93668bcc9"
   },
   "outputs": [],
   "source": [
    "data_a = [pixel(lr_list_f), pixel(res_care_list_f), pixel(hr_list_f), pixel(enh_care_list_f)]\n",
    "data_b = [pixel(lr_list_f), pixel(res_drln_list_f), pixel(hr_list_f), pixel(enh_drln_list_f)]\n",
    "\n",
    "\n",
    "ticks = ['LR', 'Restored', 'HR', 'Enhanced']\n",
    "\n",
    "def set_box_color(bp, color):\n",
    "    plt.setp(bp['boxes'], color=color)\n",
    "    plt.setp(bp['whiskers'], color=color)\n",
    "    plt.setp(bp['caps'], color=color)\n",
    "    plt.setp(bp['medians'], color=color)\n",
    "\n",
    "plt.figure()\n",
    "\n",
    "bpl = plt.boxplot(data_a, positions=np.array(range(len(data_a)))*2.0-0.4, sym='', widths=0.6)\n",
    "bpr = plt.boxplot(data_b, positions=np.array(range(len(data_b)))*2.0+0.4, sym='', widths=0.6)\n",
    "set_box_color(bpl, '#D7191C') # colors are from http://colorbrewer2.org/\n",
    "set_box_color(bpr, '#2C7BB6')\n",
    "\n",
    "# draw temporary red and blue lines and use them to create a legend\n",
    "plt.plot([], c='#D7191C', label='CARE')\n",
    "plt.plot([], c='#2C7BB6', label='DRLN')\n",
    "plt.legend()\n",
    "\n",
    "plt.xticks(range(0, len(ticks) * 2, 2), ticks)\n",
    "plt.ylabel('pixel size in microns')\n",
    "plt.xlim(-2, len(ticks)*2)\n",
    "# plt.ylim(0, 8)\n",
    "plt.tight_layout()\n",
    "plt.title('CARE & DRLN resolution comparison')"
   ]
  },
  {
   "cell_type": "code",
   "execution_count": null,
   "metadata": {
    "id": "P_LKgTPm8DuD"
   },
   "outputs": [],
   "source": []
  }
 ],
 "metadata": {
  "colab": {
   "collapsed_sections": [
    "V25itQ-5NLQn"
   ],
   "name": "boxplot.ipynb",
   "provenance": []
  },
  "kernelspec": {
   "display_name": "Python 3",
   "language": "python",
   "name": "python3"
  },
  "language_info": {
   "codemirror_mode": {
    "name": "ipython",
    "version": 3
   },
   "file_extension": ".py",
   "mimetype": "text/x-python",
   "name": "python",
   "nbconvert_exporter": "python",
   "pygments_lexer": "ipython3",
   "version": "3.7.9"
  }
 },
 "nbformat": 4,
 "nbformat_minor": 1
}
