{
 "cells": [
  {
   "cell_type": "code",
   "execution_count": null,
   "metadata": {
    "colab": {
     "base_uri": "https://localhost:8080/"
    },
    "id": "nbVtWDjXDcoy",
    "outputId": "0fb5fac4-827d-46b5-f6b6-c8abc0dbfba0"
   },
   "outputs": [],
   "source": [
    "from google.colab import drive\n",
    "drive.mount('/content/drive')"
   ]
  },
  {
   "cell_type": "code",
   "execution_count": null,
   "metadata": {
    "id": "I71Y0chqDar2"
   },
   "outputs": [],
   "source": [
    "import numpy as np\n",
    "import scipy.io\n",
    "import pandas as pd\n",
    "import os\n",
    "from PIL import Image\n",
    "from skimage.transform import rotate\n",
    "import matplotlib.pyplot as plt\n"
   ]
  },
  {
   "cell_type": "markdown",
   "metadata": {
    "id": "mk1vaEbJQBkD"
   },
   "source": [
    "# no ref metrics"
   ]
  },
  {
   "cell_type": "code",
   "execution_count": null,
   "metadata": {
    "id": "agbiz3xYDar4"
   },
   "outputs": [],
   "source": [
    "drln = scipy.io.loadmat('/content/drive/MyDrive/metrics_eval/drln_mse_vgg_eval.mat')\n",
    "esrgan = scipy.io.loadmat('/content/drive/MyDrive/metrics_eval/esrgan_gan_eval.mat')"
   ]
  },
  {
   "cell_type": "code",
   "execution_count": null,
   "metadata": {
    "colab": {
     "base_uri": "https://localhost:8080/"
    },
    "id": "ofiJ0aYNDar5",
    "outputId": "acadc7da-eff4-47c2-a2cd-6014ef6c6cc6"
   },
   "outputs": [],
   "source": [
    "esrgan['qscores100_SR'][0]"
   ]
  },
  {
   "cell_type": "code",
   "execution_count": null,
   "metadata": {
    "colab": {
     "base_uri": "https://localhost:8080/"
    },
    "id": "MKGPSu7sDar6",
    "outputId": "5b48a68f-fe8d-4156-f847-fdba29241714"
   },
   "outputs": [],
   "source": [
    "len(esrgan['qscores100_SR'])"
   ]
  },
  {
   "cell_type": "code",
   "execution_count": null,
   "metadata": {
    "id": "pozE0Va8EtJ8"
   },
   "outputs": [],
   "source": [
    "def piqe(data):\n",
    "    mat = scipy.io.loadmat(data)\n",
    "    length = len(mat['qscores100_SR'])\n",
    "    \n",
    "    lr_piqes = []\n",
    "    res_piqes = []\n",
    "    hr_piqes = []\n",
    "    \n",
    "    for i in range(length):\n",
    "        lr_piqe = mat['qscores100_SR'][i][1,0]\n",
    "        res_piqe = mat['qscores100_SR'][i][1,1]\n",
    "        hr_piqe = mat['qscores100_SR'][i][1,2]\n",
    "        lr_piqes.append(lr_piqe)\n",
    "        res_piqes.append(res_piqe)\n",
    "        hr_piqes.append(hr_piqe)\n",
    "        \n",
    "    return lr_piqes, res_piqes, hr_piqes\n",
    "\n",
    "def brisque(data):\n",
    "    mat = scipy.io.loadmat(data)\n",
    "    length = len(mat['qscores100_SR'])\n",
    "    \n",
    "    lr_brisques = []\n",
    "    res_brisques = []\n",
    "    hr_brisques = []\n",
    "    \n",
    "    for i in range(length):\n",
    "        lr_brisque = mat['qscores100_SR'][i][0,0]\n",
    "        res_brisque = mat['qscores100_SR'][i][0,1]\n",
    "        hr_brisque = mat['qscores100_SR'][i][0,2]\n",
    "        lr_brisques.append(lr_brisque)\n",
    "        res_brisques.append(res_brisque)\n",
    "        hr_brisques.append(hr_brisque)\n",
    "        \n",
    "    return lr_brisques, res_brisques, hr_brisques"
   ]
  },
  {
   "cell_type": "code",
   "execution_count": null,
   "metadata": {
    "id": "K3LrCaM7H2No"
   },
   "outputs": [],
   "source": [
    "drln = '/content/drive/MyDrive/metrics_eval/drln_mse_vgg_eval.mat'\n",
    "esrgan = '/content/drive/MyDrive/metrics_eval/esrgan_gan_eval.mat'"
   ]
  },
  {
   "cell_type": "code",
   "execution_count": null,
   "metadata": {
    "id": "r06cHrKIDar8"
   },
   "outputs": [],
   "source": [
    "DRLN_lr_piqes, DRLN_res_piqes, DRLN_hr_piqes = piqe(drln)\n",
    "DRLN_lr_brisques, DRLN_res_brisques, DRLN_hr_brisques = brisque(drln)\n",
    "\n",
    "ESRGAN_lr_piqes, ESRGAN_res_piqes, ESRGAN_hr_piqes = piqe(esrgan)\n",
    "ESRGAN_lr_brisques, ESRGAN_res_brisques, ESRGAN_hr_brisques = brisque(esrgan)"
   ]
  },
  {
   "cell_type": "code",
   "execution_count": null,
   "metadata": {
    "id": "IFR0pCKqDar8"
   },
   "outputs": [],
   "source": [
    "import matplotlib.pyplot as plt\n",
    "import numpy as np\n",
    "\n",
    "\n",
    "def set_box_color(bp, color):\n",
    "    plt.setp(bp['boxes'], color=color)\n",
    "    plt.setp(bp['whiskers'], color=color)\n",
    "    plt.setp(bp['caps'], color=color)\n",
    "    plt.setp(bp['medians'], color=color)\n",
    "\n",
    "def boxplots(lr, hr, res, lr_1, hr_1, res_1, title):\n",
    "\n",
    "    data_a = [lr, hr, res]\n",
    "    data_b = [lr_1, hr_1, res_1]\n",
    "\n",
    "    ticks = ['LR', 'HR', 'Restored']\n",
    "\n",
    "    plt.figure()\n",
    "\n",
    "    bpl = plt.boxplot(data_a, positions=np.array(range(len(data_a)))*2.0-0.4, sym='', widths=0.3)\n",
    "    bpr = plt.boxplot(data_b, positions=np.array(range(len(data_b)))*2.0+0.4, sym='', widths=0.3)\n",
    "    set_box_color(bpl, '#D7191C') # colors are from http://colorbrewer2.org/\n",
    "    set_box_color(bpr, '#2C7BB6')\n",
    "\n",
    "    # draw temporary red and blue lines and use them to create a legend\n",
    "    plt.plot([], c='#D7191C', label='drln')\n",
    "    plt.plot([], c='#2C7BB6', label='esrgan')\n",
    "    plt.legend()\n",
    "    plt.title(title)\n",
    "    plt.xticks(range(0, len(ticks) * 2, 2), ticks)\n",
    "    # plt.xlim(-2, len(ticks)*2)\n",
    "    # plt.ylim(0, 8)\n",
    "    plt.tight_layout()\n"
   ]
  },
  {
   "cell_type": "code",
   "execution_count": null,
   "metadata": {
    "colab": {
     "base_uri": "https://localhost:8080/",
     "height": 318
    },
    "id": "6q63Is6jNzci",
    "outputId": "1081f5e4-15e9-497a-97dc-e04b1d899a0b"
   },
   "outputs": [],
   "source": [
    "boxplots(DRLN_lr_piqes, DRLN_hr_piqes, DRLN_res_piqes, \n",
    "         ESRGAN_lr_piqes, ESRGAN_hr_piqes, ESRGAN_res_piqes, \n",
    "         title = 'Liver1 piqe scores between DRLN and ESRGAN')"
   ]
  },
  {
   "cell_type": "code",
   "execution_count": null,
   "metadata": {
    "colab": {
     "base_uri": "https://localhost:8080/",
     "height": 318
    },
    "id": "Yfg1LEv-PEOx",
    "outputId": "697178cb-5aad-4bde-e342-ca8a37c8b379"
   },
   "outputs": [],
   "source": [
    "boxplots(DRLN_lr_brisques, DRLN_hr_brisques, DRLN_res_brisques, \n",
    "         ESRGAN_lr_brisques, ESRGAN_hr_brisques, ESRGAN_res_brisques, \n",
    "         title = 'Liver1 brisque scores between DRLN and ESRGAN')"
   ]
  },
  {
   "cell_type": "markdown",
   "metadata": {
    "id": "3tu5XM5oM4O3"
   },
   "source": [
    "# Restored and Enhanced"
   ]
  },
  {
   "cell_type": "code",
   "execution_count": null,
   "metadata": {
    "id": "4yYA-deGQapm"
   },
   "outputs": [],
   "source": [
    "default_directory = '/content/drive/MyDrive/'"
   ]
  },
  {
   "cell_type": "code",
   "execution_count": null,
   "metadata": {
    "id": "EhqVH1IfO5wL"
   },
   "outputs": [],
   "source": [
    "drln_res = default_directory + 'metrics_eval/DRLN_x4_eval/drln_x4_res.mat'\n",
    "drln_enh = default_directory + 'metrics_eval/DRLN_x4_eval/drln_x4_enh.mat'\n",
    "esrgan_res = default_directory + 'metrics_eval/ESRGAN_x4_eval/esrgan_x4_res.mat'\n",
    "esrgan_enh = default_directory + 'metrics_eval/ESRGAN_x4_eval/esrgan_x4_enh.mat'"
   ]
  },
  {
   "cell_type": "code",
   "execution_count": null,
   "metadata": {
    "id": "-OYxCZFtO5wR"
   },
   "outputs": [],
   "source": [
    "def piqe(data):\n",
    "    mat = scipy.io.loadmat(data)\n",
    "    length = len(mat['qscores100_SR'])\n",
    "    \n",
    "    lr_piqes = []\n",
    "    res_piqes = []\n",
    "    hr_piqes = []\n",
    "    \n",
    "    for i in range(length):\n",
    "        lr_piqe = mat['qscores100_SR'][i][1,0]\n",
    "        res_piqe = mat['qscores100_SR'][i][1,1]\n",
    "        hr_piqe = mat['qscores100_SR'][i][1,2]\n",
    "        lr_piqes.append(lr_piqe)\n",
    "        res_piqes.append(res_piqe)\n",
    "        hr_piqes.append(hr_piqe)\n",
    "        \n",
    "    return lr_piqes, res_piqes, hr_piqes\n",
    "\n",
    "def brisque(data):\n",
    "    mat = scipy.io.loadmat(data)\n",
    "    length = len(mat['qscores100_SR'])\n",
    "    \n",
    "    lr_brisques = []\n",
    "    res_brisques = []\n",
    "    hr_brisques = []\n",
    "    \n",
    "    for i in range(length):\n",
    "        lr_brisque = mat['qscores100_SR'][i][0,0]\n",
    "        res_brisque = mat['qscores100_SR'][i][0,1]\n",
    "        hr_brisque = mat['qscores100_SR'][i][0,2]\n",
    "        lr_brisques.append(lr_brisque)\n",
    "        res_brisques.append(res_brisque)\n",
    "        hr_brisques.append(hr_brisque)\n",
    "        \n",
    "    return lr_brisques, res_brisques, hr_brisques"
   ]
  },
  {
   "cell_type": "code",
   "execution_count": null,
   "metadata": {
    "id": "_pRrD978O5wS"
   },
   "outputs": [],
   "source": [
    "esrgan_lr_piqes, esrgan_res_piqes, esrgan_hr_piqes = piqe(esrgan_res)\n",
    "esrgan_lr_brisques, esrgan_res_brisques, esrgan_hr_brisques = brisque(esrgan_res)\n",
    "\n",
    "_, esrgan_enh_piqes, _ = piqe(esrgan_enh)\n",
    "_, esrgan_enh_brisques, _ = brisque(esrgan_enh)\n",
    "\n",
    "\n",
    "drln_lr_piqes, drln_res_piqes, drln_hr_piqes = piqe(drln_res)\n",
    "drln_lr_brisques, drln_res_brisques, drln_hr_brisques = brisque(drln_res)\n",
    "\n",
    "_, drln_enh_piqes, _ = piqe(drln_enh)\n",
    "_, drln_enh_brisques, _ = brisque(drln_enh)"
   ]
  },
  {
   "cell_type": "code",
   "execution_count": null,
   "metadata": {
    "colab": {
     "base_uri": "https://localhost:8080/",
     "height": 350
    },
    "id": "0hvUnNiJURpr",
    "outputId": "0aa248fb-4167-4c88-bced-b7082ee121ca"
   },
   "outputs": [],
   "source": [
    "import matplotlib.pyplot as plt\n",
    "import numpy as np\n",
    "\n",
    "data_a = [esrgan_lr_piqes, esrgan_res_piqes, esrgan_hr_piqes, esrgan_enh_piqes]\n",
    "data_b = [drln_lr_piqes, drln_res_piqes, drln_hr_piqes, drln_enh_piqes]\n",
    "\n",
    "ticks = ['LR', 'Restored', 'HR', 'Enhanced']\n",
    "\n",
    "def set_box_color(bp, color):\n",
    "    plt.setp(bp['boxes'], color=color)\n",
    "    plt.setp(bp['whiskers'], color=color)\n",
    "    plt.setp(bp['caps'], color=color)\n",
    "    plt.setp(bp['medians'], color=color)\n",
    "\n",
    "plt.figure()\n",
    "\n",
    "bpl = plt.boxplot(data_a, positions=np.array(range(len(data_a)))*2.0-0.4, sym='', widths=0.6)\n",
    "bpr = plt.boxplot(data_b, positions=np.array(range(len(data_b)))*2.0+0.4, sym='', widths=0.6)\n",
    "set_box_color(bpl, '#D7191C') # colors are from http://colorbrewer2.org/\n",
    "set_box_color(bpr, '#2C7BB6')\n",
    "\n",
    "# draw temporary red and blue lines and use them to create a legend\n",
    "plt.plot([], c='#D7191C', label='ESRGAN')\n",
    "plt.plot([], c='#2C7BB6', label='DRLN')\n",
    "plt.legend()\n",
    "\n",
    "plt.xticks(range(0, len(ticks) * 2, 2), ticks)\n",
    "plt.xlim(-2, len(ticks)*2)\n",
    "# plt.ylim(0, 8)\n",
    "plt.tight_layout()\n",
    "plt.title('ESRGAN & DRLN PIQE comparison')"
   ]
  },
  {
   "cell_type": "code",
   "execution_count": null,
   "metadata": {
    "colab": {
     "base_uri": "https://localhost:8080/",
     "height": 349
    },
    "id": "BfqiaUHJO5wT",
    "outputId": "3450cfc5-1bef-4799-ac9c-16b9dc6b10fc"
   },
   "outputs": [],
   "source": [
    "data_a = [esrgan_lr_brisques, esrgan_res_brisques, esrgan_hr_brisques, esrgan_enh_brisques]\n",
    "data_b = [drln_lr_brisques, drln_res_brisques, drln_hr_brisques, drln_enh_brisques]\n",
    "\n",
    "ticks = ['LR', 'Restored', 'HR', 'Enhanced']\n",
    "\n",
    "plt.figure()\n",
    "\n",
    "bpl = plt.boxplot(data_a, positions=np.array(range(len(data_a)))*2.0-0.4, sym='', widths=0.6)\n",
    "bpr = plt.boxplot(data_b, positions=np.array(range(len(data_b)))*2.0+0.4, sym='', widths=0.6)\n",
    "set_box_color(bpl, '#D7191C') # colors are from http://colorbrewer2.org/\n",
    "set_box_color(bpr, '#2C7BB6')\n",
    "\n",
    "# draw temporary red and blue lines and use them to create a legend\n",
    "plt.plot([], c='#D7191C', label='ESRGAN')\n",
    "plt.plot([], c='#2C7BB6', label='DRLN')\n",
    "plt.legend()\n",
    "\n",
    "plt.xticks(range(0, len(ticks) * 2, 2), ticks)\n",
    "plt.xlim(-2, len(ticks)*2)\n",
    "# plt.ylim(0, 8)\n",
    "plt.tight_layout()\n",
    "plt.title('ESRGAN & DRLN BRISQUE comparison')"
   ]
  },
  {
   "cell_type": "markdown",
   "metadata": {
    "id": "1boGKF4vNHJ0"
   },
   "source": [
    "# resolution eval"
   ]
  },
  {
   "cell_type": "code",
   "execution_count": null,
   "metadata": {
    "colab": {
     "base_uri": "https://localhost:8080/"
    },
    "id": "iVFA4WgsNVYW",
    "outputId": "7065d218-a8d0-4094-8bb6-6e5f5bacfa5f"
   },
   "outputs": [],
   "source": [
    "!pwd"
   ]
  },
  {
   "cell_type": "code",
   "execution_count": null,
   "metadata": {
    "colab": {
     "base_uri": "https://localhost:8080/"
    },
    "id": "NEn7Wr17NXe4",
    "outputId": "94a2a3ae-c4f1-415b-844b-d94e127ba267"
   },
   "outputs": [],
   "source": [
    "%cd /content/drive/MyDrive/"
   ]
  },
  {
   "cell_type": "code",
   "execution_count": null,
   "metadata": {
    "id": "TMMDEc2ADasA"
   },
   "outputs": [],
   "source": [
    "from msi_res import calculate_mtf\n",
    "from tifffile import imread\n",
    "from PIL import Image\n",
    "from tqdm import tqdm\n",
    "import matplotlib.pyplot as plt\n",
    "%matplotlib inline "
   ]
  },
  {
   "cell_type": "code",
   "execution_count": null,
   "metadata": {
    "colab": {
     "base_uri": "https://localhost:8080/"
    },
    "id": "jNClEHoSTWHW",
    "outputId": "8b09a9e1-8d7c-4da6-cf74-325124f16bf5"
   },
   "outputs": [],
   "source": [
    "!pwd"
   ]
  },
  {
   "cell_type": "code",
   "execution_count": null,
   "metadata": {
    "id": "_ee0WbKuSA-2"
   },
   "outputs": [],
   "source": [
    "lr_path = '/content/drive/MyDrive/liver1_test/DRLN_data/png/LR/'\n",
    "hr_path = '/content/drive/MyDrive/liver1_test/DRLN_data/png/HR/'\n",
    "\n",
    "res_path_drln = '/content/drive/MyDrive/liver1_test/DRLN_data/png/restored/'\n",
    "res_path_esrgan = '/content/drive/MyDrive/liver1_test/ESRGAN_x4/RES/'\n",
    "\n",
    "enh_path_drln = '/content/drive/MyDrive/liver1_test/DRLN_data/png/enhanced/'\n",
    "enh_path_esrgan = '/content/drive/MyDrive/liver1_test/ESRGAN_x4/ENH/'"
   ]
  },
  {
   "cell_type": "code",
   "execution_count": null,
   "metadata": {
    "colab": {
     "base_uri": "https://localhost:8080/"
    },
    "id": "Xn_dXTUTcYcL",
    "outputId": "3e4f5ad9-138d-49be-8d36-0c6ed09cd6f9"
   },
   "outputs": [],
   "source": [
    "lista = []\n",
    "lista.append(calculate_mtf(pad, 'abc', 0))\n",
    "lista.append(calculate_mtf(pad, 'abc', 0))\n",
    "np.array(lista)[0]"
   ]
  },
  {
   "cell_type": "markdown",
   "metadata": {
    "id": "z5xZh1lPcZCx"
   },
   "source": [
    "#### edge selection"
   ]
  },
  {
   "cell_type": "code",
   "execution_count": null,
   "metadata": {
    "id": "WZqTURT-KigC"
   },
   "outputs": [],
   "source": [
    "img = Image.open(hr_path + 'liver1peak1.png')\n",
    "arr = np.array(img)[:,:,0]"
   ]
  },
  {
   "cell_type": "code",
   "execution_count": null,
   "metadata": {
    "colab": {
     "base_uri": "https://localhost:8080/",
     "height": 304
    },
    "id": "aNZO50iRL8SU",
    "outputId": "d8a25b44-f3d4-420f-a943-a3c7239a82ed"
   },
   "outputs": [],
   "source": [
    "pad = np.zeros((40,44))\n",
    "pad[0:40, 12:44] = rotate(arr, 95, resize=True, clip = False)[80:120, 0:32]\n",
    "plt.imshow(pad)"
   ]
  },
  {
   "cell_type": "code",
   "execution_count": null,
   "metadata": {
    "colab": {
     "base_uri": "https://localhost:8080/"
    },
    "id": "xVXPE6s1cgOg",
    "outputId": "5740189b-e865-4ecf-f19f-c8b818a51817"
   },
   "outputs": [],
   "source": [
    "calculate_mtf(pad, '50', 0)"
   ]
  },
  {
   "cell_type": "code",
   "execution_count": null,
   "metadata": {
    "id": "XrQ7hLxlL8aL"
   },
   "outputs": [],
   "source": [
    "img = Image.open(lr_path + 'liver1peak1.png')\n",
    "arr = np.array(img)[:,:,0]"
   ]
  },
  {
   "cell_type": "code",
   "execution_count": null,
   "metadata": {
    "colab": {
     "base_uri": "https://localhost:8080/",
     "height": 302
    },
    "id": "m4b5V2ffL8fS",
    "outputId": "0b745d99-0835-46f4-9f70-a10450282ee6"
   },
   "outputs": [],
   "source": [
    "pad = np.zeros((10,11))\n",
    "pad[0:10, 3:11] = rotate(arr, 95, resize=True, clip = False)[20:30, 0:8]\n",
    "plt.imshow(pad)"
   ]
  },
  {
   "cell_type": "code",
   "execution_count": null,
   "metadata": {
    "colab": {
     "base_uri": "https://localhost:8080/"
    },
    "id": "u_YGsJ7vcrI1",
    "outputId": "83cbdb30-0bab-4a8d-878b-90b750194555"
   },
   "outputs": [],
   "source": [
    "calculate_mtf(pad, '50', 0)"
   ]
  },
  {
   "cell_type": "code",
   "execution_count": null,
   "metadata": {
    "colab": {
     "base_uri": "https://localhost:8080/",
     "height": 304
    },
    "id": "sKCOCufdL8mp",
    "outputId": "f557c8ea-ade9-44a4-d565-be8bb08c4710"
   },
   "outputs": [],
   "source": [
    "img = Image.open(res_path_esrgan + 'liver1peak1.png')\n",
    "arr = np.array(img)[:,:,0]\n",
    "pad = np.zeros((40,44))\n",
    "pad[0:40, 12:44] = rotate(arr, 95, resize=True, clip = False)[80:120, 0:32]\n",
    "plt.imshow(pad)"
   ]
  },
  {
   "cell_type": "code",
   "execution_count": null,
   "metadata": {
    "colab": {
     "base_uri": "https://localhost:8080/"
    },
    "id": "CSLDmS4HcvwS",
    "outputId": "204a49b9-2faf-41be-b7f9-f18e69cafe84"
   },
   "outputs": [],
   "source": [
    "calculate_mtf(pad, '50', 0)"
   ]
  },
  {
   "cell_type": "code",
   "execution_count": null,
   "metadata": {
    "colab": {
     "base_uri": "https://localhost:8080/",
     "height": 306
    },
    "id": "Zyywyj2bL8uh",
    "outputId": "d5003475-d034-4b4d-93ee-96594f333474"
   },
   "outputs": [],
   "source": [
    "img = Image.open(enh_path_esrgan + 'liver1peak1.png')\n",
    "arr = np.array(img)[:,:,0]\n",
    "pad = np.zeros((160,176))\n",
    "\n",
    "pad[0:160, 48:176] = rotate(arr, 95, resize=True, clip = False)[320:480, 0:128]\n",
    "plt.imshow(pad)"
   ]
  },
  {
   "cell_type": "code",
   "execution_count": null,
   "metadata": {
    "colab": {
     "base_uri": "https://localhost:8080/"
    },
    "id": "k_GasWqtcu79",
    "outputId": "63a6775c-9f4c-47e8-86c1-e8418effa3db"
   },
   "outputs": [],
   "source": [
    "calculate_mtf(pad, '50', 0)"
   ]
  },
  {
   "cell_type": "markdown",
   "metadata": {
    "id": "bFH6aRnmnBK4"
   },
   "source": [
    "## Compute resolution"
   ]
  },
  {
   "cell_type": "code",
   "execution_count": null,
   "metadata": {
    "id": "YEtz7q1a87Qb"
   },
   "outputs": [],
   "source": [
    "def filter_outliers(f):\n",
    "  for i in tqdm(range(f.shape[0])):\n",
    "      if f[i][0] == 1 or f[i][0] ==0 or f[i][1]>100 or f[i][1]<2 or (f[i][2])/(f[i][0]) > 0.90 or f[i][2] != f[i][2]:\n",
    "          f[i] = np.nan\n",
    "  return f\n",
    "\n",
    "def pixel(f):\n",
    "  pix = 100*2*1. / f\n",
    "  return pix"
   ]
  },
  {
   "cell_type": "code",
   "execution_count": null,
   "metadata": {
    "id": "dl12FD9TSLug"
   },
   "outputs": [],
   "source": [
    "def compute_res(path):\n",
    "  res_list = []\n",
    "  filelist = os.listdir(path)\n",
    "  for i in tqdm(filelist):\n",
    "    img = Image.open(path + i)\n",
    "    arr = np.array(img)[:,:,0]\n",
    "    pad = np.zeros((40,44))\n",
    "    pad[0:40, 12:44] = rotate(arr, 95, resize=True, clip = False)[80:120, 0:32]\n",
    "    res = calculate_mtf(pad, 'abc', 0)\n",
    "    res_list.append(res)\n",
    "  return res_list\n",
    "\n",
    "def compute_lr_res(path):\n",
    "  res_list = []\n",
    "  filelist = os.listdir(path)\n",
    "  for i in tqdm(filelist):\n",
    "    img = Image.open(path + i)\n",
    "    arr = np.array(img)[:,:,0]\n",
    "    pad = np.zeros((10,11))\n",
    "    pad[0:10, 3:11] = rotate(arr, 95, resize=True, clip = False)[20:30, 0:8]\n",
    "    res = calculate_mtf(pad, 'abc', 0)\n",
    "    res_list.append(res)\n",
    "  return res_list\n",
    "\n",
    "def compute_enh_res(path):\n",
    "  res_list = []\n",
    "  filelist = os.listdir(path)\n",
    "  for i in tqdm(filelist):\n",
    "    img = Image.open(path + i)\n",
    "    arr = np.array(img)[:,:,0]\n",
    "    pad = np.zeros((160,176))\n",
    "    pad[0:160, 48:176] = rotate(arr, 95, resize=True, clip = False)[320:480, 0:128]\n",
    "    res = calculate_mtf(pad, 'abc', 0)\n",
    "    res_list.append(res)\n",
    "  return res_list"
   ]
  },
  {
   "cell_type": "code",
   "execution_count": null,
   "metadata": {
    "colab": {
     "base_uri": "https://localhost:8080/"
    },
    "id": "K4wO2cOgNSxM",
    "outputId": "f6c1122f-8748-42b7-f017-407fcb81751f"
   },
   "outputs": [],
   "source": [
    "hr_list = compute_res(path = hr_path)\n",
    "\n",
    "res_drln_list = compute_res(path = res_path_drln)\n",
    "res_esrgan_list = compute_res(path = res_path_esrgan)"
   ]
  },
  {
   "cell_type": "code",
   "execution_count": null,
   "metadata": {
    "colab": {
     "base_uri": "https://localhost:8080/"
    },
    "id": "_D90n6r55xtV",
    "outputId": "bfb827bc-425a-46da-b514-887b15289245"
   },
   "outputs": [],
   "source": [
    "lr_list = compute_lr_res(path = lr_path)"
   ]
  },
  {
   "cell_type": "code",
   "execution_count": null,
   "metadata": {
    "colab": {
     "base_uri": "https://localhost:8080/"
    },
    "id": "HkyXjJUI5zyN",
    "outputId": "39d9445c-3d68-4c8f-993b-42950ad2960d"
   },
   "outputs": [],
   "source": [
    "enh_drln_list = compute_enh_res(path = enh_path_drln)\n",
    "enh_esrgan_list = compute_enh_res(path = enh_path_esrgan)"
   ]
  },
  {
   "cell_type": "code",
   "execution_count": null,
   "metadata": {
    "colab": {
     "base_uri": "https://localhost:8080/"
    },
    "id": "C-70MPp317ul",
    "outputId": "623598fe-8b88-4ccc-8890-f981a54264c6"
   },
   "outputs": [],
   "source": [
    "hr_list_arr = np.array(hr_list)\n",
    "hr_list_f = filter_outliers(hr_list_arr)\n",
    "hr_list_f = hr_list_f[:,0]\n",
    "hr_list_f = hr_list_f[~np.isnan(hr_list_f)]"
   ]
  },
  {
   "cell_type": "code",
   "execution_count": null,
   "metadata": {
    "colab": {
     "base_uri": "https://localhost:8080/"
    },
    "id": "a6XjN1Vi2WvD",
    "outputId": "6210a31b-075b-4426-b182-15e7bb6d4412"
   },
   "outputs": [],
   "source": [
    "lr_list_arr = np.array(lr_list)\n",
    "lr_list_f = filter_outliers(lr_list_arr)\n",
    "lr_list_f = lr_list_f[:,0]\n",
    "lr_list_f = lr_list_f[~np.isnan(lr_list_f)]"
   ]
  },
  {
   "cell_type": "code",
   "execution_count": null,
   "metadata": {
    "colab": {
     "base_uri": "https://localhost:8080/"
    },
    "id": "_68k2scj3VLA",
    "outputId": "0d822ee4-f057-4c26-f2f9-392601bc326a"
   },
   "outputs": [],
   "source": [
    "res_drln_list_f = filter_outliers(np.array(res_drln_list))\n",
    "res_drln_list_f = res_drln_list_f[:,0]\n",
    "res_drln_list_f = res_drln_list_f[~np.isnan(res_drln_list_f)]\n",
    "\n",
    "enh_drln_list_f = filter_outliers(np.array(enh_drln_list))\n",
    "enh_drln_list_f = enh_drln_list_f[:,0]\n",
    "enh_drln_list_f = enh_drln_list_f[~np.isnan(enh_drln_list_f)]\n",
    "\n",
    "\n",
    "res_esrgan_list_f = filter_outliers(np.array(res_esrgan_list))\n",
    "res_esrgan_list_f = res_esrgan_list_f[:,0]\n",
    "res_esrgan_list_f = res_esrgan_list_f[~np.isnan(res_esrgan_list_f)]\n",
    "\n",
    "\n",
    "enh_esrgan_list_f = filter_outliers(np.array(enh_esrgan_list))\n",
    "enh_esrgan_list_f = enh_esrgan_list_f[:,0]\n",
    "enh_esrgan_list_f = enh_esrgan_list_f[~np.isnan(enh_esrgan_list_f)]\n"
   ]
  },
  {
   "cell_type": "code",
   "execution_count": null,
   "metadata": {
    "id": "uWH8HIG5Sd-k"
   },
   "outputs": [],
   "source": [
    "import pickle\n",
    "with open('/content/drive/MyDrive/resolution_eval/x4/hr_f.pkl', 'wb') as f:\n",
    "  pickle.dump(hr_list_f, f)\n",
    "\n",
    "with open('/content/drive/MyDrive/resolution_eval/x4/lr_f.pkl', 'wb') as f:\n",
    "  pickle.dump(lr_list_f, f)\n",
    "\n",
    "with open('/content/drive/MyDrive/resolution_eval/x4/res_drln_f.pkl', 'wb') as f:\n",
    "  pickle.dump(res_drln_list_f, f)\n",
    "\n",
    "with open('/content/drive/MyDrive/resolution_eval/x4/enh_drln_f.pkl', 'wb') as f:\n",
    "  pickle.dump(enh_drln_list_f, f)\n",
    "\n",
    "with open('/content/drive/MyDrive/resolution_eval/x4/enh_esrgan_f.pkl', 'wb') as f:\n",
    "  pickle.dump(enh_esrgan_list_f, f)\n",
    "\n",
    "with open('/content/drive/MyDrive/resolution_eval/x4/res_esrgan_f.pkl', 'wb') as f:\n",
    "  pickle.dump(res_esrgan_list_f, f)"
   ]
  },
  {
   "cell_type": "code",
   "execution_count": null,
   "metadata": {
    "id": "nJ2RG8oNWtep"
   },
   "outputs": [],
   "source": [
    "import pickle\n",
    "with open('/content/drive/MyDrive/resolution_eval/x4/hr_f.pkl', 'rb') as g:\n",
    "  hr_list_f = pickle.load(g)\n",
    "\n",
    "with open('/content/drive/MyDrive/resolution_eval/x4/lr_f.pkl', 'rb') as g:\n",
    "  lr_list_f = pickle.load(g)\n",
    "\n",
    "with open('/content/drive/MyDrive/resolution_eval/x4/res_drln_f.pkl', 'rb') as g:\n",
    "  res_drln_list_f = pickle.load(g)\n",
    "\n",
    "with open('/content/drive/MyDrive/resolution_eval/x4/enh_drln_f.pkl', 'rb') as g:\n",
    "  enh_drln_list_f = pickle.load(g)\n",
    "\n",
    "with open('/content/drive/MyDrive/resolution_eval/x4/enh_esrgan_f.pkl', 'rb') as g:\n",
    "  enh_esrgan_list_f = pickle.load(g)\n",
    "\n",
    "with open('/content/drive/MyDrive/resolution_eval/x4/res_esrgan_f.pkl', 'rb') as g:\n",
    "  res_esrgan_list_f = pickle.load(g)"
   ]
  },
  {
   "cell_type": "code",
   "execution_count": null,
   "metadata": {
    "id": "KErr7bINJ09b"
   },
   "outputs": [],
   "source": [
    "lr_list_1 = lr_list_f/4\n",
    "enh_drln_list_1 = enh_drln_list_f * 4\n",
    "enh_esrgan_list_1 = enh_esrgan_list_f * 4"
   ]
  },
  {
   "cell_type": "code",
   "execution_count": null,
   "metadata": {
    "id": "pAoJuV4zKThs"
   },
   "outputs": [],
   "source": [
    "# pixel size in microns, lower the better"
   ]
  },
  {
   "cell_type": "code",
   "execution_count": null,
   "metadata": {
    "colab": {
     "base_uri": "https://localhost:8080/",
     "height": 400
    },
    "id": "JhDc5NGFMhbQ",
    "outputId": "319108d5-cf89-4e24-d1d0-4df069ecf80a"
   },
   "outputs": [],
   "source": [
    "data_a = [lr_list_1, res_esrgan_list_f, hr_list_f, enh_esrgan_list_1]\n",
    "data_b = [lr_list_1, res_drln_list_f, hr_list_f, enh_drln_list_1]\n",
    "\n",
    "\n",
    "ticks = ['LR', 'Restored', 'HR', 'Enhanced']\n",
    "\n",
    "plt.figure()\n",
    "def set_box_color(bp, color):\n",
    "    plt.setp(bp['boxes'], color=color)\n",
    "    plt.setp(bp['whiskers'], color=color)\n",
    "    plt.setp(bp['caps'], color=color)\n",
    "    plt.setp(bp['medians'], color=color)\n",
    "\n",
    "bpl = plt.boxplot(data_a, positions=np.array(range(len(data_a)))*2.0-0.4, sym='', widths=0.6)\n",
    "bpr = plt.boxplot(data_b, positions=np.array(range(len(data_b)))*2.0+0.4, sym='', widths=0.6)\n",
    "set_box_color(bpl, '#D7191C') # colors are from http://colorbrewer2.org/\n",
    "set_box_color(bpr, '#2C7BB6')\n",
    "\n",
    "# draw temporary red and blue lines and use them to create a legend\n",
    "plt.plot([], c='#D7191C', label='ESRGAN')\n",
    "plt.plot([], c='#2C7BB6', label='DRLN')\n",
    "plt.legend()\n",
    "plt.title('liver1 resolution between DRLN and ESRGAN')\n",
    "plt.xticks(range(0, len(ticks) * 2, 2), ticks)\n",
    "plt.xlim(-2, len(ticks)*2)\n",
    "plt.ylim(0, 1)\n",
    "plt.tight_layout()\n",
    "\n",
    "plt.xticks(range(0, len(ticks) * 2, 2), ticks)\n",
    "plt.xlim(-2, len(ticks)*2)\n",
    "plt.ylim(0, 3)\n",
    "plt.tight_layout()\n",
    "plt.title('DRLN & ESRGAN cut-off frequency comparison')"
   ]
  },
  {
   "cell_type": "code",
   "execution_count": null,
   "metadata": {
    "colab": {
     "base_uri": "https://localhost:8080/",
     "height": 416
    },
    "id": "iyYB97QZ_VD5",
    "outputId": "36a1cc24-cbbe-4988-92e8-c0efd5e4fffa"
   },
   "outputs": [],
   "source": [
    "data_a = [pixel(lr_list_1), pixel(res_esrgan_list_f), pixel(hr_list_f), pixel(enh_esrgan_list_1)]\n",
    "data_b = [pixel(lr_list_1), pixel(res_drln_list_f), pixel(hr_list_f), pixel(enh_drln_list_1)]\n",
    "\n",
    "ticks = ['LR', 'Restored', 'HR', 'Enhanced']\n",
    "\n",
    "def set_box_color(bp, color):\n",
    "    plt.setp(bp['boxes'], color=color)\n",
    "    plt.setp(bp['whiskers'], color=color)\n",
    "    plt.setp(bp['caps'], color=color)\n",
    "    plt.setp(bp['medians'], color=color)\n",
    "\n",
    "plt.figure()\n",
    "\n",
    "bpl = plt.boxplot(data_a, positions=np.array(range(len(data_a)))*2.0-0.4, sym='', widths=0.6)\n",
    "bpr = plt.boxplot(data_b, positions=np.array(range(len(data_b)))*2.0+0.4, sym='', widths=0.6)\n",
    "set_box_color(bpl, '#D7191C') # colors are from http://colorbrewer2.org/\n",
    "set_box_color(bpr, '#2C7BB6')\n",
    "\n",
    "# draw temporary red and blue lines and use them to create a legend\n",
    "plt.plot([], c='#D7191C', label='ESRGAN')\n",
    "plt.plot([], c='#2C7BB6', label='DRLN')\n",
    "plt.legend()\n",
    "\n",
    "plt.xticks(range(0, len(ticks) * 2, 2), ticks)\n",
    "plt.ylabel('pixel size in microns')\n",
    "plt.xlim(-2, len(ticks)*2)\n",
    "plt.tight_layout()\n",
    "plt.title('ESRGAN & DRLN resolution comparison')"
   ]
  },
  {
   "cell_type": "code",
   "execution_count": null,
   "metadata": {
    "id": "ZUDxtGLXwLj0"
   },
   "outputs": [],
   "source": [
    "hr: 2 * 100 / freq"
   ]
  },
  {
   "cell_type": "code",
   "execution_count": null,
   "metadata": {
    "id": "JFstYa3kbled"
   },
   "outputs": [],
   "source": [
    "lr: 2 * 4* 100 / freq"
   ]
  },
  {
   "cell_type": "code",
   "execution_count": null,
   "metadata": {
    "id": "5b8WFMCAJm5E"
   },
   "outputs": [],
   "source": [
    "enhanced: 2 / 4 * 100 / freq     pixel size in microns, lower the better"
   ]
  }
 ],
 "metadata": {
  "colab": {
   "collapsed_sections": [],
   "name": "boxplot_x4.ipynb",
   "provenance": []
  },
  "kernelspec": {
   "display_name": "Python 3",
   "language": "python",
   "name": "python3"
  },
  "language_info": {
   "codemirror_mode": {
    "name": "ipython",
    "version": 3
   },
   "file_extension": ".py",
   "mimetype": "text/x-python",
   "name": "python",
   "nbconvert_exporter": "python",
   "pygments_lexer": "ipython3",
   "version": "3.7.9"
  }
 },
 "nbformat": 4,
 "nbformat_minor": 1
}
