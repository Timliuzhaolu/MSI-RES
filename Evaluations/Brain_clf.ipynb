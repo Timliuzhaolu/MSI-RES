{
 "cells": [
  {
   "cell_type": "code",
   "execution_count": null,
   "metadata": {
    "colab": {
     "base_uri": "https://localhost:8080/"
    },
    "executionInfo": {
     "elapsed": 33890,
     "status": "ok",
     "timestamp": 1628951847406,
     "user": {
      "displayName": "Zhaolu Liu",
      "photoUrl": "",
      "userId": "00800126687900378030"
     },
     "user_tz": -480
    },
    "id": "0VB4eWEfugMx",
    "outputId": "700b5981-baff-4e60-b2aa-386f770a6c85"
   },
   "outputs": [],
   "source": [
    "from google.colab import drive\n",
    "drive.mount('/content/drive')"
   ]
  },
  {
   "cell_type": "code",
   "execution_count": null,
   "metadata": {
    "executionInfo": {
     "elapsed": 799,
     "status": "ok",
     "timestamp": 1628951848201,
     "user": {
      "displayName": "Zhaolu Liu",
      "photoUrl": "",
      "userId": "00800126687900378030"
     },
     "user_tz": -480
    },
    "id": "Fowpvb__uWtR"
   },
   "outputs": [],
   "source": [
    "import numpy as np\n",
    "import scipy.stats as st\n",
    "import sklearn.linear_model as lm\n",
    "import matplotlib.pyplot as plt\n",
    "import pandas as pd\n",
    "from io import StringIO\n",
    "%matplotlib inline\n",
    "import time\n",
    "\n",
    "from sklearn.model_selection import cross_val_score, cross_val_predict\n",
    "from sklearn.model_selection import KFold\n",
    "from sklearn.linear_model import LogisticRegression\n",
    "from sklearn.tree import DecisionTreeClassifier\n",
    "from sklearn.neighbors import KNeighborsClassifier\n",
    "from sklearn.discriminant_analysis import LinearDiscriminantAnalysis\n",
    "from sklearn.naive_bayes import GaussianNB\n",
    "from sklearn.svm import SVC\n",
    "from sklearn.ensemble import RandomForestClassifier\n",
    "import seaborn as sns\n",
    "import os\n",
    "\n",
    "from sklearn.metrics import confusion_matrix\n",
    "import pickle\n",
    "from sklearn.model_selection import train_test_split\n",
    "from sklearn.linear_model import LogisticRegressionCV\n",
    "from sklearn import metrics\n",
    "from tqdm import tqdm"
   ]
  },
  {
   "cell_type": "markdown",
   "metadata": {
    "id": "57c-yifJqj66"
   },
   "source": [
    "# New Cerebral Cortices"
   ]
  },
  {
   "cell_type": "markdown",
   "metadata": {
    "id": "PW8ntVi8qofs"
   },
   "source": [
    "## Import data"
   ]
  },
  {
   "cell_type": "code",
   "execution_count": null,
   "metadata": {
    "colab": {
     "base_uri": "https://localhost:8080/"
    },
    "executionInfo": {
     "elapsed": 572,
     "status": "ok",
     "timestamp": 1628951875251,
     "user": {
      "displayName": "Zhaolu Liu",
      "photoUrl": "",
      "userId": "00800126687900378030"
     },
     "user_tz": -480
    },
    "id": "gTpZucc5qofu",
    "outputId": "9145c83e-8b6f-43a4-ba40-673e8be25051"
   },
   "outputs": [],
   "source": [
    "# list all csv file in folder\n",
    "from os import listdir\n",
    " \n",
    "def list_files(directory, extension):\n",
    "    return (f for f in listdir(directory) if f.endswith('.' + extension))\n",
    "\n",
    "directory = '/content/drive/MyDrive/Data for supervised analysis/cerebral_cortices_new/'\n",
    "# directory = \"D:/BOX/Box Sync/RA/data/IMAGING/DESI/from olof/shared-files-with-Olof/paper2/data/csv/\"\n",
    "# directory = \"D:/BOX/Box Sync/RA/data/IMAGING/DESI/from olof/shared-files-with-Olof/paper1/normalcancer/extra/\"\n",
    "\n",
    "files = list_files(directory, \"csv\")\n",
    "filenames=[]\n",
    "for f in files:\n",
    "    filenames.append(f)\n",
    "\n",
    "print(len(filenames))    \n",
    "filenames"
   ]
  },
  {
   "cell_type": "code",
   "execution_count": null,
   "metadata": {
    "colab": {
     "base_uri": "https://localhost:8080/",
     "height": 433
    },
    "executionInfo": {
     "elapsed": 5814,
     "status": "ok",
     "timestamp": 1628951882690,
     "user": {
      "displayName": "Zhaolu Liu",
      "photoUrl": "",
      "userId": "00800126687900378030"
     },
     "user_tz": -480
    },
    "id": "TgpCFJCEqofw",
    "outputId": "6d22ccb1-01b4-4700-b33c-d1b68ec2cf41",
    "scrolled": false
   },
   "outputs": [],
   "source": [
    "df0 = filenames[0]\n",
    "df1 = filenames[1]\n",
    "df2 = filenames[2]\n",
    "df3 = filenames[3]\n",
    "\n",
    "\n",
    "file0 = pd.read_csv(directory+df0) # change this directory to your folder\n",
    "file1 = pd.read_csv(directory+df1)\n",
    "file2 = pd.read_csv(directory+df2)\n",
    "file3 = pd.read_csv(directory+df3)\n",
    "\n",
    "\n",
    "file = pd.concat([file0, file1, file2, file3], ignore_index=True)\n",
    "file.reset_index(drop = True)\n",
    "Data = file.iloc[:,2:]\n",
    "\n",
    "Data=Data.fillna(0) #replace NAs with 0\n",
    "file"
   ]
  },
  {
   "cell_type": "code",
   "execution_count": null,
   "metadata": {
    "id": "iv0cwP_6GSHn"
   },
   "outputs": [],
   "source": []
  },
  {
   "cell_type": "markdown",
   "metadata": {
    "id": "ScG-HJ9UGZgN"
   },
   "source": [
    "# Mean spec"
   ]
  },
  {
   "cell_type": "code",
   "execution_count": null,
   "metadata": {
    "executionInfo": {
     "elapsed": 388,
     "status": "ok",
     "timestamp": 1628951920637,
     "user": {
      "displayName": "Zhaolu Liu",
      "photoUrl": "",
      "userId": "00800126687900378030"
     },
     "user_tz": -480
    },
    "id": "GCWx1WJPCpDP"
   },
   "outputs": [],
   "source": [
    "mean_spec = Data.mean()"
   ]
  },
  {
   "cell_type": "code",
   "execution_count": null,
   "metadata": {
    "colab": {
     "base_uri": "https://localhost:8080/"
    },
    "executionInfo": {
     "elapsed": 4,
     "status": "ok",
     "timestamp": 1628951922421,
     "user": {
      "displayName": "Zhaolu Liu",
      "photoUrl": "",
      "userId": "00800126687900378030"
     },
     "user_tz": -480
    },
    "id": "pcL1_g_zC3_S",
    "outputId": "e1ba34cf-fac8-412a-c142-95091353806d"
   },
   "outputs": [],
   "source": [
    "np.array(mean_spec)"
   ]
  },
  {
   "cell_type": "code",
   "execution_count": null,
   "metadata": {
    "executionInfo": {
     "elapsed": 394,
     "status": "ok",
     "timestamp": 1628951935321,
     "user": {
      "displayName": "Zhaolu Liu",
      "photoUrl": "",
      "userId": "00800126687900378030"
     },
     "user_tz": -480
    },
    "id": "Nu53MgqmC4LR"
   },
   "outputs": [],
   "source": [
    "peaks = list(Data.columns)\n",
    "results = list(map(float, peaks))"
   ]
  },
  {
   "cell_type": "code",
   "execution_count": null,
   "metadata": {
    "colab": {
     "base_uri": "https://localhost:8080/",
     "height": 592
    },
    "executionInfo": {
     "elapsed": 778,
     "status": "ok",
     "timestamp": 1628953075063,
     "user": {
      "displayName": "Zhaolu Liu",
      "photoUrl": "",
      "userId": "00800126687900378030"
     },
     "user_tz": -480
    },
    "id": "4KHtv2-8JR4K",
    "outputId": "ac731a91-7194-4182-e2bf-0300fcd455a4"
   },
   "outputs": [],
   "source": [
    "from matplotlib.pyplot import figure\n",
    "figure(figsize=(8, 6), dpi = 100)\n",
    "plt.ylim(0,30000)\n",
    "plt.xlabel('m/z')\n",
    "plt.title('Mean spectrum with original data')\n",
    "plt.plot(results, mean_spec)"
   ]
  },
  {
   "cell_type": "code",
   "execution_count": null,
   "metadata": {
    "colab": {
     "base_uri": "https://localhost:8080/"
    },
    "executionInfo": {
     "elapsed": 288,
     "status": "ok",
     "timestamp": 1628561067183,
     "user": {
      "displayName": "Zhaolu Liu",
      "photoUrl": "",
      "userId": "00800126687900378030"
     },
     "user_tz": -480
    },
    "id": "oQNof5Qrqofx",
    "outputId": "4c3b80db-c710-4018-f303-73ba8b948688"
   },
   "outputs": [],
   "source": [
    "file['Label'].value_counts()"
   ]
  },
  {
   "cell_type": "code",
   "execution_count": null,
   "metadata": {
    "id": "uy0XTtIYqofy"
   },
   "outputs": [],
   "source": [
    "file['health'] = file['ID']\n",
    "for i in range(file.shape[0]):\n",
    "    if file['Label'][i] == 'CC1':\n",
    "        file['health'][i] = 1\n",
    "    if file['Label'][i] == 'CC2':\n",
    "        file['health'][i] = 1\n",
    "    if file['Label'][i] == 'CC3':\n",
    "        file['health'][i] = 0\n",
    "    if file['Label'][i] == 'CC4':\n",
    "        file['health'][i] = 0\n"
   ]
  },
  {
   "cell_type": "code",
   "execution_count": null,
   "metadata": {
    "colab": {
     "base_uri": "https://localhost:8080/"
    },
    "executionInfo": {
     "elapsed": 295,
     "status": "ok",
     "timestamp": 1628561073751,
     "user": {
      "displayName": "Zhaolu Liu",
      "photoUrl": "",
      "userId": "00800126687900378030"
     },
     "user_tz": -480
    },
    "id": "ThBNrpaWqofz",
    "outputId": "637a1e2d-3e21-4f4b-9566-c497d5799fab",
    "scrolled": true
   },
   "outputs": [],
   "source": [
    "file['health'].value_counts()"
   ]
  },
  {
   "cell_type": "markdown",
   "metadata": {
    "id": "f4FLDILLqofz"
   },
   "source": [
    "## Define m/z axis"
   ]
  },
  {
   "cell_type": "code",
   "execution_count": null,
   "metadata": {
    "colab": {
     "base_uri": "https://localhost:8080/"
    },
    "executionInfo": {
     "elapsed": 291,
     "status": "ok",
     "timestamp": 1628561076975,
     "user": {
      "displayName": "Zhaolu Liu",
      "photoUrl": "",
      "userId": "00800126687900378030"
     },
     "user_tz": -480
    },
    "id": "sYSfD1bwqof0",
    "outputId": "04821311-b4d7-4a46-8278-623c839b140f"
   },
   "outputs": [],
   "source": [
    "tmp = Data.columns.values \n",
    "mz = tmp.astype(np.float)\n",
    "mz_trans=mz.transpose()\n",
    "mz.shape"
   ]
  },
  {
   "cell_type": "markdown",
   "metadata": {
    "id": "8GJdAaaiqof0"
   },
   "source": [
    "## Log transform"
   ]
  },
  {
   "cell_type": "code",
   "execution_count": null,
   "metadata": {
    "colab": {
     "base_uri": "https://localhost:8080/"
    },
    "executionInfo": {
     "elapsed": 921,
     "status": "ok",
     "timestamp": 1628561080484,
     "user": {
      "displayName": "Zhaolu Liu",
      "photoUrl": "",
      "userId": "00800126687900378030"
     },
     "user_tz": -480
    },
    "id": "ulKQKUOuqof1",
    "outputId": "1a0592b8-8c4b-4037-97e8-c76923bb9a65"
   },
   "outputs": [],
   "source": [
    "data = Data\n",
    "# data = Data_r\n",
    "# data = Data_f\n",
    "tmp_log = data[data != 0]\n",
    "logOS = np.nanmedian(tmp_log)\n",
    "Data_log = np.log(data+logOS)\n",
    "Data_log.shape"
   ]
  },
  {
   "cell_type": "code",
   "execution_count": null,
   "metadata": {
    "colab": {
     "base_uri": "https://localhost:8080/"
    },
    "executionInfo": {
     "elapsed": 294,
     "status": "ok",
     "timestamp": 1628565463139,
     "user": {
      "displayName": "Zhaolu Liu",
      "photoUrl": "",
      "userId": "00800126687900378030"
     },
     "user_tz": -480
    },
    "id": "tB4E1xfvEIv0",
    "outputId": "2a613bce-ad6c-4720-ea63-9e53d1df14b4"
   },
   "outputs": [],
   "source": [
    "logOS"
   ]
  },
  {
   "cell_type": "markdown",
   "metadata": {
    "id": "BW5CgFRsqof1"
   },
   "source": [
    "## Normal PCA"
   ]
  },
  {
   "cell_type": "code",
   "execution_count": null,
   "metadata": {
    "colab": {
     "base_uri": "https://localhost:8080/",
     "height": 453
    },
    "executionInfo": {
     "elapsed": 2198,
     "status": "ok",
     "timestamp": 1628561085114,
     "user": {
      "displayName": "Zhaolu Liu",
      "photoUrl": "",
      "userId": "00800126687900378030"
     },
     "user_tz": -480
    },
    "id": "-YIRgLh5qof2",
    "outputId": "8cf9c70b-ad93-465b-8291-8f5a2cbbd257",
    "scrolled": false
   },
   "outputs": [],
   "source": [
    "# PCA\n",
    "from sklearn.decomposition import PCA\n",
    "pca = PCA(n_components=3) #keep first 3 components\n",
    "X_2D = pca.fit(Data_log).transform(Data_log)\n",
    "loadings = pd.DataFrame(pca.components_.T, columns=['PC1', 'PC2','PC3'])\n",
    "PCA_data=file\n",
    "PCA_data['PC1'] = X_2D[:,0]\n",
    "PCA_data['PC2'] = X_2D[:,1]\n",
    "group_label = list(PCA_data.columns)\n",
    "# PCA_data\n",
    "colors=['magenta','green','navy', 'r', 'b', 'y', 'orange', 'indigo']\n",
    "sns.lmplot(\"PC1\", \"PC2\", hue=group_label[-3], data=PCA_data, palette=colors, fit_reg=False)"
   ]
  },
  {
   "cell_type": "code",
   "execution_count": null,
   "metadata": {
    "colab": {
     "base_uri": "https://localhost:8080/",
     "height": 406
    },
    "executionInfo": {
     "elapsed": 1286,
     "status": "ok",
     "timestamp": 1628561090323,
     "user": {
      "displayName": "Zhaolu Liu",
      "photoUrl": "",
      "userId": "00800126687900378030"
     },
     "user_tz": -480
    },
    "id": "4Cu8KcUsqof2",
    "outputId": "d8caf604-2044-4c5b-bfd6-c40c7594bba5"
   },
   "outputs": [],
   "source": [
    "#PCA cont.\n",
    "per_var = np.round(pca.explained_variance_ratio_* 100, decimals=1)\n",
    "labels = ['PC' + str(x) for x in range(1, len(per_var)+1)]\n",
    "\n",
    "fig,axs = plt.subplots(ncols=3,constrained_layout=True,figsize=(15,5))\n",
    "\n",
    "axs[0].bar(x=range(1,len(per_var)+1), height=per_var, tick_label=labels)\n",
    "axs[0].set_ylabel('Percentage of Explained Variance')\n",
    "axs[0].set_xlabel('Principal Component')\n",
    "axs[0].set_title('Scree Plot')\n",
    "\n",
    "axs[1].scatter(loadings['PC1'],loadings['PC2'])\n",
    "axs[1].set_title('PC loadings plot')\n",
    "axs[1].set_xlabel('PC1 %0.2f %%' % (pca.explained_variance_ratio_[0] * 100))\n",
    "axs[1].set_ylabel('PC2 %0.2f %%' % (pca.explained_variance_ratio_[1] * 100))\n",
    "\n",
    "axs[2].plot(mz,loadings['PC2'].abs())\n",
    "# axs[2].plot(mz,loadings['PC3'])\n",
    "axs[2].set_title('PC loadings plot')\n",
    "axs[2].set_xlabel('m/z')\n",
    "axs[2].set_ylabel('PC loadings');"
   ]
  },
  {
   "cell_type": "markdown",
   "metadata": {
    "id": "_OfDXYUeqof3"
   },
   "source": [
    "## Model evaluation"
   ]
  },
  {
   "cell_type": "code",
   "execution_count": null,
   "metadata": {
    "colab": {
     "base_uri": "https://localhost:8080/"
    },
    "executionInfo": {
     "elapsed": 290,
     "status": "ok",
     "timestamp": 1628561093554,
     "user": {
      "displayName": "Zhaolu Liu",
      "photoUrl": "",
      "userId": "00800126687900378030"
     },
     "user_tz": -480
    },
    "id": "gBKxH20Mqof3",
    "outputId": "d9484b35-3059-4837-f0fe-5794797e2959"
   },
   "outputs": [],
   "source": [
    "# Check group sizes\n",
    "\n",
    "labelnames = set(file.iloc[:,-3])\n",
    "labelnames = list(labelnames)\n",
    "\n",
    "w = np.zeros(len(labelnames))\n",
    "for i in range(0,len(labelnames)):\n",
    "    group=file[file.iloc[:,-3]== labelnames[i]]\n",
    "    w[i]=(len(group))\n",
    "    print('group' + str(i) + ' sample size: '+str(w[i])+'\\n')\n",
    "\n",
    "print('ratio: '+str(w/max(w)))\n",
    "weights = {labelnames[0]:1.0, labelnames[1]:w[0]/w[1]}"
   ]
  },
  {
   "cell_type": "code",
   "execution_count": null,
   "metadata": {
    "id": "enm0dNc0rq7Q"
   },
   "outputs": [],
   "source": [
    "X = Data_log\n",
    "y = file['health']\n",
    "X_train, X_test, y_train, y_test = train_test_split(X, y, test_size=0.2, random_state=123)"
   ]
  },
  {
   "cell_type": "code",
   "execution_count": null,
   "metadata": {
    "id": "bxTsT3q1rq7a"
   },
   "outputs": [],
   "source": [
    "clf = LogisticRegressionCV(cv=5, random_state=0, solver='liblinear').fit(X_train, y_train)"
   ]
  },
  {
   "cell_type": "code",
   "execution_count": null,
   "metadata": {
    "colab": {
     "base_uri": "https://localhost:8080/"
    },
    "executionInfo": {
     "elapsed": 1640,
     "status": "ok",
     "timestamp": 1628561367174,
     "user": {
      "displayName": "Zhaolu Liu",
      "photoUrl": "",
      "userId": "00800126687900378030"
     },
     "user_tz": -480
    },
    "id": "VgH4Y660rq7b",
    "outputId": "ed9dd36f-8a50-4833-a4e8-5f8ffd53512b"
   },
   "outputs": [],
   "source": [
    "clf.score(X_train, y_train)"
   ]
  },
  {
   "cell_type": "code",
   "execution_count": null,
   "metadata": {
    "colab": {
     "base_uri": "https://localhost:8080/",
     "height": 221
    },
    "executionInfo": {
     "elapsed": 302,
     "status": "ok",
     "timestamp": 1628561391594,
     "user": {
      "displayName": "Zhaolu Liu",
      "photoUrl": "",
      "userId": "00800126687900378030"
     },
     "user_tz": -480
    },
    "id": "l1pc1RmErq7d",
    "outputId": "9fba2a4f-2b5c-4808-df80-486f6f0361bc"
   },
   "outputs": [],
   "source": [
    "y_pred = pd.Series(clf.predict(X_test))\n",
    "y_test = y_test.reset_index(drop=True)\n",
    "z = pd.concat([y_test, y_pred], axis=1)\n",
    "z.columns = ['True', 'Prediction']\n",
    "z.head()"
   ]
  },
  {
   "cell_type": "code",
   "execution_count": null,
   "metadata": {
    "colab": {
     "base_uri": "https://localhost:8080/"
    },
    "executionInfo": {
     "elapsed": 295,
     "status": "ok",
     "timestamp": 1628561394602,
     "user": {
      "displayName": "Zhaolu Liu",
      "photoUrl": "",
      "userId": "00800126687900378030"
     },
     "user_tz": -480
    },
    "id": "Y5HpOKgVrq7e",
    "outputId": "29bf18b3-3eec-4155-8603-7ce8676862c3"
   },
   "outputs": [],
   "source": [
    "from sklearn.metrics import confusion_matrix\n",
    "confusion_matrix(y_test, y_pred)"
   ]
  },
  {
   "cell_type": "code",
   "execution_count": null,
   "metadata": {
    "colab": {
     "base_uri": "https://localhost:8080/"
    },
    "executionInfo": {
     "elapsed": 297,
     "status": "ok",
     "timestamp": 1628561396513,
     "user": {
      "displayName": "Zhaolu Liu",
      "photoUrl": "",
      "userId": "00800126687900378030"
     },
     "user_tz": -480
    },
    "id": "ymdt2XuQrq7f",
    "outputId": "77270870-3328-44ee-e944-3a3d6903d5b6"
   },
   "outputs": [],
   "source": [
    "print(\"Accuracy:\", metrics.accuracy_score(y_test, y_pred))\n",
    "print(\"Precision:\", metrics.precision_score(y_test, y_pred))\n",
    "print(\"Recall:\", metrics.recall_score(y_test, y_pred))"
   ]
  },
  {
   "cell_type": "markdown",
   "metadata": {
    "id": "1-STGk_tqof6"
   },
   "source": [
    "## Recursive feature selection"
   ]
  },
  {
   "cell_type": "code",
   "execution_count": null,
   "metadata": {
    "colab": {
     "background_save": true
    },
    "id": "QsLbbko2qof6"
   },
   "outputs": [],
   "source": [
    "# RFECV - use CV to determine & select best number of features\n",
    "from sklearn.feature_selection import RFECV\n",
    "\n",
    "model = LogisticRegression(solver='liblinear')\n",
    "\n",
    "label = file['health'].tolist()\n",
    "selector = RFECV(model, cv = 5, n_jobs = -1, step=5, scoring='accuracy', min_features_to_select = 30)\n",
    "selector = selector.fit(Data_log, label)\n",
    "features = selector.support_\n"
   ]
  },
  {
   "cell_type": "code",
   "execution_count": null,
   "metadata": {
    "colab": {
     "background_save": true
    },
    "id": "WvLhHTXoqof6",
    "outputId": "aec84dab-54d4-42c9-f85b-55b1fa592f23"
   },
   "outputs": [],
   "source": [
    "from collections import Counter\n",
    "\n",
    "Counter(features).values()"
   ]
  },
  {
   "cell_type": "code",
   "execution_count": null,
   "metadata": {
    "id": "vTE9Pyoqqof7"
   },
   "outputs": [],
   "source": [
    "feature_names = Data_log.columns.values.tolist()"
   ]
  },
  {
   "cell_type": "code",
   "execution_count": null,
   "metadata": {
    "colab": {
     "base_uri": "https://localhost:8080/"
    },
    "executionInfo": {
     "elapsed": 384,
     "status": "ok",
     "timestamp": 1627628837282,
     "user": {
      "displayName": "Zhaolu Liu",
      "photoUrl": "",
      "userId": "00800126687900378030"
     },
     "user_tz": -480
    },
    "id": "7UyQ3Hc1qof7",
    "outputId": "dd2601f6-b688-4f6e-f74e-b42dd9ee2ae8"
   },
   "outputs": [],
   "source": [
    "feature_importance = list(zip(feature_names, selector.support_))\n",
    "new_features = []\n",
    "for key,value in enumerate(feature_importance):\n",
    "    if(value[1]) == True:\n",
    "        new_features.append(value[0])\n",
    "        \n",
    "print(new_features)"
   ]
  },
  {
   "cell_type": "code",
   "execution_count": null,
   "metadata": {
    "id": "HMs7_BY7qof8"
   },
   "outputs": [],
   "source": [
    "import pickle\n",
    "\n",
    "with open('/content/drive/MyDrive/selected_features_new2.pkl', 'wb') as f:\n",
    "  pickle.dump(new_features, f)"
   ]
  },
  {
   "cell_type": "markdown",
   "metadata": {
    "id": "M6v8hA_5qof8"
   },
   "source": [
    "## Selected logistic regression"
   ]
  },
  {
   "cell_type": "code",
   "execution_count": null,
   "metadata": {
    "id": "FCquEWiiqof8"
   },
   "outputs": [],
   "source": [
    "import pickle\n",
    "from sklearn.model_selection import train_test_split\n",
    "from sklearn.linear_model import LogisticRegressionCV\n",
    "from sklearn import metrics"
   ]
  },
  {
   "cell_type": "code",
   "execution_count": null,
   "metadata": {
    "id": "MT2LmHOaqof9"
   },
   "outputs": [],
   "source": [
    "selected_features = pickle.load( open( \"drive/MyDrive/selected_features_new2.pkl\", \"rb\" ) )"
   ]
  },
  {
   "cell_type": "code",
   "execution_count": null,
   "metadata": {
    "id": "uhRuICarqof-"
   },
   "outputs": [],
   "source": [
    "new_X = Data_log[selected_features]"
   ]
  },
  {
   "cell_type": "code",
   "execution_count": null,
   "metadata": {
    "id": "k1hwnM4Oqof_"
   },
   "outputs": [],
   "source": [
    "X = new_X\n",
    "y = file['health']\n",
    "X_train, X_test, y_train, y_test = train_test_split(X, y, test_size=0.2, random_state=123)"
   ]
  },
  {
   "cell_type": "code",
   "execution_count": null,
   "metadata": {
    "id": "k6gnhqtSqogA"
   },
   "outputs": [],
   "source": [
    "clf = LogisticRegressionCV(cv=5, random_state=0, solver='liblinear').fit(X_train, y_train)"
   ]
  },
  {
   "cell_type": "code",
   "execution_count": null,
   "metadata": {
    "colab": {
     "base_uri": "https://localhost:8080/"
    },
    "executionInfo": {
     "elapsed": 34,
     "status": "ok",
     "timestamp": 1627628880692,
     "user": {
      "displayName": "Zhaolu Liu",
      "photoUrl": "",
      "userId": "00800126687900378030"
     },
     "user_tz": -480
    },
    "id": "_-fSVgNUqogB",
    "outputId": "c521b8b2-efc8-4122-fab5-630b0e2c61b2"
   },
   "outputs": [],
   "source": [
    "clf.score(X_train, y_train)"
   ]
  },
  {
   "cell_type": "code",
   "execution_count": null,
   "metadata": {
    "colab": {
     "base_uri": "https://localhost:8080/",
     "height": 221
    },
    "executionInfo": {
     "elapsed": 32,
     "status": "ok",
     "timestamp": 1627628880693,
     "user": {
      "displayName": "Zhaolu Liu",
      "photoUrl": "",
      "userId": "00800126687900378030"
     },
     "user_tz": -480
    },
    "id": "QxvlTdv-qogB",
    "outputId": "ea515ee7-17db-4fe7-8360-191483ec17fd"
   },
   "outputs": [],
   "source": [
    "y_pred = pd.Series(clf.predict(X_test))\n",
    "y_test = y_test.reset_index(drop=True)\n",
    "z = pd.concat([y_test, y_pred], axis=1)\n",
    "z.columns = ['True', 'Prediction']\n",
    "z.head()"
   ]
  },
  {
   "cell_type": "code",
   "execution_count": null,
   "metadata": {
    "colab": {
     "base_uri": "https://localhost:8080/"
    },
    "executionInfo": {
     "elapsed": 31,
     "status": "ok",
     "timestamp": 1627628880694,
     "user": {
      "displayName": "Zhaolu Liu",
      "photoUrl": "",
      "userId": "00800126687900378030"
     },
     "user_tz": -480
    },
    "id": "08wqIXwqqogC",
    "outputId": "caa5b758-9ad3-411f-d0b0-a07fd9e2331f"
   },
   "outputs": [],
   "source": [
    "from sklearn.metrics import confusion_matrix\n",
    "confusion_matrix(y_test, y_pred)"
   ]
  },
  {
   "cell_type": "code",
   "execution_count": null,
   "metadata": {
    "colab": {
     "base_uri": "https://localhost:8080/"
    },
    "executionInfo": {
     "elapsed": 3,
     "status": "ok",
     "timestamp": 1627628882209,
     "user": {
      "displayName": "Zhaolu Liu",
      "photoUrl": "",
      "userId": "00800126687900378030"
     },
     "user_tz": -480
    },
    "id": "lCd9xyKjqogC",
    "outputId": "286f3d1a-9f43-4569-a3cc-2ad4c0b89ad0"
   },
   "outputs": [],
   "source": [
    "print(\"Accuracy:\", metrics.accuracy_score(y_test, y_pred))\n",
    "print(\"Precision:\", metrics.precision_score(y_test, y_pred))\n",
    "print(\"Recall:\", metrics.recall_score(y_test, y_pred))"
   ]
  },
  {
   "cell_type": "code",
   "execution_count": null,
   "metadata": {
    "id": "0gvBvaf1qogC"
   },
   "outputs": [],
   "source": [
    "selected_features1 = pickle.load( open( \"drive/MyDrive/selected_features.pkl\", \"rb\" ) )\n",
    "selected_features2 = pickle.load( open( \"drive/MyDrive/selected_features_new2.pkl\", \"rb\" ) )"
   ]
  },
  {
   "cell_type": "code",
   "execution_count": null,
   "metadata": {
    "id": "JgltCwGzqogD"
   },
   "outputs": [],
   "source": [
    "a = set(selected_features1).intersection(selected_features2)"
   ]
  }
 ],
 "metadata": {
  "colab": {
   "collapsed_sections": [
    "x8vIkXoMuWtO",
    "XZm5uOzmuWtf",
    "b6Rbay6bqof4",
    "1-STGk_tqof6",
    "M6v8hA_5qof8",
    "_b3sel9Av4Ez",
    "SoeTP5WWnuiW",
    "V8joXI_Enhb9"
   ],
   "name": "Brain_clf.ipynb",
   "provenance": []
  },
  "kernelspec": {
   "display_name": "Python 3",
   "language": "python",
   "name": "python3"
  },
  "language_info": {
   "codemirror_mode": {
    "name": "ipython",
    "version": 3
   },
   "file_extension": ".py",
   "mimetype": "text/x-python",
   "name": "python",
   "nbconvert_exporter": "python",
   "pygments_lexer": "ipython3",
   "version": "3.7.9"
  }
 },
 "nbformat": 4,
 "nbformat_minor": 1
}
