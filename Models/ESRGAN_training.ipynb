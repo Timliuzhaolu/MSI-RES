{
 "cells": [
  {
   "cell_type": "code",
   "execution_count": null,
   "metadata": {
    "id": "4ZKIlLW3WrN0"
   },
   "outputs": [],
   "source": [
    "!pip install ISR"
   ]
  },
  {
   "cell_type": "code",
   "execution_count": null,
   "metadata": {
    "id": "E0A_ochubiZr"
   },
   "outputs": [],
   "source": [
    "!pip install 'h5py==2.10.0' --force-reinstall"
   ]
  },
  {
   "cell_type": "code",
   "execution_count": null,
   "metadata": {
    "colab": {
     "base_uri": "https://localhost:8080/",
     "height": 58
    },
    "id": "GZB2yYsYMkTX",
    "outputId": "568272fd-ad53-4446-9956-73cead46f472"
   },
   "outputs": [],
   "source": [
    "import tensorflow as tf\n",
    "tf.test.gpu_device_name()"
   ]
  },
  {
   "cell_type": "code",
   "execution_count": null,
   "metadata": {
    "colab": {
     "base_uri": "https://localhost:8080/"
    },
    "id": "inIiLWkx05Gt",
    "outputId": "085241a3-206d-461e-c1ff-9d8d9b8e0b3f"
   },
   "outputs": [],
   "source": [
    "from google.colab import drive\n",
    "drive.mount('/content/drive')"
   ]
  },
  {
   "cell_type": "code",
   "execution_count": null,
   "metadata": {
    "colab": {
     "base_uri": "https://localhost:8080/"
    },
    "id": "ikjjdasqzXxx",
    "outputId": "cff2c0b5-4ecf-435f-82d8-4bd74e2b01a6"
   },
   "outputs": [],
   "source": [
    "%cd /content/drive/MyDrive/image-super-resolution-master/"
   ]
  },
  {
   "cell_type": "code",
   "execution_count": null,
   "metadata": {
    "id": "y6Dggv0xWqm2"
   },
   "outputs": [],
   "source": [
    "from ISR.models import RRDN\n",
    "from ISR.models import Discriminator\n",
    "from ISR.models import Cut_VGG19\n",
    "from ISR.train import Trainer\n",
    "from ISR.utils import metrics\n",
    "from PIL import Image\n",
    "import numpy as np\n",
    "import os"
   ]
  },
  {
   "cell_type": "code",
   "execution_count": null,
   "metadata": {
    "colab": {
     "base_uri": "https://localhost:8080/",
     "height": 58
    },
    "id": "V-YhzkX3q-RS",
    "outputId": "a21f087f-d7f3-4f7a-e0f2-021a16bb4987"
   },
   "outputs": [],
   "source": [
    "import yaml\n",
    "yaml.__version__"
   ]
  },
  {
   "cell_type": "code",
   "execution_count": null,
   "metadata": {
    "colab": {
     "base_uri": "https://localhost:8080/",
     "height": 287
    },
    "id": "ixZQIrTcrC61",
    "outputId": "f2797929-9850-4e32-87a2-102e8b6893f6"
   },
   "outputs": [],
   "source": [
    "!pip install -U PyYAML"
   ]
  },
  {
   "cell_type": "markdown",
   "metadata": {
    "id": "pyQAOzCZtPny"
   },
   "source": [
    "# Training"
   ]
  },
  {
   "cell_type": "code",
   "execution_count": null,
   "metadata": {
    "id": "sAHqA1u4Wqm4"
   },
   "outputs": [],
   "source": [
    "lr_train_patch_size = 50\n",
    "layers_to_extract = [5, 9]\n",
    "scale = 4\n",
    "hr_train_patch_size = lr_train_patch_size * scale\n",
    "\n",
    "\n",
    "rrdn = RRDN(arch_params={'C': 4, 'D':3, 'G':32, 'G0':32, 'T': 10, 'x':4}, patch_size=lr_train_patch_size)\n",
    "# rrdn.model.load_weights('/content/drive/MyDrive/image-super-resolution-master/weights/rrdn-C4-D3-G32-G032-T10-x4/2021-08-02_1221/rrdn-C4-D3-G32-G032-T10-x4_best-val_generator_PSNR_Y_epoch026.hdf5')\n",
    "f_ext = Cut_VGG19(patch_size=hr_train_patch_size, layers_to_extract=layers_to_extract)\n",
    "discr = Discriminator(patch_size=hr_train_patch_size, kernel_size=3)"
   ]
  },
  {
   "cell_type": "code",
   "execution_count": null,
   "metadata": {
    "colab": {
     "base_uri": "https://localhost:8080/"
    },
    "id": "eoVC_SJcWqm4",
    "outputId": "42809013-549c-4240-9578-23ee19d52d61"
   },
   "outputs": [],
   "source": [
    "loss_weights = {\n",
    "  'generator': 1,\n",
    "  'feature_extractor': 0.006,\n",
    "  'discriminator': 0.0\n",
    "}\n",
    "losses = {\n",
    "  'generator': 'mse',\n",
    "  'feature_extractor': 'mse',\n",
    "  'discriminator': 'binary_crossentropy'\n",
    "} \n",
    "\n",
    "log_dirs = {'logs': './logs', 'weights': './weights'}\n",
    "\n",
    "learning_rate = {'initial_value': 0.0004, 'decay_factor': 0.5, 'decay_frequency': 30}\n",
    "\n",
    "flatness = {'min': 0.0, 'max': 0.15, 'increase': 0.01, 'increase_frequency': 5}\n",
    "\n",
    "trainer = Trainer(\n",
    "    generator = rrdn,\n",
    "    discriminator = discr,\n",
    "    feature_extractor = f_ext,\n",
    "    lr_train_dir = '/content/drive/MyDrive/Brain_data/LR_high_SNR/',\n",
    "    hr_train_dir = '/content/drive/MyDrive/Brain_data/HR_high_SNR/',\n",
    "    lr_valid_dir = '/content/drive/MyDrive/Brain_data/LR_high_SNR_val/',\n",
    "    hr_valid_dir = '/content/drive/MyDrive/Brain_data/HR_high_SNR_val/',\n",
    "    loss_weights = loss_weights,\n",
    "    learning_rate = learning_rate,\n",
    "    flatness = flatness,\n",
    "    dataname = 'Brain_high_SNR',\n",
    "    log_dirs = log_dirs,\n",
    "    weights_generator = None,\n",
    "    weights_discriminator = None,\n",
    "    n_validation = 100,\n",
    ")"
   ]
  },
  {
   "cell_type": "code",
   "execution_count": null,
   "metadata": {
    "colab": {
     "base_uri": "https://localhost:8080/"
    },
    "id": "riHCgVTpWqm6",
    "outputId": "492677a2-2c1d-4a4d-d951-a41f269c4911"
   },
   "outputs": [],
   "source": [
    "trainer.train(\n",
    "    epochs = 30,\n",
    "    steps_per_epoch = 120,\n",
    "    batch_size = 8,\n",
    "    monitored_metrics={'val_generator_PSNR_Y': 'max'}\n",
    ")"
   ]
  },
  {
   "cell_type": "markdown",
   "metadata": {
    "id": "r19wI4cZl9As"
   },
   "source": [
    "# Quick visualisation"
   ]
  },
  {
   "cell_type": "code",
   "execution_count": null,
   "metadata": {
    "id": "O6hNMLcdl8Th"
   },
   "outputs": [],
   "source": [
    "rrdn = RRDN(arch_params={'C': 4, 'D':3, 'G':32, 'G0':32, 'T': 10, 'x':4})\n",
    "rrdn.model.load_weights('/content/drive/MyDrive/image-super-resolution-master/weights/rrdn-C4-D3-G32-G032-T10-x4/2021-08-03_1225/rrdn-C4-D3-G32-G032-T10-x4_epoch100.hdf5')"
   ]
  },
  {
   "cell_type": "code",
   "execution_count": null,
   "metadata": {
    "id": "-_O6JNzHrB9N"
   },
   "outputs": [],
   "source": [
    "filelist = os.listdir('/content/drive/MyDrive/Brain_data/HR_high_SNR/')"
   ]
  },
  {
   "cell_type": "code",
   "execution_count": null,
   "metadata": {
    "id": "hzfur70prblJ"
   },
   "outputs": [],
   "source": [
    "filelist[0]"
   ]
  },
  {
   "cell_type": "code",
   "execution_count": null,
   "metadata": {
    "colab": {
     "base_uri": "https://localhost:8080/",
     "height": 258
    },
    "id": "zp2H7twrE_Mu",
    "outputId": "9afed870-6443-4184-f2ce-bdcd8228bb94"
   },
   "outputs": [],
   "source": [
    "img = Image.open('/content/drive/MyDrive/Brain_data/HR_high_SNR/brain_peak0.png')\n",
    "img"
   ]
  },
  {
   "cell_type": "code",
   "execution_count": null,
   "metadata": {
    "colab": {
     "base_uri": "https://localhost:8080/",
     "height": 93
    },
    "id": "fu5lWwxKE_M7",
    "outputId": "f6980655-3233-4784-c949-4311b3c05e47"
   },
   "outputs": [],
   "source": [
    "img = Image.open('/content/drive/MyDrive/Brain_data/LR_high_SNR/brain_peak0.png')\n",
    "img"
   ]
  },
  {
   "cell_type": "code",
   "execution_count": null,
   "metadata": {
    "colab": {
     "base_uri": "https://localhost:8080/",
     "height": 258
    },
    "id": "2PQdh1MdHSjS",
    "outputId": "a0c3af60-b19a-4d96-ebae-4f9355d20427"
   },
   "outputs": [],
   "source": [
    "sr_img = rrdn.predict(np.array(img))\n",
    "res = Image.fromarray(sr_img)\n",
    "res"
   ]
  }
 ],
 "metadata": {
  "accelerator": "GPU",
  "colab": {
   "machine_shape": "hm",
   "name": "ESRGAN_training.ipynb",
   "provenance": []
  },
  "kernelspec": {
   "display_name": "Python 3",
   "language": "python",
   "name": "python3"
  },
  "language_info": {
   "codemirror_mode": {
    "name": "ipython",
    "version": 3
   },
   "file_extension": ".py",
   "mimetype": "text/x-python",
   "name": "python",
   "nbconvert_exporter": "python",
   "pygments_lexer": "ipython3",
   "version": "3.7.9"
  }
 },
 "nbformat": 4,
 "nbformat_minor": 1
}
