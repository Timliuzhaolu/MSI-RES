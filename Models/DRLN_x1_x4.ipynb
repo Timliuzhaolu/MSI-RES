{
 "cells": [
  {
   "cell_type": "code",
   "execution_count": null,
   "metadata": {
    "executionInfo": {
     "elapsed": 562,
     "status": "ok",
     "timestamp": 1628740960446,
     "user": {
      "displayName": "Zhaolu Liu",
      "photoUrl": "",
      "userId": "00800126687900378030"
     },
     "user_tz": -480
    },
    "id": "bXA1bn9tEhhC"
   },
   "outputs": [],
   "source": [
    "import os\n",
    "from PIL import Image"
   ]
  },
  {
   "cell_type": "code",
   "execution_count": null,
   "metadata": {
    "colab": {
     "base_uri": "https://localhost:8080/"
    },
    "executionInfo": {
     "elapsed": 7,
     "status": "ok",
     "timestamp": 1628740960447,
     "user": {
      "displayName": "Zhaolu Liu",
      "photoUrl": "",
      "userId": "00800126687900378030"
     },
     "user_tz": -480
    },
    "id": "uesC17c3EYTp",
    "outputId": "dd887a14-e945-4e3c-aef7-067947f7a2ad"
   },
   "outputs": [],
   "source": [
    "%cd drive/MyDrive/DRLN_up/"
   ]
  },
  {
   "cell_type": "code",
   "execution_count": null,
   "metadata": {
    "colab": {
     "base_uri": "https://localhost:8080/"
    },
    "executionInfo": {
     "elapsed": 585,
     "status": "ok",
     "timestamp": 1628740961027,
     "user": {
      "displayName": "Zhaolu Liu",
      "photoUrl": "",
      "userId": "00800126687900378030"
     },
     "user_tz": -480
    },
    "id": "DZsp5arNGC8e",
    "outputId": "2439c63a-8bed-4fec-8c85-e9089e47dee9"
   },
   "outputs": [],
   "source": [
    "!pwd"
   ]
  },
  {
   "cell_type": "code",
   "execution_count": null,
   "metadata": {
    "colab": {
     "base_uri": "https://localhost:8080/"
    },
    "executionInfo": {
     "elapsed": 106936,
     "status": "ok",
     "timestamp": 1628741076324,
     "user": {
      "displayName": "Zhaolu Liu",
      "photoUrl": "",
      "userId": "00800126687900378030"
     },
     "user_tz": -480
    },
    "id": "FLzY2tZFEeIZ",
    "outputId": "5db17fde-8bc5-4c8a-85a2-544c65456ebe"
   },
   "outputs": [],
   "source": [
    "!pip install torch==1.8.0 torchvision==0.9.0 torchaudio==0.8.0"
   ]
  },
  {
   "cell_type": "markdown",
   "metadata": {
    "id": "4SOfoi65gd4j"
   },
   "source": [
    "# train x4"
   ]
  },
  {
   "cell_type": "code",
   "execution_count": null,
   "metadata": {
    "colab": {
     "base_uri": "https://localhost:8080/"
    },
    "executionInfo": {
     "elapsed": 1586742,
     "status": "ok",
     "timestamp": 1626775538366,
     "user": {
      "displayName": "Zhaolu Liu",
      "photoUrl": "",
      "userId": "00800126687900378030"
     },
     "user_tz": -480
    },
    "id": "XDH4EUXQGGrC",
    "outputId": "a8b61996-812d-488b-e786-56a190d0ef07"
   },
   "outputs": [],
   "source": [
    "!CUDA_VISIBLE_DEVICES=0 python main.py --scale 4 --model drln --epochs 60 \\\n",
    "  --dir_data /content/drive/MyDrive/DRLN_up/npy_livers/ \\\n",
    "  --data_train MSI_Liver --data_test MSI_Liver --patch_size 40 \\\n",
    "  --n_colors 3 --save MSE01_1vgg22 --print_every 250 --batch_size 5 \\\n",
    "  --save_models \\\n",
    "  --pre_train /content/drive/MyDrive/DRLN_up/TrainedModels/DRLN_BIX4/DRLN_BIX4.pt \\\n",
    "  --n_threads 3 \\\n",
    "  --seed 1997 \\\n",
    "  --loss 0.1*MSE+1*VGG22 \\\n",
    "  --n_GPUs 1 \n",
    "  "
   ]
  },
  {
   "cell_type": "markdown",
   "metadata": {
    "id": "fsL_CZJcUWS5"
   },
   "source": [
    "# testing liver 1"
   ]
  },
  {
   "cell_type": "code",
   "execution_count": null,
   "metadata": {
    "id": "qAfMmgY9VeBs"
   },
   "outputs": [],
   "source": [
    "from model import drln\n",
    "from option_noimp import parser\n",
    "\n",
    "import sys, os, pickle, torch\n",
    "import numpy as np\n",
    "import importlib\n",
    "from importlib import reload\n",
    "#import torch, torch.nn as nn,torch.nn.functional as F\n",
    "import matplotlib.pyplot as plt"
   ]
  },
  {
   "cell_type": "code",
   "execution_count": null,
   "metadata": {
    "id": "lJ19mLi6UZKZ"
   },
   "outputs": [],
   "source": [
    "bestmod_params = torch.load('/content/drive/MyDrive/SR/MSE01_1vgg22/model/model_best.pt', \n",
    "                     map_location=torch.device('cpu'))"
   ]
  },
  {
   "cell_type": "code",
   "execution_count": null,
   "metadata": {
    "id": "lYJeeSkZUZv2"
   },
   "outputs": [],
   "source": [
    "args = parser.parse_args(['--scale', '4'])"
   ]
  },
  {
   "cell_type": "code",
   "execution_count": null,
   "metadata": {
    "id": "g4a4USssUZz_"
   },
   "outputs": [],
   "source": [
    "bestmod = drln.DRLN(args)\n",
    "bestmod.load_state_dict(bestmod_params)"
   ]
  },
  {
   "cell_type": "code",
   "execution_count": null,
   "metadata": {
    "id": "VRl6vQ9IUZ25"
   },
   "outputs": [],
   "source": [
    "imgdir = '/content/drive/MyDrive/liver1_test/LR_npy/'\n",
    "imgs = os.listdir(imgdir)\n",
    "sample_img = np.load(imgdir+imgs[0])"
   ]
  },
  {
   "cell_type": "code",
   "execution_count": null,
   "metadata": {
    "colab": {
     "base_uri": "https://localhost:8080/"
    },
    "executionInfo": {
     "elapsed": 834,
     "status": "ok",
     "timestamp": 1627029944425,
     "user": {
      "displayName": "Zhaolu Liu",
      "photoUrl": "",
      "userId": "00800126687900378030"
     },
     "user_tz": -480
    },
    "id": "Fi-aO8QcU1bE",
    "outputId": "6518dfcc-9c58-487f-f111-cc298e8cb3f8"
   },
   "outputs": [],
   "source": [
    "sample_tensor = torch.Tensor(sample_img[:,:,0])\n",
    "sample_tensor = torch.stack([sample_tensor,sample_tensor,sample_tensor])\n",
    "sample_tensor.shape"
   ]
  },
  {
   "cell_type": "code",
   "execution_count": null,
   "metadata": {
    "id": "NPBArmwVU1em"
   },
   "outputs": [],
   "source": [
    "restored = bestmod(sample_tensor.unsqueeze(dim=0))"
   ]
  },
  {
   "cell_type": "code",
   "execution_count": null,
   "metadata": {
    "id": "k0E4Fa98U1ix"
   },
   "outputs": [],
   "source": [
    "restoredimg= restored.detach().numpy()\n",
    "restoredimg = np.swapaxes(restoredimg[0], 0, -1)"
   ]
  },
  {
   "cell_type": "code",
   "execution_count": null,
   "metadata": {
    "colab": {
     "base_uri": "https://localhost:8080/"
    },
    "executionInfo": {
     "elapsed": 1561,
     "status": "ok",
     "timestamp": 1627030304717,
     "user": {
      "displayName": "Zhaolu Liu",
      "photoUrl": "",
      "userId": "00800126687900378030"
     },
     "user_tz": -480
    },
    "id": "ojxl0iDci-nI",
    "outputId": "06d3ec16-934f-47ac-f228-ec4611b1083c"
   },
   "outputs": [],
   "source": [
    "restoredimg[:,:,0].shape"
   ]
  },
  {
   "cell_type": "code",
   "execution_count": null,
   "metadata": {
    "colab": {
     "base_uri": "https://localhost:8080/",
     "height": 313
    },
    "executionInfo": {
     "elapsed": 7375,
     "status": "ok",
     "timestamp": 1627030677824,
     "user": {
      "displayName": "Zhaolu Liu",
      "photoUrl": "",
      "userId": "00800126687900378030"
     },
     "user_tz": -480
    },
    "id": "SyEkWh0gk5h7",
    "outputId": "fd69e05c-3403-40ca-bf85-27a852f34238"
   },
   "outputs": [],
   "source": [
    "plt.figure(figsize=(20,6))\n",
    "\n",
    "plt.subplot(131);plt.imshow(sample_img);plt.title(\"Noisy\")\n",
    "plt.subplot(132);plt.imshow(restoredimg[:,:,0].T, cmap = 'gray');plt.title(\"Restored\")\n",
    "plt.subplot(133);plt.imshow(np.load(imgdir.replace('/LR_npy/', '/HR_npy/')+imgs[0]));plt.title(\"Ground truth\")"
   ]
  },
  {
   "cell_type": "code",
   "execution_count": null,
   "metadata": {
    "colab": {
     "base_uri": "https://localhost:8080/",
     "height": 313
    },
    "executionInfo": {
     "elapsed": 3417,
     "status": "ok",
     "timestamp": 1627030705062,
     "user": {
      "displayName": "Zhaolu Liu",
      "photoUrl": "",
      "userId": "00800126687900378030"
     },
     "user_tz": -480
    },
    "id": "znufMrHcU1ps",
    "outputId": "6443edc9-f8cd-4212-e045-da83849e8f8a"
   },
   "outputs": [],
   "source": [
    "k = 1\n",
    "sample_img = np.load(imgdir+imgs[k])\n",
    "sample_tensor = torch.Tensor(sample_img[:,:,0])\n",
    "sample_tensor = torch.stack([sample_tensor,sample_tensor,sample_tensor])\n",
    "restored = bestmod(sample_tensor.unsqueeze(dim=0))\n",
    "restoredimg= restored.detach().numpy()\n",
    "restoredimg = np.swapaxes(restoredimg[0], 0, -1)\n",
    "\n",
    "plt.figure(figsize=(20,6))\n",
    "\n",
    "plt.subplot(131);plt.imshow(sample_img);plt.title(\"Noisy\")\n",
    "plt.subplot(132);plt.imshow(restoredimg[:,:,0].T, cmap = 'gray');plt.title(\"Restored\")\n",
    "plt.subplot(133);plt.imshow(np.load(imgdir.replace('/LR_npy/', '/HR_npy/')+imgs[k]));plt.title(\"Ground truth\")"
   ]
  },
  {
   "cell_type": "code",
   "execution_count": null,
   "metadata": {
    "colab": {
     "base_uri": "https://localhost:8080/",
     "height": 313
    },
    "executionInfo": {
     "elapsed": 3809,
     "status": "ok",
     "timestamp": 1627030721158,
     "user": {
      "displayName": "Zhaolu Liu",
      "photoUrl": "",
      "userId": "00800126687900378030"
     },
     "user_tz": -480
    },
    "id": "G1CoPYv4U1tw",
    "outputId": "20e8ee46-27ee-43eb-bc86-6fc23fa8020b"
   },
   "outputs": [],
   "source": [
    "k = 2\n",
    "sample_img = np.load(imgdir+imgs[k])\n",
    "sample_tensor = torch.Tensor(sample_img[:,:,0])\n",
    "sample_tensor = torch.stack([sample_tensor,sample_tensor,sample_tensor])\n",
    "restored = bestmod(sample_tensor.unsqueeze(dim=0))\n",
    "restoredimg= restored.detach().numpy()\n",
    "restoredimg = np.swapaxes(restoredimg[0], 0, -1)\n",
    "\n",
    "plt.figure(figsize=(20,6))\n",
    "\n",
    "plt.subplot(131);plt.imshow(sample_img);plt.title(\"Noisy\")\n",
    "plt.subplot(132);plt.imshow(restoredimg[:,:,0].T, cmap = 'gray');plt.title(\"Restored\")\n",
    "plt.subplot(133);plt.imshow(np.load(imgdir.replace('/LR_npy/', '/HR_npy/')+imgs[k]));plt.title(\"Ground truth\")"
   ]
  },
  {
   "cell_type": "code",
   "execution_count": null,
   "metadata": {
    "id": "9MwG3T0CW1ca"
   },
   "outputs": [],
   "source": []
  },
  {
   "cell_type": "markdown",
   "metadata": {
    "id": "zxlmj3mEaEFF"
   },
   "source": [
    "# Examples from models with different loss functions"
   ]
  },
  {
   "cell_type": "code",
   "execution_count": null,
   "metadata": {
    "executionInfo": {
     "elapsed": 3643,
     "status": "ok",
     "timestamp": 1628741119962,
     "user": {
      "displayName": "Zhaolu Liu",
      "photoUrl": "",
      "userId": "00800126687900378030"
     },
     "user_tz": -480
    },
    "id": "GUgm4MuGaEFH"
   },
   "outputs": [],
   "source": [
    "from model import drln\n",
    "from option_noimp import parser\n",
    "\n",
    "import sys, os, pickle, torch\n",
    "import numpy as np\n",
    "import importlib\n",
    "from importlib import reload\n",
    "#import torch, torch.nn as nn,torch.nn.functional as F\n",
    "import matplotlib.pyplot as plt"
   ]
  },
  {
   "cell_type": "code",
   "execution_count": null,
   "metadata": {
    "executionInfo": {
     "elapsed": 40655,
     "status": "ok",
     "timestamp": 1628741162237,
     "user": {
      "displayName": "Zhaolu Liu",
      "photoUrl": "",
      "userId": "00800126687900378030"
     },
     "user_tz": -480
    },
    "id": "H8TrAxrHaEFI"
   },
   "outputs": [],
   "source": [
    "bestmod_params_01 = torch.load('/content/drive/MyDrive/SR/MSISR01/model/model_best.pt', \n",
    "                     map_location=torch.device('cpu'))\n",
    "bestmod_params_02 = torch.load('/content/drive/MyDrive/SR/only_MSE/model/model_best.pt', \n",
    "                     map_location=torch.device('cpu'))\n",
    "bestmod_params_03 = torch.load('/content/drive/MyDrive/SR/L1_vgg/model/model_best.pt', \n",
    "                     map_location=torch.device('cpu'))\n",
    "bestmod_params_04 = torch.load('/content/drive/MyDrive/SR/MSE_vgg/model/model_best.pt', \n",
    "                     map_location=torch.device('cpu'))\n",
    "bestmod_params_05 = torch.load('/content/drive/MyDrive/SR/only_vgg22/model/model_best.pt', \n",
    "                     map_location=torch.device('cpu'))\n",
    "bestmod_params_06 = torch.load('/content/drive/MyDrive/SR/only_vgg54/model/model_best.pt', \n",
    "                     map_location=torch.device('cpu'))\n",
    "bestmod_params_07 = torch.load('/content/drive/MyDrive/SR/MSE_vgg54/model/model_best.pt', \n",
    "                     map_location=torch.device('cpu'))\n",
    "bestmod_params_08 = torch.load('/content/drive/MyDrive/SR/MSE_10vgg22/model/model_best.pt', \n",
    "                     map_location=torch.device('cpu'))\n",
    "bestmod_params_09 = torch.load('/content/drive/MyDrive/SR/MSE01_1vgg22/model/model_best.pt', \n",
    "                     map_location=torch.device('cpu'))"
   ]
  },
  {
   "cell_type": "code",
   "execution_count": null,
   "metadata": {
    "executionInfo": {
     "elapsed": 7,
     "status": "ok",
     "timestamp": 1628741162240,
     "user": {
      "displayName": "Zhaolu Liu",
      "photoUrl": "",
      "userId": "00800126687900378030"
     },
     "user_tz": -480
    },
    "id": "1KEzVu6FaEFI"
   },
   "outputs": [],
   "source": [
    "args = parser.parse_args(['--scale', '4'])"
   ]
  },
  {
   "cell_type": "code",
   "execution_count": null,
   "metadata": {
    "executionInfo": {
     "elapsed": 4001,
     "status": "ok",
     "timestamp": 1628741166237,
     "user": {
      "displayName": "Zhaolu Liu",
      "photoUrl": "",
      "userId": "00800126687900378030"
     },
     "user_tz": -480
    },
    "id": "QF3c3RjEaEFI"
   },
   "outputs": [],
   "source": [
    "bestmod_01 = drln.DRLN(args)\n",
    "bestmod_01.load_state_dict(bestmod_params_01)\n",
    "bestmod_02 = drln.DRLN(args)\n",
    "bestmod_02.load_state_dict(bestmod_params_02)\n",
    "bestmod_03 = drln.DRLN(args)\n",
    "bestmod_03.load_state_dict(bestmod_params_03)\n",
    "bestmod_04 = drln.DRLN(args)\n",
    "bestmod_04.load_state_dict(bestmod_params_04)\n",
    "bestmod_05 = drln.DRLN(args)\n",
    "bestmod_05.load_state_dict(bestmod_params_05)\n",
    "bestmod_06 = drln.DRLN(args)\n",
    "bestmod_06.load_state_dict(bestmod_params_06)\n",
    "bestmod_07 = drln.DRLN(args)\n",
    "bestmod_07.load_state_dict(bestmod_params_07)\n",
    "bestmod_08 = drln.DRLN(args)\n",
    "bestmod_08.load_state_dict(bestmod_params_08)\n",
    "bestmod_09 = drln.DRLN(args)\n",
    "bestmod_09.load_state_dict(bestmod_params_09)"
   ]
  },
  {
   "cell_type": "code",
   "execution_count": null,
   "metadata": {
    "executionInfo": {
     "elapsed": 1620,
     "status": "ok",
     "timestamp": 1628741167853,
     "user": {
      "displayName": "Zhaolu Liu",
      "photoUrl": "",
      "userId": "00800126687900378030"
     },
     "user_tz": -480
    },
    "id": "Uyziw5qeaEFI"
   },
   "outputs": [],
   "source": [
    "imgdir = '/content/drive/MyDrive/DRLN_up/npy_livers/val/LR/x4/'\n",
    "imgs = os.listdir(imgdir)\n",
    "sample_img = np.load(imgdir+imgs[0])"
   ]
  },
  {
   "cell_type": "code",
   "execution_count": null,
   "metadata": {
    "colab": {
     "base_uri": "https://localhost:8080/"
    },
    "executionInfo": {
     "elapsed": 6,
     "status": "ok",
     "timestamp": 1628741167854,
     "user": {
      "displayName": "Zhaolu Liu",
      "photoUrl": "",
      "userId": "00800126687900378030"
     },
     "user_tz": -480
    },
    "id": "t7Q8rHWJaEFJ",
    "outputId": "b547e224-bce1-48b2-90db-dd4ab51b5593"
   },
   "outputs": [],
   "source": [
    "sample_img[:,:,0].shape"
   ]
  },
  {
   "cell_type": "code",
   "execution_count": null,
   "metadata": {
    "colab": {
     "base_uri": "https://localhost:8080/",
     "height": 58
    },
    "executionInfo": {
     "elapsed": 7,
     "status": "ok",
     "timestamp": 1626754468852,
     "user": {
      "displayName": "Zhaolu Liu",
      "photoUrl": "",
      "userId": "00800126687900378030"
     },
     "user_tz": -480
    },
    "id": "KGhv5MG3aEFK",
    "outputId": "2115a009-ba46-4aac-a339-bf6efa9235e1"
   },
   "outputs": [],
   "source": [
    "imgdir"
   ]
  },
  {
   "cell_type": "code",
   "execution_count": null,
   "metadata": {
    "id": "wWnzyUF3aEFK"
   },
   "outputs": [],
   "source": [
    "# plt.figure(figsize=(20,6))\n",
    "\n",
    "# plt.subplot(131);plt.imshow(sample_img);plt.title(\"Noisy\")\n",
    "# plt.subplot(132);plt.imshow(restoredimg[:,:,0].T);plt.title(\"Restored\")\n",
    "# plt.subplot(133);plt.imshow(np.load(imgdir.replace('/LR/x4/', '/HR/')+imgs[0]));plt.title(\"Ground truth\")"
   ]
  },
  {
   "cell_type": "code",
   "execution_count": null,
   "metadata": {
    "colab": {
     "base_uri": "https://localhost:8080/"
    },
    "executionInfo": {
     "elapsed": 539,
     "status": "ok",
     "timestamp": 1628743443094,
     "user": {
      "displayName": "Zhaolu Liu",
      "photoUrl": "",
      "userId": "00800126687900378030"
     },
     "user_tz": -480
    },
    "id": "Kf-K40CtrH-n",
    "outputId": "d897b1ce-f023-4920-8f86-cbe22ce5a7b1"
   },
   "outputs": [],
   "source": [
    "sample_img.shape"
   ]
  },
  {
   "cell_type": "code",
   "execution_count": null,
   "metadata": {
    "executionInfo": {
     "elapsed": 1173,
     "status": "ok",
     "timestamp": 1628745196537,
     "user": {
      "displayName": "Zhaolu Liu",
      "photoUrl": "",
      "userId": "00800126687900378030"
     },
     "user_tz": -480
    },
    "id": "8Y1DRABN7fls"
   },
   "outputs": [],
   "source": [
    "def plot_livers(k):\n",
    "  sample_img = np.load(imgdir+imgs[k])\n",
    "  sample_tensor = torch.Tensor(sample_img[:,:,0])\n",
    "  sample_tensor = torch.stack([sample_tensor,sample_tensor,sample_tensor])\n",
    "\n",
    "  restored_01 = bestmod_01(sample_tensor.unsqueeze(dim=0))\n",
    "  restoredimg_01 = restored_01.detach().numpy()\n",
    "  restoredimg_01 = np.swapaxes(restoredimg_01[0], 0, -1)\n",
    "\n",
    "  restored_02 = bestmod_02(sample_tensor.unsqueeze(dim=0))\n",
    "  restoredimg_02 = restored_02.detach().numpy()\n",
    "  restoredimg_02 = np.swapaxes(restoredimg_02[0], 0, -1)\n",
    "\n",
    "  restored_03 = bestmod_03(sample_tensor.unsqueeze(dim=0))\n",
    "  restoredimg_03 = restored_03.detach().numpy()\n",
    "  restoredimg_03 = np.swapaxes(restoredimg_03[0], 0, -1)\n",
    "\n",
    "  restored_04 = bestmod_04(sample_tensor.unsqueeze(dim=0))\n",
    "  restoredimg_04 = restored_04.detach().numpy()\n",
    "  restoredimg_04 = np.swapaxes(restoredimg_04[0], 0, -1)\n",
    "\n",
    "  restored_05 = bestmod_05(sample_tensor.unsqueeze(dim=0))\n",
    "  restoredimg_05 = restored_05.detach().numpy()\n",
    "  restoredimg_05 = np.swapaxes(restoredimg_05[0], 0, -1)\n",
    "\n",
    "  restored_06 = bestmod_06(sample_tensor.unsqueeze(dim=0))\n",
    "  restoredimg_06 = restored_06.detach().numpy()\n",
    "  restoredimg_06 = np.swapaxes(restoredimg_06[0], 0, -1)\n",
    "\n",
    "  restored_07 = bestmod_07(sample_tensor.unsqueeze(dim=0))\n",
    "  restoredimg_07 = restored_07.detach().numpy()\n",
    "  restoredimg_07 = np.swapaxes(restoredimg_07[0], 0, -1)\n",
    "\n",
    "  restored_08 = bestmod_08(sample_tensor.unsqueeze(dim=0))\n",
    "  restoredimg_08 = restored_08.detach().numpy()\n",
    "  restoredimg_08 = np.swapaxes(restoredimg_08[0], 0, -1)\n",
    "\n",
    "  restored_09 = bestmod_09(sample_tensor.unsqueeze(dim=0))\n",
    "  restoredimg_09 = restored_09.detach().numpy()\n",
    "  restoredimg_09 = np.swapaxes(restoredimg_09[0], 0, -1)\n",
    "\n",
    "  plt.figure(figsize=(20,10))\n",
    "\n",
    "  plt.subplot(331);plt.imshow(sample_img[:,:,0], cmap='magma');plt.title(\"LR\")\n",
    "  plt.subplot(332);plt.imshow(restoredimg_01[:,:,0].T, cmap='magma');plt.title(\"Restored_L1\")\n",
    "  plt.subplot(333);plt.imshow(restoredimg_02[:,:,0].T, cmap='magma');plt.title(\"Restored_MSE\")\n",
    "  plt.subplot(334);plt.imshow(restoredimg_03[:,:,0].T, cmap='magma');plt.title(\"Restored_L1_VGG22\")\n",
    "  plt.subplot(335);plt.imshow(restoredimg_04[:,:,0].T, cmap='magma');plt.title(\"Restored_MSE_VGG22\")\n",
    "  plt.subplot(336);plt.imshow(restoredimg_05[:,:,0].T, cmap='magma');plt.title(\"Restored_VGG22\")\n",
    "  plt.subplot(337);plt.imshow(restoredimg_06[:,:,0].T, cmap='magma');plt.title(\"Restored_VGG54\")\n",
    "  # plt.subplot(338);plt.imshow(restoredimg_07[:,:,0].T, cmap='magma');plt.title(\"Restored_MSE_VGG54\")\n",
    "  plt.subplot(338);plt.imshow(restoredimg_08[:,:,0].T, cmap='magma');plt.title(\"Restored_MSE_10*VGG22\")\n",
    "  # plt.subplot(333);plt.imshow(restoredimg_09[:,:,0].T, cmap='magma');plt.title(\"Restored_0.1MSE_VGG22\")\n",
    "  plt.subplot(339);plt.imshow(np.load(imgdir.replace('/LR/x4/', '/HR/')+imgs[k])[:,:,0], cmap='magma');plt.title(\"HR\")"
   ]
  },
  {
   "cell_type": "code",
   "execution_count": null,
   "metadata": {
    "colab": {
     "base_uri": "https://localhost:8080/",
     "height": 627
    },
    "executionInfo": {
     "elapsed": 18826,
     "status": "ok",
     "timestamp": 1628744023377,
     "user": {
      "displayName": "Zhaolu Liu",
      "photoUrl": "",
      "userId": "00800126687900378030"
     },
     "user_tz": -480
    },
    "id": "YImvJttv7qCe",
    "outputId": "90c333ee-2be9-47bd-c318-5e2aca4389ad"
   },
   "outputs": [],
   "source": [
    "plot_livers(k=24)"
   ]
  },
  {
   "cell_type": "code",
   "execution_count": null,
   "metadata": {
    "colab": {
     "base_uri": "https://localhost:8080/",
     "height": 627
    },
    "executionInfo": {
     "elapsed": 21590,
     "status": "ok",
     "timestamp": 1628745221911,
     "user": {
      "displayName": "Zhaolu Liu",
      "photoUrl": "",
      "userId": "00800126687900378030"
     },
     "user_tz": -480
    },
    "id": "7t8K6-8LaEFL",
    "outputId": "98522f08-5c1b-4923-b687-af0f2032b9e9"
   },
   "outputs": [],
   "source": [
    "plot_livers(k=50)"
   ]
  },
  {
   "cell_type": "code",
   "execution_count": null,
   "metadata": {
    "colab": {
     "base_uri": "https://localhost:8080/",
     "height": 627
    },
    "executionInfo": {
     "elapsed": 9595,
     "status": "ok",
     "timestamp": 1626776134579,
     "user": {
      "displayName": "Zhaolu Liu",
      "photoUrl": "",
      "userId": "00800126687900378030"
     },
     "user_tz": -480
    },
    "id": "gWhCaa-naEFL",
    "outputId": "3ba87eaa-a132-45f8-a17e-09bcb5331a2d"
   },
   "outputs": [],
   "source": [
    "plot_livers(k=3)"
   ]
  },
  {
   "cell_type": "code",
   "execution_count": null,
   "metadata": {
    "colab": {
     "base_uri": "https://localhost:8080/",
     "height": 627
    },
    "executionInfo": {
     "elapsed": 11323,
     "status": "ok",
     "timestamp": 1626776145898,
     "user": {
      "displayName": "Zhaolu Liu",
      "photoUrl": "",
      "userId": "00800126687900378030"
     },
     "user_tz": -480
    },
    "id": "B6sZ6_tkbvwu",
    "outputId": "828cc0c2-c358-4cf6-c379-c808c81935a8"
   },
   "outputs": [],
   "source": [
    "plot_livers(k=13)"
   ]
  },
  {
   "cell_type": "markdown",
   "metadata": {
    "id": "BoBCeVTogaoM"
   },
   "source": [
    "# test with liver 1"
   ]
  },
  {
   "cell_type": "code",
   "execution_count": null,
   "metadata": {
    "id": "WClmPvKoyb2n"
   },
   "outputs": [],
   "source": [
    "import numpy as np\n",
    "arr = np.load('/content/drive/MyDrive/liver1_test/LR_npy/liver1peak1.npy')"
   ]
  },
  {
   "cell_type": "code",
   "execution_count": null,
   "metadata": {
    "id": "eg_Mnk1j5Ixv"
   },
   "outputs": [],
   "source": [
    "bestmod = drln.DRLN(args)\n",
    "bestmod_params = torch.load(modelo, map_location=torch.device('cuda'))\n",
    "bestmod.load_state_dict(bestmod_params)\n",
    "restored = np.array([bestmod(p).detach().numpy() for p in noisytens])"
   ]
  },
  {
   "cell_type": "markdown",
   "metadata": {
    "id": "UaaLWNSt1tJb"
   },
   "source": [
    "# train x1"
   ]
  },
  {
   "cell_type": "code",
   "execution_count": null,
   "metadata": {
    "id": "0b--0nm41vek"
   },
   "outputs": [],
   "source": [
    "!CUDA_VISIBLE_DEVICES=0 python main.py --scale 1 --model drln --epochs 25 \\\n",
    "  --dir_data /content/drive/MyDrive/DRLN_up/denoising_liver/ \\\n",
    "  --data_train MSI_Liver --data_test MSI_Liver --patch_size 40 \\\n",
    "  --n_colors 3 --save Denoising_1strun --print_every 250 --batch_size 5 \\\n",
    "  --save_models \\\n",
    "  --n_threads 3 \\\n",
    "  --seed 1997 \\\n",
    "  --loss 1*MSE+1*VGG22 \\\n",
    "  --n_GPUs 1 \n",
    "  "
   ]
  },
  {
   "cell_type": "code",
   "execution_count": null,
   "metadata": {
    "id": "gXvImi3Xml4i"
   },
   "outputs": [],
   "source": [
    "from model import drln\n",
    "from option_noimp import parser\n",
    "\n",
    "import sys, os, pickle, torch\n",
    "import numpy as np\n",
    "import importlib\n",
    "from importlib import reload\n",
    "#import torch, torch.nn as nn,torch.nn.functional as F\n",
    "import matplotlib.pyplot as plt"
   ]
  },
  {
   "cell_type": "code",
   "execution_count": null,
   "metadata": {
    "id": "gC-YwQ7uml4j"
   },
   "outputs": [],
   "source": [
    "bestmod_params_01 = torch.load('/content/drive/MyDrive/SR/Denoising_1strun/model/model_best.pt', \n",
    "                     map_location=torch.device('cpu'))"
   ]
  },
  {
   "cell_type": "code",
   "execution_count": null,
   "metadata": {
    "id": "XHabTXjYml4j"
   },
   "outputs": [],
   "source": [
    "args = parser.parse_args(['--scale', '1'])"
   ]
  },
  {
   "cell_type": "code",
   "execution_count": null,
   "metadata": {
    "id": "xGRKDgTZml4k"
   },
   "outputs": [],
   "source": [
    "bestmod_01 = drln.DRLN(args)\n",
    "bestmod_01.load_state_dict(bestmod_params_01)"
   ]
  },
  {
   "cell_type": "code",
   "execution_count": null,
   "metadata": {
    "id": "e2qeitXHml4k"
   },
   "outputs": [],
   "source": [
    "imgdir = '/content/drive/MyDrive/DRLN_up/denoising_liver/val/LR/x1/'\n",
    "imgs = os.listdir(imgdir)\n",
    "sample_img = np.load(imgdir+imgs[0])"
   ]
  },
  {
   "cell_type": "code",
   "execution_count": null,
   "metadata": {
    "colab": {
     "base_uri": "https://localhost:8080/"
    },
    "executionInfo": {
     "elapsed": 518,
     "status": "ok",
     "timestamp": 1627635127384,
     "user": {
      "displayName": "Zhaolu Liu",
      "photoUrl": "",
      "userId": "00800126687900378030"
     },
     "user_tz": -480
    },
    "id": "lYJ5CoNoml4k",
    "outputId": "fb3e9e7b-e18d-418b-ddc8-e7d49c0e70c7"
   },
   "outputs": [],
   "source": [
    "sample_img[:,:,0].shape"
   ]
  },
  {
   "cell_type": "code",
   "execution_count": null,
   "metadata": {
    "colab": {
     "base_uri": "https://localhost:8080/"
    },
    "executionInfo": {
     "elapsed": 447,
     "status": "ok",
     "timestamp": 1627635129748,
     "user": {
      "displayName": "Zhaolu Liu",
      "photoUrl": "",
      "userId": "00800126687900378030"
     },
     "user_tz": -480
    },
    "id": "JJ7jt9Huml4l",
    "outputId": "0dc3d91a-1929-428b-edb1-e587f03c31d1"
   },
   "outputs": [],
   "source": [
    "sample_tensor = torch.Tensor(sample_img[:,:,0])\n",
    "sample_tensor = torch.stack([sample_tensor,sample_tensor,sample_tensor])\n",
    "sample_tensor.shape"
   ]
  },
  {
   "cell_type": "code",
   "execution_count": null,
   "metadata": {
    "id": "RkLtmMD6ml4l"
   },
   "outputs": [],
   "source": [
    "restored = bestmod_01(sample_tensor.unsqueeze(dim=0))"
   ]
  },
  {
   "cell_type": "code",
   "execution_count": null,
   "metadata": {
    "id": "plpoCVZrml4l"
   },
   "outputs": [],
   "source": [
    "restoredimg= restored.detach().numpy()\n",
    "restoredimg = np.swapaxes(restoredimg[0], 0, -1)"
   ]
  },
  {
   "cell_type": "code",
   "execution_count": null,
   "metadata": {
    "colab": {
     "base_uri": "https://localhost:8080/",
     "height": 58
    },
    "executionInfo": {
     "elapsed": 8,
     "status": "ok",
     "timestamp": 1627635158501,
     "user": {
      "displayName": "Zhaolu Liu",
      "photoUrl": "",
      "userId": "00800126687900378030"
     },
     "user_tz": -480
    },
    "id": "dgb_QH_Iml4m",
    "outputId": "eec896a0-86f8-4acf-f0ba-483977c4740c"
   },
   "outputs": [],
   "source": [
    "imgdir"
   ]
  },
  {
   "cell_type": "code",
   "execution_count": null,
   "metadata": {
    "colab": {
     "base_uri": "https://localhost:8080/",
     "height": 369
    },
    "executionInfo": {
     "elapsed": 1597,
     "status": "ok",
     "timestamp": 1627635181817,
     "user": {
      "displayName": "Zhaolu Liu",
      "photoUrl": "",
      "userId": "00800126687900378030"
     },
     "user_tz": -480
    },
    "id": "maY0_FTDml4m",
    "outputId": "0ca937ec-4b13-44ef-de1a-9f488dec128b"
   },
   "outputs": [],
   "source": [
    "plt.figure(figsize=(20,6))\n",
    "\n",
    "plt.subplot(131);plt.imshow(sample_img);plt.title(\"Noisy\")\n",
    "plt.subplot(132);plt.imshow(restoredimg[:,:,0].T, cmap = 'gray');plt.title(\"Restored\")\n",
    "plt.subplot(133);plt.imshow(np.load(imgdir.replace('/LR/x1/', '/HR/')+imgs[0]));plt.title(\"Ground truth\")"
   ]
  },
  {
   "cell_type": "code",
   "execution_count": null,
   "metadata": {
    "id": "7EZ3mb9Pml4n"
   },
   "outputs": [],
   "source": [
    "def plot_livers(k):\n",
    "  sample_img = np.load(imgdir+imgs[k])\n",
    "  sample_tensor = torch.Tensor(sample_img[:,:,0])\n",
    "  sample_tensor = torch.stack([sample_tensor,sample_tensor,sample_tensor])\n",
    "\n",
    "  restored_01 = bestmod_01(sample_tensor.unsqueeze(dim=0))\n",
    "  restoredimg_01 = restored_01.detach().numpy()\n",
    "  restoredimg_01 = np.swapaxes(restoredimg_01[0], 0, -1)\n",
    "\n",
    "\n",
    "  plt.figure(figsize=(20,10))\n",
    "\n",
    "  plt.subplot(131);plt.imshow(sample_img);plt.title(\"Noisy\")\n",
    "  plt.subplot(132);plt.imshow(restoredimg_01[:,:,0].T, cmap='gray');plt.title(\"Restored\")\n",
    "  plt.subplot(133);plt.imshow(np.load(imgdir.replace('/LR/x1/', '/HR/')+imgs[k]));plt.title(\"Ground truth\")"
   ]
  },
  {
   "cell_type": "code",
   "execution_count": null,
   "metadata": {
    "colab": {
     "base_uri": "https://localhost:8080/",
     "height": 526
    },
    "executionInfo": {
     "elapsed": 14252,
     "status": "ok",
     "timestamp": 1627635238751,
     "user": {
      "displayName": "Zhaolu Liu",
      "photoUrl": "",
      "userId": "00800126687900378030"
     },
     "user_tz": -480
    },
    "id": "BZfqfxg6ml4n",
    "outputId": "19e4d204-b5e9-4b7f-f01b-0e34e8af598f"
   },
   "outputs": [],
   "source": [
    "plot_livers(k=1)"
   ]
  },
  {
   "cell_type": "code",
   "execution_count": null,
   "metadata": {
    "colab": {
     "base_uri": "https://localhost:8080/",
     "height": 254
    },
    "executionInfo": {
     "elapsed": 16684,
     "status": "ok",
     "timestamp": 1627635255431,
     "user": {
      "displayName": "Zhaolu Liu",
      "photoUrl": "",
      "userId": "00800126687900378030"
     },
     "user_tz": -480
    },
    "id": "jtlaGOgl1wLB",
    "outputId": "c235fc1f-5dd7-4634-9fa0-a5b39e5de6af"
   },
   "outputs": [],
   "source": [
    "plot_livers(k=2)"
   ]
  },
  {
   "cell_type": "code",
   "execution_count": null,
   "metadata": {
    "colab": {
     "base_uri": "https://localhost:8080/",
     "height": 254
    },
    "executionInfo": {
     "elapsed": 17998,
     "status": "ok",
     "timestamp": 1627635273424,
     "user": {
      "displayName": "Zhaolu Liu",
      "photoUrl": "",
      "userId": "00800126687900378030"
     },
     "user_tz": -480
    },
    "id": "fDyBaqQC1wX-",
    "outputId": "5f493b9a-0f3c-4b80-dfa8-1f9fdaba5112"
   },
   "outputs": [],
   "source": [
    "plot_livers(k=3)"
   ]
  },
  {
   "cell_type": "code",
   "execution_count": null,
   "metadata": {
    "id": "lFYynXZgnrxL"
   },
   "outputs": [],
   "source": [
    "imgdir = '/content/drive/MyDrive/liver1_test/DRLN_data/denoising_x1/LR/'\n",
    "imgs = os.listdir(imgdir)\n",
    "sample_img = np.load(imgdir+imgs[0])"
   ]
  },
  {
   "cell_type": "code",
   "execution_count": null,
   "metadata": {
    "colab": {
     "base_uri": "https://localhost:8080/"
    },
    "executionInfo": {
     "elapsed": 3,
     "status": "ok",
     "timestamp": 1627635626231,
     "user": {
      "displayName": "Zhaolu Liu",
      "photoUrl": "",
      "userId": "00800126687900378030"
     },
     "user_tz": -480
    },
    "id": "qNHXY_Sio1Cc",
    "outputId": "53ac32b5-12fe-4fe6-fa96-36a202d9eb0a"
   },
   "outputs": [],
   "source": [
    "sample_tensor = torch.Tensor(sample_img[:,:,0])\n",
    "sample_tensor = torch.stack([sample_tensor,sample_tensor,sample_tensor])\n",
    "sample_tensor.shape"
   ]
  },
  {
   "cell_type": "code",
   "execution_count": null,
   "metadata": {
    "id": "VDJ0Wq72pI4E"
   },
   "outputs": [],
   "source": []
  }
 ],
 "metadata": {
  "accelerator": "GPU",
  "colab": {
   "authorship_tag": "ABX9TyOCgwP573yxi9k+n/20MDP7",
   "collapsed_sections": [],
   "mount_file_id": "1_91645I2SH5gtEU8_0jfJNEXGFN5zzFu",
   "name": "DRLN_01.ipynb",
   "provenance": []
  },
  "kernelspec": {
   "display_name": "Python 3",
   "language": "python",
   "name": "python3"
  },
  "language_info": {
   "codemirror_mode": {
    "name": "ipython",
    "version": 3
   },
   "file_extension": ".py",
   "mimetype": "text/x-python",
   "name": "python",
   "nbconvert_exporter": "python",
   "pygments_lexer": "ipython3",
   "version": "3.7.9"
  }
 },
 "nbformat": 4,
 "nbformat_minor": 1
}
