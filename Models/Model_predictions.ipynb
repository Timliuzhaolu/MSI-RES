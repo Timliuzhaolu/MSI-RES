{
 "cells": [
  {
   "cell_type": "markdown",
   "metadata": {
    "id": "APUfTGH3t--e"
   },
   "source": [
    "# ESRGAN testing script"
   ]
  },
  {
   "cell_type": "code",
   "execution_count": null,
   "metadata": {
    "colab": {
     "base_uri": "https://localhost:8080/"
    },
    "id": "mFuAS0xsesTY",
    "outputId": "d2fd1969-0121-437f-c498-51dedac7ccd2"
   },
   "outputs": [
    {
     "name": "stdout",
     "output_type": "stream",
     "text": [
      "/content/drive/MyDrive/image-super-resolution-master\n"
     ]
    }
   ],
   "source": [
    "%cd /content/drive/MyDrive/image-super-resolution-master/"
   ]
  },
  {
   "cell_type": "code",
   "execution_count": null,
   "metadata": {
    "id": "rzr7bX4Lg9X3"
   },
   "outputs": [],
   "source": [
    "import numpy as np\n",
    "from PIL import Image\n",
    "import tensorflow as tf\n",
    "from ISR.models import RRDN\n",
    "import os\n",
    "from tqdm import tqdm"
   ]
  },
  {
   "cell_type": "code",
   "execution_count": null,
   "metadata": {
    "colab": {
     "base_uri": "https://localhost:8080/"
    },
    "id": "Dte4AAuJaf8N",
    "outputId": "00241ed9-481a-49c8-b086-0539f828805c"
   },
   "outputs": [
    {
     "data": {
      "text/plain": [
       "[PhysicalDevice(name='/physical_device:GPU:0', device_type='GPU')]"
      ]
     },
     "execution_count": 4,
     "metadata": {
      "tags": []
     },
     "output_type": "execute_result"
    }
   ],
   "source": [
    "tf.config.list_physical_devices('GPU')"
   ]
  },
  {
   "cell_type": "code",
   "execution_count": null,
   "metadata": {
    "colab": {
     "base_uri": "https://localhost:8080/",
     "height": 601
    },
    "id": "j_PwUBDhZgtB",
    "outputId": "0eb8da3d-2061-4798-e13d-b7a98ac7312e"
   },
   "outputs": [
    {
     "name": "stdout",
     "output_type": "stream",
     "text": [
      "Collecting h5py==2.10.0\n",
      "  Downloading h5py-2.10.0-cp37-cp37m-manylinux1_x86_64.whl (2.9 MB)\n",
      "\u001b[K     |████████████████████████████████| 2.9 MB 5.0 MB/s \n",
      "\u001b[?25hCollecting numpy>=1.7\n",
      "  Downloading numpy-1.21.1-cp37-cp37m-manylinux_2_12_x86_64.manylinux2010_x86_64.whl (15.7 MB)\n",
      "\u001b[K     |████████████████████████████████| 15.7 MB 43.8 MB/s \n",
      "\u001b[?25hCollecting six\n",
      "  Downloading six-1.16.0-py2.py3-none-any.whl (11 kB)\n",
      "Installing collected packages: six, numpy, h5py\n",
      "  Attempting uninstall: six\n",
      "    Found existing installation: six 1.15.0\n",
      "    Uninstalling six-1.15.0:\n",
      "      Successfully uninstalled six-1.15.0\n",
      "  Attempting uninstall: numpy\n",
      "    Found existing installation: numpy 1.19.5\n",
      "    Uninstalling numpy-1.19.5:\n",
      "      Successfully uninstalled numpy-1.19.5\n",
      "  Attempting uninstall: h5py\n",
      "    Found existing installation: h5py 3.1.0\n",
      "    Uninstalling h5py-3.1.0:\n",
      "      Successfully uninstalled h5py-3.1.0\n",
      "\u001b[31mERROR: pip's dependency resolver does not currently take into account all the packages that are installed. This behaviour is the source of the following dependency conflicts.\n",
      "tensorflow 2.5.0 requires h5py~=3.1.0, but you have h5py 2.10.0 which is incompatible.\n",
      "tensorflow 2.5.0 requires numpy~=1.19.2, but you have numpy 1.21.1 which is incompatible.\n",
      "tensorflow 2.5.0 requires six~=1.15.0, but you have six 1.16.0 which is incompatible.\n",
      "google-colab 1.0.0 requires six~=1.15.0, but you have six 1.16.0 which is incompatible.\n",
      "datascience 0.10.6 requires folium==0.2.1, but you have folium 0.8.3 which is incompatible.\n",
      "albumentations 0.1.12 requires imgaug<0.2.7,>=0.2.5, but you have imgaug 0.2.9 which is incompatible.\u001b[0m\n",
      "Successfully installed h5py-2.10.0 numpy-1.21.1 six-1.16.0\n"
     ]
    },
    {
     "data": {
      "application/vnd.colab-display-data+json": {
       "pip_warning": {
        "packages": [
         "h5py",
         "numpy",
         "six"
        ]
       }
      }
     },
     "metadata": {
      "tags": []
     },
     "output_type": "display_data"
    }
   ],
   "source": [
    "!pip install h5py==2.10.0 --force-reinstall"
   ]
  },
  {
   "cell_type": "code",
   "execution_count": null,
   "metadata": {
    "id": "DJmIt5rYlw1Z"
   },
   "outputs": [],
   "source": [
    "rrdn = RRDN(arch_params={'C': 4, 'D':3, 'G':32, 'G0':32, 'T': 10, 'x':4})\n",
    "rrdn.model.load_weights('/content/drive/MyDrive/image-super-resolution-master/weights/rrdn-C4-D3-G32-G032-T10-x4/2021-08-03_1225/rrdn-C4-D3-G32-G032-T10-x4_epoch100.hdf5')"
   ]
  },
  {
   "cell_type": "markdown",
   "metadata": {},
   "source": [
    "# Restore"
   ]
  },
  {
   "cell_type": "code",
   "execution_count": null,
   "metadata": {
    "id": "0B1-KafShVbQ"
   },
   "outputs": [],
   "source": [
    "filelist = os.listdir('/content/drive/MyDrive/Brain_data/LR_2/')\n",
    "for i in tqdm(filelist):\n",
    "  img = Image.open('/content/drive/MyDrive/Brain_data/LR_2/' + i)\n",
    "  sr_img = rrdn.predict(np.array(img))\n",
    "  im = Image.fromarray(sr_img)\n",
    "  im.save('/content/drive/MyDrive/Brain_data/RES_2/' + i)"
   ]
  },
  {
   "cell_type": "code",
   "execution_count": null,
   "metadata": {
    "id": "Z-RoFK95-apX"
   },
   "outputs": [],
   "source": [
    "filelist = os.listdir('/content/drive/MyDrive/Brain_data/LR_3/')\n",
    "for i in tqdm(filelist):\n",
    "  img = Image.open('/content/drive/MyDrive/Brain_data/LR_3/' + i)\n",
    "  sr_img = rrdn.predict(np.array(img))\n",
    "  im = Image.fromarray(sr_img)\n",
    "  im.save('/content/drive/MyDrive/Brain_data/RES_3/' + i)"
   ]
  },
  {
   "cell_type": "code",
   "execution_count": null,
   "metadata": {
    "id": "5Tdd-heV_Jq8"
   },
   "outputs": [],
   "source": [
    "filelist = os.listdir('/content/drive/MyDrive/Brain_data/LR_4/')\n",
    "for i in tqdm(filelist):\n",
    "  img = Image.open('/content/drive/MyDrive/Brain_data/LR_4/' + i)\n",
    "  sr_img = rrdn.predict(np.array(img))\n",
    "  im = Image.fromarray(sr_img)\n",
    "  im.save('/content/drive/MyDrive/Brain_data/RES_4/' + i)"
   ]
  },
  {
   "cell_type": "markdown",
   "metadata": {
    "id": "QbH5Q2ZCMkFR"
   },
   "source": [
    "# enhance brain"
   ]
  },
  {
   "cell_type": "code",
   "execution_count": null,
   "metadata": {
    "colab": {
     "base_uri": "https://localhost:8080/"
    },
    "id": "-VWF9NcBMjEA",
    "outputId": "546f7d54-2fa4-45d4-db3c-19c79303d025"
   },
   "outputs": [
    {
     "name": "stderr",
     "output_type": "stream",
     "text": [
      "100%|██████████| 1717/1717 [13:19<00:00,  2.15it/s]\n"
     ]
    }
   ],
   "source": [
    "filelist = os.listdir('/content/drive/MyDrive/Brain_data/HR/')\n",
    "for i in tqdm(filelist):\n",
    "  img = Image.open('/content/drive/MyDrive/Brain_data/HR/' + i)\n",
    "  sr_img = rrdn.predict(np.array(img))\n",
    "  im = Image.fromarray(sr_img)\n",
    "  im.save('/content/drive/MyDrive/Brain_data/ENH/' + i)"
   ]
  },
  {
   "cell_type": "code",
   "execution_count": null,
   "metadata": {
    "colab": {
     "base_uri": "https://localhost:8080/"
    },
    "id": "ASyuk7DeMyPB",
    "outputId": "e742e8cd-5458-441a-f4c4-1c1a21957547"
   },
   "outputs": [
    {
     "name": "stderr",
     "output_type": "stream",
     "text": [
      "100%|██████████| 1717/1717 [16:35<00:00,  1.73it/s]\n"
     ]
    }
   ],
   "source": [
    "filelist = os.listdir('/content/drive/MyDrive/Brain_data/HR_2/')\n",
    "for i in tqdm(filelist):\n",
    "  img = Image.open('/content/drive/MyDrive/Brain_data/HR_2/' + i)\n",
    "  sr_img = rrdn.predict(np.array(img))\n",
    "  im = Image.fromarray(sr_img)\n",
    "  im.save('/content/drive/MyDrive/Brain_data/ENH_2/' + i)"
   ]
  },
  {
   "cell_type": "code",
   "execution_count": null,
   "metadata": {
    "colab": {
     "base_uri": "https://localhost:8080/"
    },
    "id": "7x99L0gSMy2M",
    "outputId": "19cb74c2-c812-4733-d4cf-fb936ad36242"
   },
   "outputs": [
    {
     "name": "stderr",
     "output_type": "stream",
     "text": [
      "100%|██████████| 1717/1717 [14:51<00:00,  1.93it/s]\n"
     ]
    }
   ],
   "source": [
    "filelist = os.listdir('/content/drive/MyDrive/Brain_data/HR_3/')\n",
    "for i in tqdm(filelist):\n",
    "  img = Image.open('/content/drive/MyDrive/Brain_data/HR_3/' + i)\n",
    "  sr_img = rrdn.predict(np.array(img))\n",
    "  im = Image.fromarray(sr_img)\n",
    "  im.save('/content/drive/MyDrive/Brain_data/ENH_3/' + i)"
   ]
  },
  {
   "cell_type": "code",
   "execution_count": null,
   "metadata": {
    "colab": {
     "base_uri": "https://localhost:8080/"
    },
    "id": "PSy2G9WeMzOu",
    "outputId": "12770a7f-e8f5-46c6-9d2a-b45b3297dcfc"
   },
   "outputs": [
    {
     "name": "stderr",
     "output_type": "stream",
     "text": [
      "100%|██████████| 1717/1717 [14:13<00:00,  2.01it/s]\n"
     ]
    }
   ],
   "source": [
    "filelist = os.listdir('/content/drive/MyDrive/Brain_data/HR_4/')\n",
    "for i in tqdm(filelist):\n",
    "  img = Image.open('/content/drive/MyDrive/Brain_data/HR_4/' + i)\n",
    "  sr_img = rrdn.predict(np.array(img))\n",
    "  im = Image.fromarray(sr_img)\n",
    "  im.save('/content/drive/MyDrive/Brain_data/ENH_4/' + i)"
   ]
  },
  {
   "cell_type": "code",
   "execution_count": null,
   "metadata": {
    "colab": {
     "base_uri": "https://localhost:8080/"
    },
    "id": "29jrmPpynhRU",
    "outputId": "1672f228-e7bb-43ed-e1ce-29faadad234c"
   },
   "outputs": [
    {
     "name": "stderr",
     "output_type": "stream",
     "text": [
      "100%|██████████| 1136/1136 [09:14<00:00,  2.05it/s]\n"
     ]
    }
   ],
   "source": [
    "filelist = os.listdir('/content/drive/MyDrive/Brain_data/HR_high_SNR/')\n",
    "for i in tqdm(filelist):\n",
    "  img = Image.open('/content/drive/MyDrive/Brain_data/HR_high_SNR/' + i)\n",
    "  sr_img = rrdn.predict(np.array(img))\n",
    "  im = Image.fromarray(sr_img)\n",
    "  im.save('/content/drive/MyDrive/Brain_data/ENH_high_SNR/' + i)"
   ]
  },
  {
   "cell_type": "code",
   "execution_count": null,
   "metadata": {
    "id": "2q0nkovunw5z"
   },
   "outputs": [],
   "source": [
    "filelist = os.listdir('/content/drive/MyDrive/Brain_data/LR_high_SNR/')\n",
    "for i in tqdm(filelist):\n",
    "  img = Image.open('/content/drive/MyDrive/Brain_data/LR_high_SNR/' + i)\n",
    "  sr_img = rrdn.predict(np.array(img))\n",
    "  im = Image.fromarray(sr_img)\n",
    "  im.save('/content/drive/MyDrive/Brain_data/RES_high_SNR/' + i)"
   ]
  },
  {
   "cell_type": "markdown",
   "metadata": {
    "id": "1k8FBHL6OJNf"
   },
   "source": [
    "# DRLN testing script"
   ]
  },
  {
   "cell_type": "code",
   "execution_count": null,
   "metadata": {
    "colab": {
     "base_uri": "https://localhost:8080/"
    },
    "id": "rHSX-digWUFR",
    "outputId": "01ea5371-e5fb-4693-8bf3-0ecdeaff1789"
   },
   "outputs": [
    {
     "name": "stdout",
     "output_type": "stream",
     "text": [
      "/content/drive/MyDrive/DRLN_up\n"
     ]
    }
   ],
   "source": [
    "%cd drive/MyDrive/DRLN_up/"
   ]
  },
  {
   "cell_type": "code",
   "execution_count": null,
   "metadata": {
    "colab": {
     "base_uri": "https://localhost:8080/"
    },
    "id": "rk50m1NFWVtz",
    "outputId": "379b4958-c720-4f30-9ad0-ca78b48d35f5"
   },
   "outputs": [
    {
     "name": "stdout",
     "output_type": "stream",
     "text": [
      "/content/drive/MyDrive/DRLN_up\n"
     ]
    }
   ],
   "source": [
    "!pwd"
   ]
  },
  {
   "cell_type": "code",
   "execution_count": null,
   "metadata": {
    "id": "CePDtqAvWUFS"
   },
   "outputs": [],
   "source": [
    "import os\n",
    "import torch\n",
    "\n",
    "from model import drln\n",
    "from option_noimp import parser\n",
    "\n",
    "import sys, os, pickle, torch\n",
    "import numpy as np\n",
    "import importlib\n",
    "from importlib import reload\n",
    "import matplotlib.pyplot as plt\n",
    "from PIL import Image\n",
    "import glob\n",
    "from tqdm import tqdm"
   ]
  },
  {
   "cell_type": "code",
   "execution_count": null,
   "metadata": {
    "id": "2OCWSfz6UK39"
   },
   "outputs": [],
   "source": [
    "def normalize8(I):\n",
    "  mn = I.min()\n",
    "  mx = I.max()\n",
    "  mx -= mn\n",
    "  I = ((I - mn)/mx) * 255\n",
    "  return I.astype(np.uint8)"
   ]
  },
  {
   "cell_type": "code",
   "execution_count": null,
   "metadata": {
    "colab": {
     "base_uri": "https://localhost:8080/"
    },
    "id": "34BqgyQW5W28",
    "outputId": "0ad6293b-0c9f-4f0b-df68-26585facca59"
   },
   "outputs": [
    {
     "data": {
      "text/plain": [
       "[PhysicalDevice(name='/physical_device:GPU:0', device_type='GPU')]"
      ]
     },
     "execution_count": 5,
     "metadata": {
      "tags": []
     },
     "output_type": "execute_result"
    }
   ],
   "source": [
    "import tensorflow as tf\n",
    "tf.config.list_physical_devices('GPU')"
   ]
  },
  {
   "cell_type": "code",
   "execution_count": null,
   "metadata": {
    "id": "jKIljob2UfIM"
   },
   "outputs": [],
   "source": [
    "bestmod_params = torch.load('/content/drive/MyDrive/SR/MSE_vgg/model/model_best.pt', \n",
    "                     map_location=torch.device('cuda'))\n",
    "args = parser.parse_args(['--scale', '4'])\n",
    "bestmod = drln.DRLN(args)\n",
    "bestmod.load_state_dict(bestmod_params)"
   ]
  },
  {
   "cell_type": "markdown",
   "metadata": {
    "id": "fuo-EAdqFqK6"
   },
   "source": [
    "## Restore"
   ]
  },
  {
   "cell_type": "code",
   "execution_count": null,
   "metadata": {
    "id": "S1Q_7JqEOMFy"
   },
   "outputs": [],
   "source": [
    "npy_dir = '/content/drive/MyDrive/liver1_test/DRLN_data/denoising_x1/LR/'\n",
    "filelist = glob.glob(npy_dir + '**')\n",
    "filelist.sort()"
   ]
  },
  {
   "cell_type": "code",
   "execution_count": null,
   "metadata": {
    "colab": {
     "base_uri": "https://localhost:8080/"
    },
    "id": "aerwWhAkWwSw",
    "outputId": "37ed7574-d690-4078-dbed-d2eaf8c86de4"
   },
   "outputs": [
    {
     "name": "stderr",
     "output_type": "stream",
     "text": [
      "100%|██████████| 811/811 [2:04:43<00:00,  9.23s/it]\n"
     ]
    }
   ],
   "source": [
    "for i in tqdm(filelist):\n",
    "  sample_npy = np.load(i)\n",
    "  sample_tensor = torch.Tensor(sample_npy[:,:,0])\n",
    "  sample_tensor = torch.stack([sample_tensor,sample_tensor,sample_tensor])\n",
    "\n",
    "  restored = bestmod(sample_tensor.unsqueeze(dim=0))\n",
    "  restoredimg = restored.detach().numpy()\n",
    "  restoredimg = np.swapaxes(restoredimg[0], 0, -1)\n",
    "\n",
    "  restoredimg_int = normalize8(restoredimg)\n",
    "  restored_npy = np.swapaxes(restoredimg_int, 0, 1)\n",
    "  np.save(i.replace('/LR/', '/RES/'), restored_npy)"
   ]
  },
  {
   "cell_type": "markdown",
   "metadata": {
    "id": "7ilrC_PnJMXl"
   },
   "source": [
    "## Enhance"
   ]
  },
  {
   "cell_type": "code",
   "execution_count": null,
   "metadata": {
    "id": "1qvqL6Iy5orJ"
   },
   "outputs": [],
   "source": [
    "npy_dir = '/content/drive/MyDrive/liver1_test/DRLN_data/npy/HR/'\n",
    "filelist = glob.glob(npy_dir + '**')\n",
    "filelist.sort()"
   ]
  },
  {
   "cell_type": "code",
   "execution_count": null,
   "metadata": {
    "colab": {
     "base_uri": "https://localhost:8080/"
    },
    "id": "MgKaMfo8JLPj",
    "outputId": "89ed2718-2ba6-4c12-e9a8-dfdeb07faa9a"
   },
   "outputs": [
    {
     "name": "stderr",
     "output_type": "stream",
     "text": [
      "100%|██████████| 811/811 [1:16:08<00:00,  5.63s/it]\n"
     ]
    }
   ],
   "source": [
    "for i in tqdm(filelist):\n",
    "  sample_npy = np.load(i)\n",
    "  sample_tensor = torch.Tensor(sample_npy[:,:,0])\n",
    "  sample_tensor = torch.stack([sample_tensor,sample_tensor,sample_tensor])\n",
    "\n",
    "  restored = bestmod(sample_tensor.unsqueeze(dim=0))\n",
    "  restoredimg = restored.detach().numpy()\n",
    "  restoredimg = np.swapaxes(restoredimg[0], 0, -1)\n",
    "\n",
    "  restoredimg_int = normalize8(restoredimg)\n",
    "  restored_npy = np.swapaxes(restoredimg_int, 0, 1)\n",
    "  np.save(i.replace('/HR/', '/enhanced/'), restored_npy)"
   ]
  },
  {
   "cell_type": "code",
   "execution_count": null,
   "metadata": {
    "id": "SKbpbo5AshyJ"
   },
   "outputs": [],
   "source": []
  }
 ],
 "metadata": {
  "accelerator": "GPU",
  "colab": {
   "collapsed_sections": [],
   "machine_shape": "hm",
   "name": "Model_predictions",
   "provenance": []
  },
  "kernelspec": {
   "display_name": "Python 3",
   "language": "python",
   "name": "python3"
  },
  "language_info": {
   "codemirror_mode": {
    "name": "ipython",
    "version": 3
   },
   "file_extension": ".py",
   "mimetype": "text/x-python",
   "name": "python",
   "nbconvert_exporter": "python",
   "pygments_lexer": "ipython3",
   "version": "3.7.9"
  }
 },
 "nbformat": 4,
 "nbformat_minor": 1
}
