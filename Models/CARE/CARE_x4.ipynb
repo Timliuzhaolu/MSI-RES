{
 "cells": [
  {
   "cell_type": "code",
   "execution_count": null,
   "metadata": {
    "colab": {
     "base_uri": "https://localhost:8080/"
    },
    "id": "uW0pHgsCbUVu",
    "outputId": "647b088c-8ce8-4e73-9d5d-e8127d196768"
   },
   "outputs": [],
   "source": [
    "!pip install csbdeep"
   ]
  },
  {
   "cell_type": "code",
   "execution_count": null,
   "metadata": {
    "colab": {
     "base_uri": "https://localhost:8080/",
     "height": 58
    },
    "id": "d5FcZ0Soba3f",
    "outputId": "71b65781-000e-433a-8441-f7f18d281056"
   },
   "outputs": [],
   "source": [
    "import tensorflow as tf\n",
    "tf.test.gpu_device_name()"
   ]
  },
  {
   "cell_type": "code",
   "execution_count": null,
   "metadata": {
    "id": "dgpYrUkMbtBv"
   },
   "outputs": [],
   "source": [
    "from __future__ import print_function, unicode_literals, absolute_import, division\n",
    "import numpy as np\n",
    "import matplotlib.pyplot as plt\n",
    "%matplotlib inline\n",
    "%config InlineBackend.figure_format = 'retina'\n",
    "\n",
    "from tifffile import imread\n",
    "from csbdeep.utils import download_and_extract_zip_file, plot_some, axes_dict\n",
    "from csbdeep.io import save_training_data\n",
    "from csbdeep.data import RawData, create_patches\n",
    "from csbdeep.data.transform import anisotropic_distortions\n"
   ]
  },
  {
   "cell_type": "code",
   "execution_count": null,
   "metadata": {
    "id": "WUD1J6Pdhj9x"
   },
   "outputs": [],
   "source": [
    "from __future__ import print_function, unicode_literals, absolute_import, division\n",
    "import numpy as np\n",
    "import matplotlib.pyplot as plt\n",
    "%matplotlib inline\n",
    "%config InlineBackend.figure_format = 'retina'\n",
    "\n",
    "from tifffile import imread\n",
    "from csbdeep.utils import axes_dict, plot_some, plot_history\n",
    "from csbdeep.utils.tf import limit_gpu_memory\n",
    "from csbdeep.io import load_training_data\n",
    "from csbdeep.models import Config, UpsamplingCARE"
   ]
  },
  {
   "cell_type": "markdown",
   "metadata": {
    "id": "Gs43jdkVhZOp"
   },
   "source": [
    "# data preparation"
   ]
  },
  {
   "cell_type": "code",
   "execution_count": null,
   "metadata": {
    "id": "O47csnYUcWuG"
   },
   "outputs": [],
   "source": [
    "raw_data = RawData.from_folder (\n",
    "    basepath    = '/content/drive/MyDrive/Train_care/',\n",
    "    source_dirs = ['LR'],\n",
    "    target_dir  = 'HR',\n",
    "    axes        = 'ZYX'\n",
    ")"
   ]
  },
  {
   "cell_type": "code",
   "execution_count": null,
   "metadata": {
    "id": "tbcZd3E5cW0E"
   },
   "outputs": [],
   "source": [
    "anisotropic_transform1 = anisotropic_distortions (\n",
    "    subsample      = 4,\n",
    "    psf            = None,\n",
    "    subsample_axis = 'X',\n",
    "    yield_target   = 'target',\n",
    ")"
   ]
  },
  {
   "cell_type": "code",
   "execution_count": null,
   "metadata": {
    "id": "LugAUII5cW9b"
   },
   "outputs": [],
   "source": [
    "anisotropic_transform2 = anisotropic_distortions (\n",
    "    subsample      = 4,\n",
    "    psf            = None,\n",
    "    subsample_axis = 'Y',\n",
    "    yield_target   = 'target',\n",
    ")"
   ]
  },
  {
   "cell_type": "code",
   "execution_count": null,
   "metadata": {
    "colab": {
     "base_uri": "https://localhost:8080/"
    },
    "id": "f29ebo25cXAc",
    "outputId": "5edeb5e3-6e31-4cd5-e879-e54d45249dec"
   },
   "outputs": [],
   "source": [
    "X, Y, XY_axes = create_patches (\n",
    "    raw_data            = raw_data,\n",
    "    patch_size          = (4,64,100),\n",
    "    n_patches_per_image = 380,\n",
    "    transforms          = [anisotropic_transform1]\n",
    ")"
   ]
  },
  {
   "cell_type": "code",
   "execution_count": null,
   "metadata": {
    "colab": {
     "base_uri": "https://localhost:8080/"
    },
    "id": "Ie0nGHh3cXDh",
    "outputId": "01fd24f9-ab89-4979-8b82-9c87028aa637"
   },
   "outputs": [],
   "source": [
    "intermediate_data_0 = RawData.from_arrays(X[:,:,0,:,:], X[:,:,0,:,:], axes='CZYX')\n",
    "X2_0, _, _ = create_patches (\n",
    "  raw_data            = intermediate_data_0,\n",
    "  patch_size          = (1,64,100),\n",
    "  n_patches_per_image = 1,\n",
    "  transforms          = [anisotropic_transform2],\n",
    "  normalization = None,\n",
    "  shuffle = False,\n",
    "  patch_filter = None\n",
    ")\n",
    "intermediate_data_1 = RawData.from_arrays(X[:,:,1,:,:], X[:,:,1,:,:], axes='CZYX')\n",
    "X2_1, _, _ = create_patches (\n",
    "  raw_data            = intermediate_data_1,\n",
    "  patch_size          = (1,64,100),\n",
    "  n_patches_per_image = 1,\n",
    "  transforms          = [anisotropic_transform2],\n",
    "  normalization = None,\n",
    "  shuffle = False,\n",
    "  patch_filter = None\n",
    ")\n",
    "intermediate_data_2 = RawData.from_arrays(X[:,:,2,:,:], X[:,:,2,:,:], axes='CZYX')\n",
    "X2_2, _, _ = create_patches (\n",
    "  raw_data            = intermediate_data_2,\n",
    "  patch_size          = (1,64,100),\n",
    "  n_patches_per_image = 1,\n",
    "  transforms          = [anisotropic_transform2],\n",
    "  normalization = None,\n",
    "  shuffle = False,\n",
    "  patch_filter = None\n",
    ")\n",
    "intermediate_data_3 = RawData.from_arrays(X[:,:,3,:,:], X[:,:,3,:,:], axes='CZYX')\n",
    "X2_3, _, _ = create_patches (\n",
    "  raw_data            = intermediate_data_3,\n",
    "  patch_size          = (1,64,100),\n",
    "  n_patches_per_image = 1,\n",
    "  transforms          = [anisotropic_transform2],\n",
    "  normalization = None,\n",
    "  shuffle = False,\n",
    "  patch_filter = None\n",
    ") "
   ]
  },
  {
   "cell_type": "code",
   "execution_count": null,
   "metadata": {
    "colab": {
     "base_uri": "https://localhost:8080/"
    },
    "id": "RJycvDQxcXGd",
    "outputId": "44a48d33-5afc-45eb-957b-0ee0e730df10"
   },
   "outputs": [],
   "source": [
    "assert X.shape == Y.shape\n",
    "print(\"shape of X,Y =\", X.shape)\n",
    "print(\"axes  of X,Y =\", XY_axes)"
   ]
  },
  {
   "cell_type": "code",
   "execution_count": null,
   "metadata": {
    "colab": {
     "base_uri": "https://localhost:8080/"
    },
    "id": "0UE9p0CudUSS",
    "outputId": "f17cd120-af8a-4d37-bc5f-22b6ae45f144"
   },
   "outputs": [],
   "source": [
    "X_out = np.concatenate((X2_0,X2_1,X2_2,X2_3), axis=2)\n",
    "X_out.shape"
   ]
  },
  {
   "cell_type": "code",
   "execution_count": null,
   "metadata": {
    "colab": {
     "base_uri": "https://localhost:8080/",
     "height": 499
    },
    "id": "kutSswknewDk",
    "outputId": "96698e83-2fca-4ac0-a603-47acb3db9654"
   },
   "outputs": [],
   "source": [
    "for i in range(2):\n",
    "    plt.figure(figsize=(20,4))\n",
    "#     sl = slice(8*i, 8*(i+1)), slice(None), slice(None), 0\n",
    "    plot_some(X_out[20:25],Y[20:25])\n",
    "    plt.show()\n",
    "None;"
   ]
  },
  {
   "cell_type": "code",
   "execution_count": null,
   "metadata": {
    "id": "kzNSwYsrg2Tu"
   },
   "outputs": [],
   "source": [
    "save_training_data('/content/drive/MyDrive/Train_care/fulltrain_x4_nonoise.npz', X_out, Y, XY_axes)"
   ]
  },
  {
   "cell_type": "code",
   "execution_count": null,
   "metadata": {
    "id": "sjMgqUF3hcu2"
   },
   "outputs": [],
   "source": []
  },
  {
   "cell_type": "markdown",
   "metadata": {
    "id": "I_cD-3zbhiYh"
   },
   "source": [
    "## training"
   ]
  },
  {
   "cell_type": "code",
   "execution_count": null,
   "metadata": {
    "colab": {
     "base_uri": "https://localhost:8080/"
    },
    "id": "E6p8t6yDhuRf",
    "outputId": "7338d71a-1435-4a6f-b9d6-540d446fb474"
   },
   "outputs": [],
   "source": [
    "# val size is kept small to ensure maximal training\n",
    "(X,Y), (X_val,Y_val), axes = load_training_data('/content/drive/MyDrive/Train_care/fulltrain_x4_nonoise.npz', \n",
    "                                                validation_split = 0.05, verbose=True)\n",
    "\n",
    "c = axes_dict(axes)['C']\n",
    "n_channel_in, n_channel_out = X.shape[c], Y.shape[c]"
   ]
  },
  {
   "cell_type": "code",
   "execution_count": null,
   "metadata": {
    "colab": {
     "base_uri": "https://localhost:8080/",
     "height": 235
    },
    "id": "SbQIgLSBh-zc",
    "outputId": "7b034985-0538-4369-e8f7-3c807d941c74"
   },
   "outputs": [],
   "source": [
    "plt.figure(figsize=(12,3))\n",
    "plot_some(X_val[10:15],Y_val[10:15])\n",
    "plt.suptitle('5 example validation patches (ZY slice, top row: source, bottom row: target)');"
   ]
  },
  {
   "cell_type": "code",
   "execution_count": null,
   "metadata": {
    "colab": {
     "base_uri": "https://localhost:8080/"
    },
    "id": "Gv1Xosq8iDRk",
    "outputId": "d3255b43-07f5-4b50-c719-699d3e180b3a"
   },
   "outputs": [],
   "source": [
    "config = Config(axes, n_channel_in, n_channel_out, train_steps_per_epoch = 200, train_batch_size = 8)\n",
    "print(config)\n",
    "vars(config)"
   ]
  },
  {
   "cell_type": "code",
   "execution_count": null,
   "metadata": {
    "id": "3haQJmpOiddI"
   },
   "outputs": [],
   "source": [
    "model = UpsamplingCARE(config, 'fulltrain_x4_nonoise', basedir='/content/drive/MyDrive/CARE_models')"
   ]
  },
  {
   "cell_type": "code",
   "execution_count": null,
   "metadata": {
    "colab": {
     "base_uri": "https://localhost:8080/"
    },
    "id": "6cig6SXTiuIo",
    "outputId": "0317c483-e210-4932-fb79-24fea4f36ddd"
   },
   "outputs": [],
   "source": [
    "history = model.train(X,Y, validation_data=(X_val,Y_val))"
   ]
  },
  {
   "cell_type": "code",
   "execution_count": null,
   "metadata": {
    "colab": {
     "base_uri": "https://localhost:8080/",
     "height": 370
    },
    "id": "O2vfOh2oi-ug",
    "outputId": "64dfe9a7-d248-46e7-cbd7-b65e4d955504"
   },
   "outputs": [],
   "source": [
    "print(sorted(list(history.history.keys())))\n",
    "plt.figure(figsize=(16,5))\n",
    "plot_history(history,['loss','val_loss'],['mse','val_mse','mae','val_mae']);"
   ]
  },
  {
   "cell_type": "code",
   "execution_count": null,
   "metadata": {
    "colab": {
     "base_uri": "https://localhost:8080/",
     "height": 755
    },
    "id": "OaawiX-kjIui",
    "outputId": "701acaa8-291c-4c55-f42d-b3f4afd6651a"
   },
   "outputs": [],
   "source": [
    "plt.figure(figsize=(20,12))\n",
    "_P = model.keras_model.predict(X_val[10:15])\n",
    "if config.probabilistic:\n",
    "    _P = _P[...,:(_P.shape[-1]//2)]\n",
    "plot_some(X_val[10:15],Y_val[10:15],_P,pmax=99.5)\n",
    "plt.suptitle('5 example validation patches (ZY slice)\\n'      \n",
    "             'top row: input (source),  '          \n",
    "             'middle row: target (ground truth),  '\n",
    "             'bottom row: predicted from source');"
   ]
  },
  {
   "cell_type": "markdown",
   "metadata": {
    "id": "3lSdBVbWUf-_"
   },
   "source": [
    "# get liver1 predictions"
   ]
  },
  {
   "cell_type": "code",
   "execution_count": null,
   "metadata": {
    "id": "X1ISQLiojMPi"
   },
   "outputs": [],
   "source": [
    "\n",
    "from __future__ import print_function, unicode_literals, absolute_import, division\n",
    "import numpy as np\n",
    "import matplotlib.pyplot as plt\n",
    "%matplotlib inline\n",
    "%config InlineBackend.figure_format = 'retina'\n",
    "\n",
    "from tifffile import imread\n",
    "from csbdeep.utils import Path, download_and_extract_zip_file, plot_some\n",
    "from csbdeep.io import save_tiff_imagej_compatible\n",
    "from csbdeep.models import UpsamplingCARE"
   ]
  },
  {
   "cell_type": "code",
   "execution_count": null,
   "metadata": {
    "id": "1OU3q1sjWqOS"
   },
   "outputs": [],
   "source": [
    "y = imread('drive/MyDrive/liver1_test/test_hr_stacked/liver1.tif')\n",
    "x = imread('drive/MyDrive/liver1_test/test_lr_stacked/liver1.tif')\n",
    "\n",
    "axes = 'ZYX'\n",
    "print('image size =', x.shape)\n",
    "print('image axes =', axes)"
   ]
  },
  {
   "cell_type": "code",
   "execution_count": null,
   "metadata": {
    "colab": {
     "base_uri": "https://localhost:8080/"
    },
    "id": "P9fyXVl_VsN0",
    "outputId": "23035d52-176c-4e6d-a809-1dda0e53df92"
   },
   "outputs": [],
   "source": [
    "model = CARE(config=None, name='newselect_x4_nonoise/', basedir='drive/MyDrive/CARE_models/')"
   ]
  },
  {
   "cell_type": "code",
   "execution_count": null,
   "metadata": {
    "id": "349ETT6gVsVF"
   },
   "outputs": [],
   "source": [
    "save_tiff_imagej_compatible('liver1_carerestored.tiff', restored, axes)"
   ]
  },
  {
   "cell_type": "code",
   "execution_count": null,
   "metadata": {
    "colab": {
     "base_uri": "https://localhost:8080/"
    },
    "id": "Y3T3ZflnVsY_",
    "outputId": "c59917fe-8aad-4f96-ac7a-62ef85bf1574"
   },
   "outputs": [],
   "source": [
    "new_model = UpsamplingCARE(config=None, name='newselect_x4_nonoise/', basedir='drive/MyDrive/CARE_models/')"
   ]
  },
  {
   "cell_type": "markdown",
   "metadata": {
    "id": "lT7IDjFKdsRw"
   },
   "source": [
    "## option 1"
   ]
  },
  {
   "cell_type": "code",
   "execution_count": null,
   "metadata": {
    "id": "fZxudbTASHf7"
   },
   "outputs": [],
   "source": [
    "x = imread('drive/MyDrive/liver1_test/CARE_x4/liver1.tif')"
   ]
  },
  {
   "cell_type": "code",
   "execution_count": null,
   "metadata": {
    "colab": {
     "base_uri": "https://localhost:8080/"
    },
    "id": "8Rs1cvFtVscD",
    "outputId": "6d4772b3-e13b-4366-8922-6b2e6577e540"
   },
   "outputs": [],
   "source": [
    "restored_1st = new_model.predict(x, 'YXZ', 4, n_tiles=(2,2,2))\n",
    "print('1st output size =', restored_1st.shape)\n",
    "\n",
    "restored_2nd = new_model.predict(restored_1st, 'YZX', 4,  n_tiles=(2,2,2))\n",
    "print('2nd output size =', restored_2nd.shape)"
   ]
  },
  {
   "cell_type": "code",
   "execution_count": null,
   "metadata": {
    "id": "jce4LDi7dKZC"
   },
   "outputs": [],
   "source": [
    "save_tiff_imagej_compatible('/content/drive/MyDrive/liver1_test/CARE_x4/liver1_enhanced.tiff', restored_2nd, 'ZYX')"
   ]
  },
  {
   "cell_type": "markdown",
   "metadata": {
    "id": "lRzFDqlLdwg8"
   },
   "source": [
    "## option 2"
   ]
  },
  {
   "cell_type": "code",
   "execution_count": null,
   "metadata": {
    "colab": {
     "base_uri": "https://localhost:8080/"
    },
    "id": "IUMuns8Cecqo",
    "outputId": "12978a85-8851-42bc-9c51-2982f2334dcf"
   },
   "outputs": [],
   "source": [
    "restored_1st = new_model.predict(x, 'XYZ', 4)\n",
    "print('1st output size =', restored_1st.shape)\n",
    "\n",
    "restored_2nd = new_model.predict(restored_1st, 'XZY', 4)\n",
    "print('2nd output size =', restored_2nd.shape)"
   ]
  },
  {
   "cell_type": "code",
   "execution_count": null,
   "metadata": {
    "id": "u-seo6IYejkf"
   },
   "outputs": [],
   "source": [
    "save_tiff_imagej_compatible('liver1_option2.tiff', restored_2nd, 'ZYX')"
   ]
  },
  {
   "cell_type": "markdown",
   "metadata": {
    "id": "fQc0-twjeqiU"
   },
   "source": [
    "## option 3"
   ]
  },
  {
   "cell_type": "code",
   "execution_count": null,
   "metadata": {
    "colab": {
     "base_uri": "https://localhost:8080/"
    },
    "id": "08BgZzmwewpc",
    "outputId": "e39e9226-57f7-436b-ca2e-246267f16954"
   },
   "outputs": [],
   "source": [
    "restored_1st = new_model.predict(x, 'YXZ', 4)\n",
    "print('1st output size =', restored_1st.shape)\n",
    "\n",
    "restored_2nd = new_model.predict(restored_1st, 'XZY', 4)\n",
    "print('2nd output size =', restored_2nd.shape)"
   ]
  },
  {
   "cell_type": "code",
   "execution_count": null,
   "metadata": {
    "id": "bwKYUU-Oewwq"
   },
   "outputs": [],
   "source": [
    "save_tiff_imagej_compatible('liver1_option3.tiff', restored_2nd, 'ZYX')"
   ]
  },
  {
   "cell_type": "markdown",
   "metadata": {
    "id": "Op0rLWUhetck"
   },
   "source": [
    "## option 4"
   ]
  },
  {
   "cell_type": "code",
   "execution_count": null,
   "metadata": {
    "colab": {
     "base_uri": "https://localhost:8080/"
    },
    "id": "MaAsQyyAexVi",
    "outputId": "29d102b2-33af-4378-e63c-1ec5e8d4a147"
   },
   "outputs": [],
   "source": [
    "restored_1st = new_model.predict(x, 'XYZ', 4)\n",
    "print('1st output size =', restored_1st.shape)\n",
    "\n",
    "restored_2nd = new_model.predict(restored_1st, 'YZX', 4)\n",
    "print('2nd output size =', restored_2nd.shape)"
   ]
  },
  {
   "cell_type": "code",
   "execution_count": null,
   "metadata": {
    "id": "UbXXSeS5exaU"
   },
   "outputs": [],
   "source": [
    "save_tiff_imagej_compatible('liver1_option4.tiff', restored_2nd, 'ZYX')"
   ]
  }
 ],
 "metadata": {
  "accelerator": "GPU",
  "colab": {
   "machine_shape": "hm",
   "name": "CARE_upx4.ipynb",
   "provenance": []
  },
  "kernelspec": {
   "display_name": "Python 3",
   "language": "python",
   "name": "python3"
  },
  "language_info": {
   "codemirror_mode": {
    "name": "ipython",
    "version": 3
   },
   "file_extension": ".py",
   "mimetype": "text/x-python",
   "name": "python",
   "nbconvert_exporter": "python",
   "pygments_lexer": "ipython3",
   "version": "3.7.9"
  }
 },
 "nbformat": 4,
 "nbformat_minor": 1
}
