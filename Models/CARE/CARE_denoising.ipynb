{
 "cells": [
  {
   "cell_type": "code",
   "execution_count": null,
   "metadata": {
    "id": "yyyiqETMJnf6"
   },
   "outputs": [],
   "source": [
    "import os\n",
    "import shutil\n",
    "from PIL import Image\n",
    "from tifffile import imread"
   ]
  },
  {
   "cell_type": "code",
   "execution_count": null,
   "metadata": {
    "id": "Kb2_PezzLMAp"
   },
   "outputs": [],
   "source": [
    "from __future__ import print_function, unicode_literals, absolute_import, division\n",
    "import numpy as np\n",
    "import matplotlib.pyplot as plt\n",
    "%matplotlib inline\n",
    "%config InlineBackend.figure_format = 'retina'\n",
    "\n",
    "from csbdeep.utils import download_and_extract_zip_file, plot_some\n",
    "from csbdeep.data import RawData, create_patches\n",
    "from csbdeep.data import no_background_patches, norm_percentiles, sample_percentiles"
   ]
  },
  {
   "cell_type": "code",
   "execution_count": null,
   "metadata": {
    "id": "mhcXOc0h4G-G"
   },
   "outputs": [],
   "source": [
    "from tifffile import imread\n",
    "from csbdeep.utils import axes_dict, plot_some, plot_history\n",
    "from csbdeep.utils.tf import limit_gpu_memory\n",
    "from csbdeep.io import load_training_data\n",
    "from csbdeep.models import Config, CARE"
   ]
  },
  {
   "cell_type": "markdown",
   "metadata": {
    "id": "M1orq_7CoNke"
   },
   "source": [
    "# Newly selected data"
   ]
  },
  {
   "cell_type": "code",
   "execution_count": null,
   "metadata": {
    "id": "E56kIQMArdaH"
   },
   "outputs": [],
   "source": [
    "raw_data = RawData.from_folder (\n",
    "    basepath    = 'Gauss',\n",
    "    source_dirs = ['train_lr_tif_newselect'],\n",
    "    target_dir  = 'train_hr_tif_newselect',\n",
    "    axes        = 'YX',\n",
    ")"
   ]
  },
  {
   "cell_type": "code",
   "execution_count": null,
   "metadata": {
    "colab": {
     "base_uri": "https://localhost:8080/"
    },
    "id": "Nnxa4Yo0rdaH",
    "outputId": "43058a00-e129-40af-e4b1-f1df8b7c5401"
   },
   "outputs": [],
   "source": [
    "X, Y, XY_axes = create_patches (\n",
    "    raw_data            = raw_data,\n",
    "    patch_size          = (64,100),\n",
    "    patch_filter        = no_background_patches(0),\n",
    "    n_patches_per_image = 2,\n",
    "    save_file           = 'Gauss/liver_newselect_train_norm.npz',\n",
    ")"
   ]
  },
  {
   "cell_type": "code",
   "execution_count": null,
   "metadata": {
    "colab": {
     "base_uri": "https://localhost:8080/"
    },
    "id": "CSp1ERSNrdaH",
    "outputId": "65d792c4-eeee-4ddc-9ec1-e07744bf1341"
   },
   "outputs": [],
   "source": [
    "assert X.shape == Y.shape\n",
    "print(\"shape of X,Y =\", X.shape)\n",
    "print(\"axes  of X,Y =\", XY_axes)"
   ]
  },
  {
   "cell_type": "code",
   "execution_count": null,
   "metadata": {
    "colab": {
     "base_uri": "https://localhost:8080/",
     "height": 446
    },
    "id": "D9dvI6DrrdaH",
    "outputId": "4fe43385-0392-4dd1-af3d-b6736cdae8fb"
   },
   "outputs": [],
   "source": [
    "for i in range(2):\n",
    "    plt.figure(figsize=(16,4))\n",
    "    sl = slice(8*i, 8*(i+1)), 0\n",
    "    plot_some(X[sl],Y[sl],title_list=[np.arange(sl[0].start,sl[0].stop)])\n",
    "    plt.show()\n",
    "None;"
   ]
  },
  {
   "cell_type": "markdown",
   "metadata": {
    "id": "dMEmx4UprdaI"
   },
   "source": [
    "## Training"
   ]
  },
  {
   "cell_type": "code",
   "execution_count": null,
   "metadata": {
    "colab": {
     "base_uri": "https://localhost:8080/"
    },
    "id": "2sRtzgXBrdaI",
    "outputId": "233c99af-d491-40de-e6f6-a87211f47278"
   },
   "outputs": [],
   "source": [
    "(X,Y), (X_val,Y_val), axes = load_training_data('Gauss/liver_newselect_train_norm.npz', validation_split=0.2, verbose=True)\n",
    "\n",
    "c = axes_dict(axes)['C']\n",
    "n_channel_in, n_channel_out = X.shape[c], Y.shape[c]"
   ]
  },
  {
   "cell_type": "code",
   "execution_count": null,
   "metadata": {
    "colab": {
     "base_uri": "https://localhost:8080/",
     "height": 334
    },
    "id": "Ziu5dL-krdaI",
    "outputId": "63df6d9a-dd21-4500-95ba-16472625bd3e"
   },
   "outputs": [],
   "source": [
    "plt.figure(figsize=(12,5))\n",
    "plot_some(X_val[0:5],Y_val[0:5])\n",
    "plt.suptitle('5 example validation patches (top row: source, bottom row: target)');"
   ]
  },
  {
   "cell_type": "code",
   "execution_count": null,
   "metadata": {
    "id": "4sQ3i3zbrdaI",
    "outputId": "c7195e96-6e0a-4e73-f289-cf9881d4f85f"
   },
   "outputs": [],
   "source": [
    "config = Config(axes, n_channel_in, n_channel_out,  \n",
    "                train_batch_size = 8, train_epochs = 30, train_steps_per_epoch = 400)\n",
    "print(config)\n",
    "vars(config)"
   ]
  },
  {
   "cell_type": "code",
   "execution_count": null,
   "metadata": {
    "id": "SYf-c-jzrdaI",
    "outputId": "44254665-44c7-4ccf-8886-441c0d8384c7"
   },
   "outputs": [],
   "source": [
    "model = CARE(config, '400steps_30epochs_newselect', basedir='models')\n",
    "model.keras_model.summary()"
   ]
  },
  {
   "cell_type": "code",
   "execution_count": null,
   "metadata": {
    "id": "LNj4nyttrdaJ",
    "outputId": "9a34ffa9-3db9-4c7b-f2b3-faafcde9d7d5"
   },
   "outputs": [],
   "source": [
    "history = model.train(X,Y, validation_data=(X_val,Y_val))"
   ]
  },
  {
   "cell_type": "code",
   "execution_count": null,
   "metadata": {
    "id": "afhieqnOrdaJ"
   },
   "outputs": [],
   "source": [
    "model.export_TF()"
   ]
  },
  {
   "cell_type": "code",
   "execution_count": null,
   "metadata": {
    "colab": {
     "base_uri": "https://localhost:8080/",
     "height": 372
    },
    "id": "dG2tZoy2rdaJ",
    "outputId": "2bb7f808-e94b-472a-9b22-86d6e7f9ee31"
   },
   "outputs": [],
   "source": [
    "print(sorted(list(history.history.keys())))\n",
    "plt.figure(figsize=(16,5))\n",
    "plot_history(history,['loss','val_loss'],['mse','val_mse','mae','val_mae']);"
   ]
  },
  {
   "cell_type": "markdown",
   "metadata": {
    "id": "CUE-sGHrrdaJ"
   },
   "source": [
    "## Predict"
   ]
  },
  {
   "cell_type": "code",
   "execution_count": null,
   "metadata": {
    "id": "WDUrDf3srdaK"
   },
   "outputs": [],
   "source": [
    "from __future__ import print_function, unicode_literals, absolute_import, division\n",
    "import numpy as np\n",
    "import matplotlib.pyplot as plt\n",
    "%matplotlib inline\n",
    "%config InlineBackend.figure_format = 'retina'\n",
    "\n",
    "from tifffile import imread\n",
    "from tifffile import imsave\n",
    "from csbdeep.utils import Path, download_and_extract_zip_file, plot_some\n",
    "from csbdeep.io import save_tiff_imagej_compatible\n",
    "from csbdeep.models import CARE\n",
    "\n",
    "from tqdm import tqdm"
   ]
  },
  {
   "cell_type": "code",
   "execution_count": null,
   "metadata": {
    "id": "b1ny8CfVrdaK",
    "outputId": "6849d01d-f451-4313-d5a3-a582cdb71215"
   },
   "outputs": [],
   "source": [
    "test_lr_dir = 'Gauss/test_lr_tif/'\n",
    "os.listdir(test_lr_dir)[10]"
   ]
  },
  {
   "cell_type": "code",
   "execution_count": null,
   "metadata": {
    "id": "IGy-iuCArdaK",
    "outputId": "7a596f1c-0c4d-4739-d84b-f0508454224d"
   },
   "outputs": [],
   "source": [
    "model = CARE(config=None, name='400steps_30epochs_newselect', basedir='models')"
   ]
  },
  {
   "cell_type": "code",
   "execution_count": null,
   "metadata": {
    "id": "9fquCvPsrdaK",
    "outputId": "fb80625b-9048-4af6-949c-0906bfd63265"
   },
   "outputs": [],
   "source": [
    "from os import listdir\n",
    " \n",
    "def list_files(directory, extension):\n",
    "    return (f for f in listdir(directory) if f.endswith('.' + extension))\n",
    "\n",
    "directory = \"Gauss/test_lr_tif/\"\n",
    "files = list_files(directory, \"tif\")\n",
    "filenames=[]\n",
    "for f in files:\n",
    "    filenames.append(f)\n",
    "\n",
    "print(len(filenames))"
   ]
  },
  {
   "cell_type": "code",
   "execution_count": null,
   "metadata": {
    "id": "VcU9Jw8krdaK",
    "outputId": "e18623ae-745e-478e-e3bc-716f0600938f"
   },
   "outputs": [],
   "source": [
    "filenames[0]"
   ]
  },
  {
   "cell_type": "code",
   "execution_count": null,
   "metadata": {
    "id": "141a1rgnrdaL",
    "outputId": "b81d1413-eb24-4dc1-f6cc-a9fe05d75340"
   },
   "outputs": [],
   "source": [
    "%%time\n",
    "\n",
    "output_dir =  \"Gauss/restored_liver_400steps_30epochs_newselect/\"\n",
    "for image in filenames:\n",
    "    x = imread(directory+image)\n",
    "    restored = model.predict(x, axes='YX')\n",
    "    imsave(output_dir+image, restored)"
   ]
  },
  {
   "cell_type": "code",
   "execution_count": null,
   "metadata": {
    "id": "dsDkXV0ordaL",
    "outputId": "bfa38b8e-d90d-4238-d021-df4ebacb8a3c"
   },
   "outputs": [],
   "source": [
    "y = imread('Gauss/test_hr_tif/liver1peak759.tif')\n",
    "x = imread('Gauss/test_lr_tif/liver1peak759.tif')\n",
    "check = imread('Gauss/restored_liver_400steps_30epochs_newselect/liver1peak759.tif')\n",
    "\n",
    "axes = 'YX'\n",
    "print('image size =', x.shape)\n",
    "print('image axes =', axes)\n",
    "\n",
    "plt.figure(figsize=(20,5))\n",
    "plt.subplot(1,3,1)\n",
    "plt.imshow(x, cmap  =\"magma\")\n",
    "plt.colorbar()\n",
    "plt.title(\"low\")\n",
    "plt.subplot(1,3,2)\n",
    "plt.imshow(y, cmap  =\"magma\")\n",
    "plt.colorbar()\n",
    "plt.title(\"high\")\n",
    "plt.subplot(1,3,3)\n",
    "plt.imshow(check, cmap  =\"magma\")\n",
    "plt.colorbar()\n",
    "plt.clim(0, 1)\n",
    "plt.title(\"restored\");"
   ]
  },
  {
   "cell_type": "code",
   "execution_count": null,
   "metadata": {
    "id": "h3P6ArQErdaL",
    "outputId": "c7bbc303-7169-418b-e55f-d919d5bf97dc"
   },
   "outputs": [],
   "source": [
    "from csbdeep.utils import normalize\n",
    "\n",
    "\n",
    "plt.figure(figsize=(10,5))\n",
    "for _x,_name in zip((x,check,y),('low','CARE','GT')):\n",
    "    plt.plot(normalize(_x,1,99.7)[45], label = _name, lw = 2)\n",
    "\n",
    "plt.legend();"
   ]
  },
  {
   "cell_type": "code",
   "execution_count": null,
   "metadata": {
    "id": "5L-SqjhvrdaL",
    "outputId": "ee47928b-ea02-41b5-e577-bdc3c1cf85d5"
   },
   "outputs": [],
   "source": [
    "os.listdir('Gauss/test_hr_tif')[:4]"
   ]
  },
  {
   "cell_type": "code",
   "execution_count": null,
   "metadata": {
    "id": "ECLExlchrdaL",
    "outputId": "9ec047c9-77d1-4d19-e9f7-4c58a27bbdbf"
   },
   "outputs": [],
   "source": [
    "y = imread('Gauss/test_hr_tif/liver1peak108.tif')\n",
    "x = imread('Gauss/test_lr_tif/liver1peak108.tif')\n",
    "check = imread('Gauss/restored_liver_400steps_30epochs_newselect/liver1peak108.tif')\n",
    "\n",
    "plt.figure(figsize=(25,20))\n",
    "plot_some(np.stack([x,check,y]),\n",
    "          title_list=[['low','CARE','GT']], \n",
    "          pmin=2,pmax=99.8);\n",
    "\n",
    "plt.figure(figsize=(10,5))\n",
    "for _x,_name in zip((x,check,y),('low','CARE','GT')):\n",
    "    plt.plot(normalize(_x,1,99.7)[45], label = _name, lw = 2)\n",
    "\n",
    "plt.legend();"
   ]
  },
  {
   "cell_type": "code",
   "execution_count": null,
   "metadata": {
    "id": "xmRM0sN9rdaM",
    "outputId": "64d53044-1469-487e-c62b-dfa3581df0e5"
   },
   "outputs": [],
   "source": [
    "y = imread('Gauss/test_hr_tif/liver1peak286.tif')\n",
    "x = imread('Gauss/test_lr_tif/liver1peak286.tif')\n",
    "check = imread('Gauss/restored_liver_400steps_30epochs_newselect/liver1peak286.tif')\n",
    "\n",
    "plt.figure(figsize=(25,20))\n",
    "plot_some(np.stack([x,check,y]),\n",
    "          title_list=[['low','CARE','GT']], \n",
    "          pmin=2,pmax=99.8);\n",
    "\n",
    "plt.figure(figsize=(10,5))\n",
    "for _x,_name in zip((x,check,y),('low','CARE','GT')):\n",
    "    plt.plot(normalize(_x,1,99.7)[45], label = _name, lw = 2)\n",
    "\n",
    "plt.legend();"
   ]
  }
 ],
 "metadata": {
  "accelerator": "GPU",
  "colab": {
   "collapsed_sections": [
    "VtXn8a5Bjto7"
   ],
   "name": "liver_data.ipynb",
   "provenance": [],
   "toc_visible": true
  },
  "kernelspec": {
   "display_name": "Python 3",
   "language": "python",
   "name": "python3"
  },
  "language_info": {
   "codemirror_mode": {
    "name": "ipython",
    "version": 3
   },
   "file_extension": ".py",
   "mimetype": "text/x-python",
   "name": "python",
   "nbconvert_exporter": "python",
   "pygments_lexer": "ipython3",
   "version": "3.7.9"
  }
 },
 "nbformat": 4,
 "nbformat_minor": 1
}
